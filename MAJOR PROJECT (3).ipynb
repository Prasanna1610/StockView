{
 "cells": [
  {
   "cell_type": "code",
   "execution_count": 1,
   "metadata": {},
   "outputs": [],
   "source": [
    "import pandas as pd\n",
    "import numpy as np\n",
    "from datetime import timedelta\n",
    "from datetime import datetime\n",
    "from datetime import *"
   ]
  },
  {
   "cell_type": "code",
   "execution_count": 2,
   "metadata": {},
   "outputs": [
    {
     "name": "stderr",
     "output_type": "stream",
     "text": [
      "<ipython-input-2-9622e21e175a>:2: FutureWarning: The pandas.datetime class is deprecated and will be removed from pandas in a future version. Import from datetime module instead.\n",
      "  mydateparser = lambda x: pd.datetime.strptime(x, \"%d-%b-%y\")\n"
     ]
    }
   ],
   "source": [
    "# Reading data from csv while parsing date column as datetime and index\n",
    "mydateparser = lambda x: pd.datetime.strptime(x, \"%d-%b-%y\")\n",
    "stockData_df = pd.read_csv('/Users/psai1/spx.csv', infer_datetime_format=True, \\\n",
    "                          parse_dates=['date'], date_parser=mydateparser, index_col =\"date\")"
   ]
  },
  {
   "cell_type": "code",
   "execution_count": 3,
   "metadata": {},
   "outputs": [
    {
     "data": {
      "text/html": [
       "<div>\n",
       "<style scoped>\n",
       "    .dataframe tbody tr th:only-of-type {\n",
       "        vertical-align: middle;\n",
       "    }\n",
       "\n",
       "    .dataframe tbody tr th {\n",
       "        vertical-align: top;\n",
       "    }\n",
       "\n",
       "    .dataframe thead th {\n",
       "        text-align: right;\n",
       "    }\n",
       "</style>\n",
       "<table border=\"1\" class=\"dataframe\">\n",
       "  <thead>\n",
       "    <tr style=\"text-align: right;\">\n",
       "      <th></th>\n",
       "      <th>close</th>\n",
       "    </tr>\n",
       "    <tr>\n",
       "      <th>date</th>\n",
       "      <th></th>\n",
       "    </tr>\n",
       "  </thead>\n",
       "  <tbody>\n",
       "    <tr>\n",
       "      <th>2004-05-19</th>\n",
       "      <td>1088.68</td>\n",
       "    </tr>\n",
       "    <tr>\n",
       "      <th>2013-07-01</th>\n",
       "      <td>1614.96</td>\n",
       "    </tr>\n",
       "    <tr>\n",
       "      <th>1992-03-16</th>\n",
       "      <td>406.39</td>\n",
       "    </tr>\n",
       "    <tr>\n",
       "      <th>2013-10-10</th>\n",
       "      <td>1692.56</td>\n",
       "    </tr>\n",
       "    <tr>\n",
       "      <th>2000-04-14</th>\n",
       "      <td>1356.56</td>\n",
       "    </tr>\n",
       "  </tbody>\n",
       "</table>\n",
       "</div>"
      ],
      "text/plain": [
       "              close\n",
       "date               \n",
       "2004-05-19  1088.68\n",
       "2013-07-01  1614.96\n",
       "1992-03-16   406.39\n",
       "2013-10-10  1692.56\n",
       "2000-04-14  1356.56"
      ]
     },
     "execution_count": 3,
     "metadata": {},
     "output_type": "execute_result"
    }
   ],
   "source": [
    "stockData_df.sample(5)"
   ]
  },
  {
   "cell_type": "code",
   "execution_count": 4,
   "metadata": {},
   "outputs": [
    {
     "data": {
      "text/plain": [
       "(8192, 1)"
      ]
     },
     "execution_count": 4,
     "metadata": {},
     "output_type": "execute_result"
    }
   ],
   "source": [
    "stockData_df.shape"
   ]
  },
  {
   "cell_type": "code",
   "execution_count": 5,
   "metadata": {},
   "outputs": [],
   "source": [
    "# Taking latest complete one year data to ease coding\n",
    "stockData_2017_df = stockData_df[(stockData_df.index.year == 2017)]"
   ]
  },
  {
   "cell_type": "code",
   "execution_count": 6,
   "metadata": {},
   "outputs": [
    {
     "name": "stdout",
     "output_type": "stream",
     "text": [
      "              close\n",
      "date               \n",
      "2017-01-03  2257.83\n",
      "2017-01-04  2270.75\n",
      "2017-01-05  2269.00\n",
      "2017-01-06  2276.98\n",
      "2017-01-09  2268.90\n",
      "...             ...\n",
      "2017-12-22  2683.34\n",
      "2017-12-26  2680.50\n",
      "2017-12-27  2682.62\n",
      "2017-12-28  2687.54\n",
      "2017-12-29  2673.61\n",
      "\n",
      "[251 rows x 1 columns]\n"
     ]
    }
   ],
   "source": [
    "stockData_2017_df.shape\n",
    "print(stockData_2017_df)"
   ]
  },
  {
   "cell_type": "code",
   "execution_count": 7,
   "metadata": {},
   "outputs": [],
   "source": [
    "#Check if the date is in dataframe or not\n",
    "def Get_Valid_Date(given_date,df):\n",
    "    try:\n",
    "        giv_date=str(given_date)\n",
    "        year=giv_date[0:4]\n",
    "        month=giv_date[5:7]\n",
    "        day=giv_date[8:10]\n",
    "        current_date=datetime(int(year),int(month),int(day))\n",
    "        cur_date=current_date.date()\n",
    "        condition=given_date in df.index\n",
    "        if cur_date>date(2017, 12, 29):\n",
    "            return date(2017, 12, 29)\n",
    "        elif cur_date<date(2017, 1, 3):\n",
    "            return date(2017, 1, 3)\n",
    "        elif condition==True:\n",
    "            return cur_date\n",
    "        else:\n",
    "            reduced_date = current_date - timedelta(days=1)\n",
    "            return Get_Valid_Date(reduced_date,df)\n",
    "    except ValueError:\n",
    "        giv_date=str(given_date)\n",
    "        year=giv_date[0:4]\n",
    "        month=giv_date[5:7]\n",
    "        int_day=int(giv_date[8:10])-1\n",
    "        day=str(int_day)\n",
    "        present_date=year+\"-\"+month+\"-\"+day\n",
    "        return Get_Valid_Date(present_date,df)\n",
    "        \n",
    "        "
   ]
  },
  {
   "cell_type": "code",
   "execution_count": 8,
   "metadata": {},
   "outputs": [
    {
     "data": {
      "text/plain": [
       "datetime.date(2017, 3, 3)"
      ]
     },
     "execution_count": 8,
     "metadata": {},
     "output_type": "execute_result"
    }
   ],
   "source": [
    "checked_date=Get_Valid_Date(\"2017-03-03\",stockData_2017_df)\n",
    "checked_date "
   ]
  },
  {
   "cell_type": "code",
   "execution_count": 9,
   "metadata": {},
   "outputs": [],
   "source": [
    "# Get closing value for the given date \n",
    "def Get_closing_Value(given_date,df):\n",
    "    result_date=str(Get_Valid_Date(given_date,df))\n",
    "    day_close=df.loc[result_date,[\"close\"]]\n",
    "    return day_close"
   ]
  },
  {
   "cell_type": "code",
   "execution_count": 10,
   "metadata": {},
   "outputs": [
    {
     "data": {
      "text/plain": [
       "close    2383.12\n",
       "Name: 2017-03-03 00:00:00, dtype: float64"
      ]
     },
     "execution_count": 10,
     "metadata": {},
     "output_type": "execute_result"
    }
   ],
   "source": [
    "Get_closing_Value(\"2017-03-03\",stockData_2017_df)"
   ]
  },
  {
   "cell_type": "code",
   "execution_count": 11,
   "metadata": {},
   "outputs": [],
   "source": [
    "# Calculate percentage growth when given day closing and dataframe\n",
    "def Cal_per_growth(d_close, df):\n",
    "    final_close=df.iloc[-1]\n",
    "    d_close_value=Get_closing_Value(d_close,df)\n",
    "    return ((final_close-d_close_value)/d_close_value)*100"
   ]
  },
  {
   "cell_type": "code",
   "execution_count": 12,
   "metadata": {},
   "outputs": [
    {
     "data": {
      "text/plain": [
       "close    12.189483\n",
       "dtype: float64"
      ]
     },
     "execution_count": 12,
     "metadata": {},
     "output_type": "execute_result"
    }
   ],
   "source": [
    "Cal_per_growth(\"2017-03-03\",stockData_2017_df)"
   ]
  },
  {
   "cell_type": "code",
   "execution_count": 13,
   "metadata": {},
   "outputs": [],
   "source": [
    "# Calculate average growth of a given day of the month in the given dataframe\n",
    "def Cal_avg_growth(day_of_month, df):\n",
    "    sum=0\n",
    "    for i in range(1,10):\n",
    "        if day_of_month<10:  \n",
    "            loop_date=\"2017-0\"+str(i)+\"-0\"+str(day_of_month)\n",
    "            loop_avg_growth=Cal_per_growth(loop_date,df)\n",
    "            sum=sum+loop_avg_growth\n",
    "        else :  \n",
    "            loop_date=\"2017-0\"+str(i)+\"-\"+str(day_of_month)\n",
    "            loop_avg_growth=Cal_per_growth(loop_date,df)\n",
    "            sum=sum+loop_avg_growth\n",
    "    for i in range(10,13):\n",
    "        if day_of_month<10:  \n",
    "            loop_date=\"2017-\"+str(i)+\"-0\"+str(day_of_month)\n",
    "            loop_avg_growth=Cal_per_growth(loop_date,df)\n",
    "            sum=sum+loop_avg_growth\n",
    "        else :  \n",
    "            loop_date=\"2017-\"+str(i)+\"-\"+str(day_of_month)\n",
    "            loop_avg_growth=Cal_per_growth(loop_date,df)\n",
    "            sum=sum+loop_avg_growth\n",
    "            \n",
    "    avg_percent_growth_one_day_full_year=sum/12\n",
    "    return avg_percent_growth_one_day_full_year"
   ]
  },
  {
   "cell_type": "code",
   "execution_count": 15,
   "metadata": {},
   "outputs": [
    {
     "data": {
      "text/plain": [
       "close    8.705487\n",
       "dtype: float64"
      ]
     },
     "execution_count": 15,
     "metadata": {},
     "output_type": "execute_result"
    }
   ],
   "source": [
    "Cal_avg_growth(30,stockData_2017_df)"
   ]
  },
  {
   "cell_type": "code",
   "execution_count": 16,
   "metadata": {},
   "outputs": [],
   "source": [
    "def Cal_avg_growth_allDays(df):\n",
    "    final= pd.DataFrame({'day': [1,2,3,4,5,6,7,8,9,10,11,12,13,14,15,16,17,18,19,20,21,22,23,24,25,26,27,28,29,30,31]})\n",
    "    final.set_index('day')\n",
    "    result=[]\n",
    "    for i in range(1,32):\n",
    "        result.append(Cal_avg_growth(i, df))\n",
    "    final[\"Average Growth\"]=result\n",
    "    return final"
   ]
  },
  {
   "cell_type": "code",
   "execution_count": 17,
   "metadata": {},
   "outputs": [
    {
     "data": {
      "text/html": [
       "<div>\n",
       "<style scoped>\n",
       "    .dataframe tbody tr th:only-of-type {\n",
       "        vertical-align: middle;\n",
       "    }\n",
       "\n",
       "    .dataframe tbody tr th {\n",
       "        vertical-align: top;\n",
       "    }\n",
       "\n",
       "    .dataframe thead th {\n",
       "        text-align: right;\n",
       "    }\n",
       "</style>\n",
       "<table border=\"1\" class=\"dataframe\">\n",
       "  <thead>\n",
       "    <tr style=\"text-align: right;\">\n",
       "      <th></th>\n",
       "      <th>day</th>\n",
       "      <th>Average Growth</th>\n",
       "    </tr>\n",
       "  </thead>\n",
       "  <tbody>\n",
       "    <tr>\n",
       "      <th>0</th>\n",
       "      <td>1</td>\n",
       "      <td>close    9.968917\n",
       "dtype: float64</td>\n",
       "    </tr>\n",
       "    <tr>\n",
       "      <th>1</th>\n",
       "      <td>2</td>\n",
       "      <td>close    9.933011\n",
       "dtype: float64</td>\n",
       "    </tr>\n",
       "    <tr>\n",
       "      <th>2</th>\n",
       "      <td>3</td>\n",
       "      <td>close    9.838061\n",
       "dtype: float64</td>\n",
       "    </tr>\n",
       "    <tr>\n",
       "      <th>3</th>\n",
       "      <td>4</td>\n",
       "      <td>close    9.752149\n",
       "dtype: float64</td>\n",
       "    </tr>\n",
       "    <tr>\n",
       "      <th>4</th>\n",
       "      <td>5</td>\n",
       "      <td>close    9.799334\n",
       "dtype: float64</td>\n",
       "    </tr>\n",
       "    <tr>\n",
       "      <th>5</th>\n",
       "      <td>6</td>\n",
       "      <td>close    9.881239\n",
       "dtype: float64</td>\n",
       "    </tr>\n",
       "    <tr>\n",
       "      <th>6</th>\n",
       "      <td>7</td>\n",
       "      <td>close    9.804748\n",
       "dtype: float64</td>\n",
       "    </tr>\n",
       "    <tr>\n",
       "      <th>7</th>\n",
       "      <td>8</td>\n",
       "      <td>close    9.793305\n",
       "dtype: float64</td>\n",
       "    </tr>\n",
       "    <tr>\n",
       "      <th>8</th>\n",
       "      <td>9</td>\n",
       "      <td>close    9.833718\n",
       "dtype: float64</td>\n",
       "    </tr>\n",
       "    <tr>\n",
       "      <th>9</th>\n",
       "      <td>10</td>\n",
       "      <td>close    9.862929\n",
       "dtype: float64</td>\n",
       "    </tr>\n",
       "    <tr>\n",
       "      <th>10</th>\n",
       "      <td>11</td>\n",
       "      <td>close    9.724863\n",
       "dtype: float64</td>\n",
       "    </tr>\n",
       "    <tr>\n",
       "      <th>11</th>\n",
       "      <td>12</td>\n",
       "      <td>close    9.709523\n",
       "dtype: float64</td>\n",
       "    </tr>\n",
       "    <tr>\n",
       "      <th>12</th>\n",
       "      <td>13</td>\n",
       "      <td>close    9.625768\n",
       "dtype: float64</td>\n",
       "    </tr>\n",
       "    <tr>\n",
       "      <th>13</th>\n",
       "      <td>14</td>\n",
       "      <td>close    9.559391\n",
       "dtype: float64</td>\n",
       "    </tr>\n",
       "    <tr>\n",
       "      <th>14</th>\n",
       "      <td>15</td>\n",
       "      <td>close    9.37136\n",
       "dtype: float64</td>\n",
       "    </tr>\n",
       "    <tr>\n",
       "      <th>15</th>\n",
       "      <td>16</td>\n",
       "      <td>close    9.299863\n",
       "dtype: float64</td>\n",
       "    </tr>\n",
       "    <tr>\n",
       "      <th>16</th>\n",
       "      <td>17</td>\n",
       "      <td>close    9.574407\n",
       "dtype: float64</td>\n",
       "    </tr>\n",
       "    <tr>\n",
       "      <th>17</th>\n",
       "      <td>18</td>\n",
       "      <td>close    9.497625\n",
       "dtype: float64</td>\n",
       "    </tr>\n",
       "    <tr>\n",
       "      <th>18</th>\n",
       "      <td>19</td>\n",
       "      <td>close    9.376127\n",
       "dtype: float64</td>\n",
       "    </tr>\n",
       "    <tr>\n",
       "      <th>19</th>\n",
       "      <td>20</td>\n",
       "      <td>close    9.299081\n",
       "dtype: float64</td>\n",
       "    </tr>\n",
       "    <tr>\n",
       "      <th>20</th>\n",
       "      <td>21</td>\n",
       "      <td>close    9.341407\n",
       "dtype: float64</td>\n",
       "    </tr>\n",
       "    <tr>\n",
       "      <th>21</th>\n",
       "      <td>22</td>\n",
       "      <td>close    9.203995\n",
       "dtype: float64</td>\n",
       "    </tr>\n",
       "    <tr>\n",
       "      <th>22</th>\n",
       "      <td>23</td>\n",
       "      <td>close    9.271228\n",
       "dtype: float64</td>\n",
       "    </tr>\n",
       "    <tr>\n",
       "      <th>23</th>\n",
       "      <td>24</td>\n",
       "      <td>close    9.073166\n",
       "dtype: float64</td>\n",
       "    </tr>\n",
       "    <tr>\n",
       "      <th>24</th>\n",
       "      <td>25</td>\n",
       "      <td>close    8.916483\n",
       "dtype: float64</td>\n",
       "    </tr>\n",
       "    <tr>\n",
       "      <th>25</th>\n",
       "      <td>26</td>\n",
       "      <td>close    8.916953\n",
       "dtype: float64</td>\n",
       "    </tr>\n",
       "    <tr>\n",
       "      <th>26</th>\n",
       "      <td>27</td>\n",
       "      <td>close    8.894166\n",
       "dtype: float64</td>\n",
       "    </tr>\n",
       "    <tr>\n",
       "      <th>27</th>\n",
       "      <td>28</td>\n",
       "      <td>close    8.685668\n",
       "dtype: float64</td>\n",
       "    </tr>\n",
       "    <tr>\n",
       "      <th>28</th>\n",
       "      <td>29</td>\n",
       "      <td>close    8.760497\n",
       "dtype: float64</td>\n",
       "    </tr>\n",
       "    <tr>\n",
       "      <th>29</th>\n",
       "      <td>30</td>\n",
       "      <td>close    8.705487\n",
       "dtype: float64</td>\n",
       "    </tr>\n",
       "    <tr>\n",
       "      <th>30</th>\n",
       "      <td>31</td>\n",
       "      <td>close    8.686527\n",
       "dtype: float64</td>\n",
       "    </tr>\n",
       "  </tbody>\n",
       "</table>\n",
       "</div>"
      ],
      "text/plain": [
       "    day                    Average Growth\n",
       "0     1  close    9.968917\n",
       "dtype: float64\n",
       "1     2  close    9.933011\n",
       "dtype: float64\n",
       "2     3  close    9.838061\n",
       "dtype: float64\n",
       "3     4  close    9.752149\n",
       "dtype: float64\n",
       "4     5  close    9.799334\n",
       "dtype: float64\n",
       "5     6  close    9.881239\n",
       "dtype: float64\n",
       "6     7  close    9.804748\n",
       "dtype: float64\n",
       "7     8  close    9.793305\n",
       "dtype: float64\n",
       "8     9  close    9.833718\n",
       "dtype: float64\n",
       "9    10  close    9.862929\n",
       "dtype: float64\n",
       "10   11  close    9.724863\n",
       "dtype: float64\n",
       "11   12  close    9.709523\n",
       "dtype: float64\n",
       "12   13  close    9.625768\n",
       "dtype: float64\n",
       "13   14  close    9.559391\n",
       "dtype: float64\n",
       "14   15   close    9.37136\n",
       "dtype: float64\n",
       "15   16  close    9.299863\n",
       "dtype: float64\n",
       "16   17  close    9.574407\n",
       "dtype: float64\n",
       "17   18  close    9.497625\n",
       "dtype: float64\n",
       "18   19  close    9.376127\n",
       "dtype: float64\n",
       "19   20  close    9.299081\n",
       "dtype: float64\n",
       "20   21  close    9.341407\n",
       "dtype: float64\n",
       "21   22  close    9.203995\n",
       "dtype: float64\n",
       "22   23  close    9.271228\n",
       "dtype: float64\n",
       "23   24  close    9.073166\n",
       "dtype: float64\n",
       "24   25  close    8.916483\n",
       "dtype: float64\n",
       "25   26  close    8.916953\n",
       "dtype: float64\n",
       "26   27  close    8.894166\n",
       "dtype: float64\n",
       "27   28  close    8.685668\n",
       "dtype: float64\n",
       "28   29  close    8.760497\n",
       "dtype: float64\n",
       "29   30  close    8.705487\n",
       "dtype: float64\n",
       "30   31  close    8.686527\n",
       "dtype: float64"
      ]
     },
     "execution_count": 17,
     "metadata": {},
     "output_type": "execute_result"
    }
   ],
   "source": [
    "Result_table=Cal_avg_growth_allDays(stockData_2017_df)\n",
    "Result_table"
   ]
  },
  {
   "cell_type": "code",
   "execution_count": 28,
   "metadata": {},
   "outputs": [],
   "source": [
    "import matplotlib.pyplot as plt\n",
    "import seaborn as sn\n",
    "%matplotlib inline"
   ]
  },
  {
   "cell_type": "code",
   "execution_count": 31,
   "metadata": {},
   "outputs": [
    {
     "data": {
      "image/png": "[encoded data removed]",
      "text/plain": [
       "<Figure size 432x288 with 1 Axes>"
      ]
     },
     "metadata": {
      "needs_background": "light"
     },
     "output_type": "display_data"
    }
   ],
   "source": [
    "x=Result_table[\"day\"]\n",
    "y=Result_table[\"Average Growth\"]\n",
    "plt.plot(x, y)\n",
    "plt.xlabel('DAY')\n",
    "plt.ylabel('AVERAGE GROWTH')\n",
    "plt.title('AVERAGE GROWTH FOR EACH DAY IN THE YEAR 2017')\n",
    "plt.show()"
   ]
  },
  {
   "cell_type": "code",
   "execution_count": 33,
   "metadata": {
    "scrolled": true
   },
   "outputs": [
    {
     "data": {
      "image/png": "[encoded data removed]",
      "text/plain": [
       "<Figure size 432x288 with 1 Axes>"
      ]
     },
     "metadata": {
      "needs_background": "light"
     },
     "output_type": "display_data"
    }
   ],
   "source": [
    "x=Result_table[\"day\"]\n",
    "y=Result_table[\"Average Growth\"]\n",
    "plt.scatter(x, y, label= \"stars\", color= \"green\", marker= \"*\", s=31)\n",
    "plt.xlabel('DAY')\n",
    "plt.ylabel('AVERAGE GROWTH')\n",
    "plt.title('AVERAGE GROWTH FOR EACH DAY IN THE YEAR 2017')\n",
    "plt.legend()\n",
    "plt.show()"
   ]
  },
  {
   "cell_type": "code",
   "execution_count": 17,
   "metadata": {},
   "outputs": [],
   "source": [
    "Result_table.to_csv('Stocks_data.csv', header=True, index=False)"
   ]
  },
  {
   "cell_type": "code",
   "execution_count": 1,
   "metadata": {
    "_kg_hide-input": true,
    "execution": {
     "iopub.execute_input": "2021-05-26T05:44:13.148223Z",
     "iopub.status.busy": "2021-05-26T05:44:13.147789Z",
     "iopub.status.idle": "2021-05-26T05:44:13.154803Z",
     "shell.execute_reply": "2021-05-26T05:44:13.153959Z",
     "shell.execute_reply.started": "2021-05-26T05:44:13.148137Z"
    },
    "id": "1vvowgFiFDSw"
   },
   "outputs": [],
   "source": [
    "import numpy as np\n",
    "import pandas as pd"
   ]
  },
  {
   "cell_type": "markdown",
   "metadata": {},
   "source": [
    "# **Loading the data**"
   ]
  },
  {
   "cell_type": "code",
   "execution_count": 2,
   "metadata": {
    "execution": {
     "iopub.execute_input": "2021-05-26T05:44:13.156632Z",
     "iopub.status.busy": "2021-05-26T05:44:13.156209Z",
     "iopub.status.idle": "2021-05-26T05:44:13.396301Z",
     "shell.execute_reply": "2021-05-26T05:44:13.395433Z",
     "shell.execute_reply.started": "2021-05-26T05:44:13.156601Z"
    },
    "id": "osxCkBCdFUGw"
   },
   "outputs": [],
   "source": [
    "df = pd.read_csv(\"stock headlines.csv\", encoding = 'ISO-8859-1')"
   ]
  },
  {
   "cell_type": "markdown",
   "metadata": {
    "id": "5DAJPl26Am0B"
   },
   "source": [
    "# **Exploring the dataset**"
   ]
  },
  {
   "cell_type": "code",
   "execution_count": 3,
   "metadata": {
    "execution": {
     "iopub.execute_input": "2021-05-26T05:44:13.398834Z",
     "iopub.status.busy": "2021-05-26T05:44:13.39853Z",
     "iopub.status.idle": "2021-05-26T05:44:13.408995Z",
     "shell.execute_reply": "2021-05-26T05:44:13.408008Z",
     "shell.execute_reply.started": "2021-05-26T05:44:13.398804Z"
    },
    "id": "FH2rM0eMFpdD",
    "outputId": "348c6fc7-635c-4214-d00b-23a94046a1a4"
   },
   "outputs": [
    {
     "data": {
      "text/plain": [
       "Index(['Date', 'Label', 'Top1', 'Top2', 'Top3', 'Top4', 'Top5', 'Top6', 'Top7',\n",
       "       'Top8', 'Top9', 'Top10', 'Top11', 'Top12', 'Top13', 'Top14', 'Top15',\n",
       "       'Top16', 'Top17', 'Top18', 'Top19', 'Top20', 'Top21', 'Top22', 'Top23',\n",
       "       'Top24', 'Top25'],\n",
       "      dtype='object')"
      ]
     },
     "execution_count": 3,
     "metadata": {},
     "output_type": "execute_result"
    }
   ],
   "source": [
    "df.columns"
   ]
  },
  {
   "cell_type": "code",
   "execution_count": 4,
   "metadata": {
    "execution": {
     "iopub.execute_input": "2021-05-26T05:44:13.410669Z",
     "iopub.status.busy": "2021-05-26T05:44:13.410389Z",
     "iopub.status.idle": "2021-05-26T05:44:13.423253Z",
     "shell.execute_reply": "2021-05-26T05:44:13.42223Z",
     "shell.execute_reply.started": "2021-05-26T05:44:13.410642Z"
    },
    "id": "Lo08VgVxF5GS",
    "outputId": "df0db46b-a60c-4c7a-dc8a-858132d84aac"
   },
   "outputs": [
    {
     "data": {
      "text/plain": [
       "(4101, 27)"
      ]
     },
     "execution_count": 4,
     "metadata": {},
     "output_type": "execute_result"
    }
   ],
   "source": [
    "df.shape"
   ]
  },
  {
   "cell_type": "code",
   "execution_count": 5,
   "metadata": {
    "execution": {
     "iopub.execute_input": "2021-05-26T05:44:13.425001Z",
     "iopub.status.busy": "2021-05-26T05:44:13.424675Z",
     "iopub.status.idle": "2021-05-26T05:44:13.478524Z",
     "shell.execute_reply": "2021-05-26T05:44:13.477523Z",
     "shell.execute_reply.started": "2021-05-26T05:44:13.42497Z"
    },
    "id": "J7RvKfrTBqo5",
    "outputId": "61cd42b7-5eea-4b98-eecf-14ccf5beadc9"
   },
   "outputs": [
    {
     "data": {
      "text/html": [
       "<div>\n",
       "<style scoped>\n",
       "    .dataframe tbody tr th:only-of-type {\n",
       "        vertical-align: middle;\n",
       "    }\n",
       "\n",
       "    .dataframe tbody tr th {\n",
       "        vertical-align: top;\n",
       "    }\n",
       "\n",
       "    .dataframe thead th {\n",
       "        text-align: right;\n",
       "    }\n",
       "</style>\n",
       "<table border=\"1\" class=\"dataframe\">\n",
       "  <thead>\n",
       "    <tr style=\"text-align: right;\">\n",
       "      <th></th>\n",
       "      <th>Date</th>\n",
       "      <th>Label</th>\n",
       "      <th>Top1</th>\n",
       "      <th>Top2</th>\n",
       "      <th>Top3</th>\n",
       "      <th>Top4</th>\n",
       "      <th>Top5</th>\n",
       "      <th>Top6</th>\n",
       "      <th>Top7</th>\n",
       "      <th>Top8</th>\n",
       "      <th>...</th>\n",
       "      <th>Top16</th>\n",
       "      <th>Top17</th>\n",
       "      <th>Top18</th>\n",
       "      <th>Top19</th>\n",
       "      <th>Top20</th>\n",
       "      <th>Top21</th>\n",
       "      <th>Top22</th>\n",
       "      <th>Top23</th>\n",
       "      <th>Top24</th>\n",
       "      <th>Top25</th>\n",
       "    </tr>\n",
       "  </thead>\n",
       "  <tbody>\n",
       "    <tr>\n",
       "      <th>0</th>\n",
       "      <td>2000-01-03</td>\n",
       "      <td>0</td>\n",
       "      <td>A 'hindrance to operations': extracts from the...</td>\n",
       "      <td>Scorecard</td>\n",
       "      <td>Hughes' instant hit buoys Blues</td>\n",
       "      <td>Jack gets his skates on at ice-cold Alex</td>\n",
       "      <td>Chaos as Maracana builds up for United</td>\n",
       "      <td>Depleted Leicester prevail as Elliott spoils E...</td>\n",
       "      <td>Hungry Spurs sense rich pickings</td>\n",
       "      <td>Gunners so wide of an easy target</td>\n",
       "      <td>...</td>\n",
       "      <td>Flintoff injury piles on woe for England</td>\n",
       "      <td>Hunters threaten Jospin with new battle of the...</td>\n",
       "      <td>Kohl's successor drawn into scandal</td>\n",
       "      <td>The difference between men and women</td>\n",
       "      <td>Sara Denver, nurse turned solicitor</td>\n",
       "      <td>Diana's landmine crusade put Tories in a panic</td>\n",
       "      <td>Yeltsin's resignation caught opposition flat-f...</td>\n",
       "      <td>Russian roulette</td>\n",
       "      <td>Sold out</td>\n",
       "      <td>Recovering a title</td>\n",
       "    </tr>\n",
       "    <tr>\n",
       "      <th>1</th>\n",
       "      <td>2000-01-04</td>\n",
       "      <td>0</td>\n",
       "      <td>Scorecard</td>\n",
       "      <td>The best lake scene</td>\n",
       "      <td>Leader: German sleaze inquiry</td>\n",
       "      <td>Cheerio, boyo</td>\n",
       "      <td>The main recommendations</td>\n",
       "      <td>Has Cubie killed fees?</td>\n",
       "      <td>Has Cubie killed fees?</td>\n",
       "      <td>Has Cubie killed fees?</td>\n",
       "      <td>...</td>\n",
       "      <td>On the critical list</td>\n",
       "      <td>The timing of their lives</td>\n",
       "      <td>Dear doctor</td>\n",
       "      <td>Irish court halts IRA man's extradition to Nor...</td>\n",
       "      <td>Burundi peace initiative fades after rebels re...</td>\n",
       "      <td>PE points the way forward to the ECB</td>\n",
       "      <td>Campaigners keep up pressure on Nazi war crime...</td>\n",
       "      <td>Jane Ratcliffe</td>\n",
       "      <td>Yet more things you wouldn't know without the ...</td>\n",
       "      <td>Millennium bug fails to bite</td>\n",
       "    </tr>\n",
       "    <tr>\n",
       "      <th>2</th>\n",
       "      <td>2000-01-05</td>\n",
       "      <td>0</td>\n",
       "      <td>Coventry caught on counter by Flo</td>\n",
       "      <td>United's rivals on the road to Rio</td>\n",
       "      <td>Thatcher issues defence before trial by video</td>\n",
       "      <td>Police help Smith lay down the law at Everton</td>\n",
       "      <td>Tale of Trautmann bears two more retellings</td>\n",
       "      <td>England on the rack</td>\n",
       "      <td>Pakistan retaliate with call for video of Walsh</td>\n",
       "      <td>Cullinan continues his Cape monopoly</td>\n",
       "      <td>...</td>\n",
       "      <td>South Melbourne (Australia)</td>\n",
       "      <td>Necaxa (Mexico)</td>\n",
       "      <td>Real Madrid (Spain)</td>\n",
       "      <td>Raja Casablanca (Morocco)</td>\n",
       "      <td>Corinthians (Brazil)</td>\n",
       "      <td>Tony's pet project</td>\n",
       "      <td>Al Nassr (Saudi Arabia)</td>\n",
       "      <td>Ideal Holmes show</td>\n",
       "      <td>Pinochet leaves hospital after tests</td>\n",
       "      <td>Useful links</td>\n",
       "    </tr>\n",
       "  </tbody>\n",
       "</table>\n",
       "<p>3 rows × 27 columns</p>\n",
       "</div>"
      ],
      "text/plain": [
       "         Date  Label                                               Top1  \\\n",
       "0  2000-01-03      0  A 'hindrance to operations': extracts from the...   \n",
       "1  2000-01-04      0                                          Scorecard   \n",
       "2  2000-01-05      0                  Coventry caught on counter by Flo   \n",
       "\n",
       "                                 Top2  \\\n",
       "0                           Scorecard   \n",
       "1                 The best lake scene   \n",
       "2  United's rivals on the road to Rio   \n",
       "\n",
       "                                            Top3  \\\n",
       "0                Hughes' instant hit buoys Blues   \n",
       "1                  Leader: German sleaze inquiry   \n",
       "2  Thatcher issues defence before trial by video   \n",
       "\n",
       "                                            Top4  \\\n",
       "0       Jack gets his skates on at ice-cold Alex   \n",
       "1                                  Cheerio, boyo   \n",
       "2  Police help Smith lay down the law at Everton   \n",
       "\n",
       "                                          Top5  \\\n",
       "0       Chaos as Maracana builds up for United   \n",
       "1                     The main recommendations   \n",
       "2  Tale of Trautmann bears two more retellings   \n",
       "\n",
       "                                                Top6  \\\n",
       "0  Depleted Leicester prevail as Elliott spoils E...   \n",
       "1                             Has Cubie killed fees?   \n",
       "2                                England on the rack   \n",
       "\n",
       "                                              Top7  \\\n",
       "0                 Hungry Spurs sense rich pickings   \n",
       "1                           Has Cubie killed fees?   \n",
       "2  Pakistan retaliate with call for video of Walsh   \n",
       "\n",
       "                                   Top8  ...  \\\n",
       "0     Gunners so wide of an easy target  ...   \n",
       "1                Has Cubie killed fees?  ...   \n",
       "2  Cullinan continues his Cape monopoly  ...   \n",
       "\n",
       "                                      Top16  \\\n",
       "0  Flintoff injury piles on woe for England   \n",
       "1                      On the critical list   \n",
       "2               South Melbourne (Australia)   \n",
       "\n",
       "                                               Top17  \\\n",
       "0  Hunters threaten Jospin with new battle of the...   \n",
       "1                          The timing of their lives   \n",
       "2                                    Necaxa (Mexico)   \n",
       "\n",
       "                                 Top18  \\\n",
       "0  Kohl's successor drawn into scandal   \n",
       "1                          Dear doctor   \n",
       "2                  Real Madrid (Spain)   \n",
       "\n",
       "                                               Top19  \\\n",
       "0               The difference between men and women   \n",
       "1  Irish court halts IRA man's extradition to Nor...   \n",
       "2                          Raja Casablanca (Morocco)   \n",
       "\n",
       "                                               Top20  \\\n",
       "0                Sara Denver, nurse turned solicitor   \n",
       "1  Burundi peace initiative fades after rebels re...   \n",
       "2                               Corinthians (Brazil)   \n",
       "\n",
       "                                            Top21  \\\n",
       "0  Diana's landmine crusade put Tories in a panic   \n",
       "1            PE points the way forward to the ECB   \n",
       "2                              Tony's pet project   \n",
       "\n",
       "                                               Top22              Top23  \\\n",
       "0  Yeltsin's resignation caught opposition flat-f...   Russian roulette   \n",
       "1  Campaigners keep up pressure on Nazi war crime...     Jane Ratcliffe   \n",
       "2                            Al Nassr (Saudi Arabia)  Ideal Holmes show   \n",
       "\n",
       "                                               Top24  \\\n",
       "0                                           Sold out   \n",
       "1  Yet more things you wouldn't know without the ...   \n",
       "2               Pinochet leaves hospital after tests   \n",
       "\n",
       "                          Top25  \n",
       "0            Recovering a title  \n",
       "1  Millennium bug fails to bite  \n",
       "2                  Useful links  \n",
       "\n",
       "[3 rows x 27 columns]"
      ]
     },
     "execution_count": 5,
     "metadata": {},
     "output_type": "execute_result"
    }
   ],
   "source": [
    "df.head(3)"
   ]
  },
  {
   "cell_type": "markdown",
   "metadata": {
    "id": "gFZh_ONwCsFT"
   },
   "source": [
    "*Note: Here 'Label' is a binary attribute which consists 0 - Stock \n",
    "price goes down or stays the same, 1 - Stock price goes up.*"
   ]
  },
  {
   "cell_type": "code",
   "execution_count": 6,
   "metadata": {
    "execution": {
     "iopub.execute_input": "2021-05-26T05:44:13.481604Z",
     "iopub.status.busy": "2021-05-26T05:44:13.481293Z",
     "iopub.status.idle": "2021-05-26T05:44:14.572291Z",
     "shell.execute_reply": "2021-05-26T05:44:14.571134Z",
     "shell.execute_reply.started": "2021-05-26T05:44:13.481577Z"
    },
    "id": "0IWzslypBqmW"
   },
   "outputs": [],
   "source": [
    "# Importing essential libraries for visualization\n",
    "import matplotlib.pyplot as plt\n",
    "import seaborn as sns\n",
    "%matplotlib inline"
   ]
  },
  {
   "cell_type": "code",
   "execution_count": 7,
   "metadata": {
    "execution": {
     "iopub.execute_input": "2021-05-26T05:44:14.577551Z",
     "iopub.status.busy": "2021-05-26T05:44:14.576845Z",
     "iopub.status.idle": "2021-05-26T05:44:14.765142Z",
     "shell.execute_reply": "2021-05-26T05:44:14.763816Z",
     "shell.execute_reply.started": "2021-05-26T05:44:14.577491Z"
    },
    "id": "Dxiv0CcxBqjI",
    "outputId": "a26516ad-2148-4cfb-86da-389e3cfb461c"
   },
   "outputs": [
    {
     "data": {
      "image/png": "[encoded data removed]",
      "text/plain": [
       "<Figure size 576x576 with 1 Axes>"
      ]
     },
     "metadata": {
      "needs_background": "light"
     },
     "output_type": "display_data"
    }
   ],
   "source": [
    "# Visualizing the count of 'Label' column from the dataset\n",
    "plt.figure(figsize=(8,8))\n",
    "sns.countplot(x='Label', data=df)\n",
    "plt.xlabel('Stock Sentiments (0-Down/Same, 1-Up)')\n",
    "plt.ylabel('Count')\n",
    "plt.show()"
   ]
  },
  {
   "cell_type": "markdown",
   "metadata": {
    "id": "NWBuNTqxJuRp"
   },
   "source": [
    "# **Data Cleaning and Preprocessing**"
   ]
  },
  {
   "cell_type": "code",
   "execution_count": 8,
   "metadata": {
    "execution": {
     "iopub.execute_input": "2021-05-26T05:44:14.767563Z",
     "iopub.status.busy": "2021-05-26T05:44:14.766927Z",
     "iopub.status.idle": "2021-05-26T05:44:14.772502Z",
     "shell.execute_reply": "2021-05-26T05:44:14.771739Z",
     "shell.execute_reply.started": "2021-05-26T05:44:14.767529Z"
    },
    "id": "ABgH-wfdO9EN",
    "outputId": "4055ad69-f852-46c1-da85-b497cc105525"
   },
   "outputs": [
    {
     "name": "stdout",
     "output_type": "stream",
     "text": [
      "(4101, 27)\n"
     ]
    }
   ],
   "source": [
    "print(df.shape)"
   ]
  },
  {
   "cell_type": "code",
   "execution_count": 9,
   "metadata": {
    "execution": {
     "iopub.execute_input": "2021-05-26T05:44:14.774298Z",
     "iopub.status.busy": "2021-05-26T05:44:14.773724Z",
     "iopub.status.idle": "2021-05-26T05:44:14.802736Z",
     "shell.execute_reply": "2021-05-26T05:44:14.801981Z",
     "shell.execute_reply.started": "2021-05-26T05:44:14.774262Z"
    },
    "id": "nF_JZIWrO6xO",
    "outputId": "17b72278-baf1-4366-a3e5-82985990614c"
   },
   "outputs": [
    {
     "data": {
      "text/plain": [
       "Date     False\n",
       "Label    False\n",
       "Top1     False\n",
       "Top2     False\n",
       "Top3     False\n",
       "Top4     False\n",
       "Top5     False\n",
       "Top6     False\n",
       "Top7     False\n",
       "Top8     False\n",
       "Top9     False\n",
       "Top10    False\n",
       "Top11    False\n",
       "Top12    False\n",
       "Top13    False\n",
       "Top14    False\n",
       "Top15    False\n",
       "Top16    False\n",
       "Top17    False\n",
       "Top18    False\n",
       "Top19    False\n",
       "Top20    False\n",
       "Top21    False\n",
       "Top22    False\n",
       "Top23     True\n",
       "Top24     True\n",
       "Top25     True\n",
       "dtype: bool"
      ]
     },
     "execution_count": 9,
     "metadata": {},
     "output_type": "execute_result"
    }
   ],
   "source": [
    "# Finding any NaN values\n",
    "df.isna().any()"
   ]
  },
  {
   "cell_type": "code",
   "execution_count": 10,
   "metadata": {
    "execution": {
     "iopub.execute_input": "2021-05-26T05:44:14.804486Z",
     "iopub.status.busy": "2021-05-26T05:44:14.804199Z",
     "iopub.status.idle": "2021-05-26T05:44:14.856286Z",
     "shell.execute_reply": "2021-05-26T05:44:14.854927Z",
     "shell.execute_reply.started": "2021-05-26T05:44:14.804459Z"
    },
    "id": "u6aQAfSPPBpd",
    "outputId": "9609e9ac-fc66-485e-90db-46cc00822d8b"
   },
   "outputs": [
    {
     "name": "stdout",
     "output_type": "stream",
     "text": [
      "(4098, 27)\n"
     ]
    }
   ],
   "source": [
    "# Dropping NaN values\n",
    "df.dropna(inplace=True)\n",
    "print(df.shape)"
   ]
  },
  {
   "cell_type": "code",
   "execution_count": 11,
   "metadata": {
    "execution": {
     "iopub.execute_input": "2021-05-26T05:44:14.858379Z",
     "iopub.status.busy": "2021-05-26T05:44:14.85789Z",
     "iopub.status.idle": "2021-05-26T05:44:14.864986Z",
     "shell.execute_reply": "2021-05-26T05:44:14.863832Z",
     "shell.execute_reply.started": "2021-05-26T05:44:14.858345Z"
    },
    "id": "XbhXg-iHPN-X"
   },
   "outputs": [],
   "source": [
    "df_copy = df.copy()"
   ]
  },
  {
   "cell_type": "code",
   "execution_count": 12,
   "metadata": {
    "execution": {
     "iopub.execute_input": "2021-05-26T05:44:14.867408Z",
     "iopub.status.busy": "2021-05-26T05:44:14.866695Z",
     "iopub.status.idle": "2021-05-26T05:44:14.881145Z",
     "shell.execute_reply": "2021-05-26T05:44:14.879944Z",
     "shell.execute_reply.started": "2021-05-26T05:44:14.867362Z"
    },
    "id": "d6DnrYCGPLOI"
   },
   "outputs": [],
   "source": [
    "df_copy.reset_index(inplace=True)"
   ]
  },
  {
   "cell_type": "code",
   "execution_count": 13,
   "metadata": {},
   "outputs": [
    {
     "data": {
      "text/html": [
       "<div>\n",
       "<style scoped>\n",
       "    .dataframe tbody tr th:only-of-type {\n",
       "        vertical-align: middle;\n",
       "    }\n",
       "\n",
       "    .dataframe tbody tr th {\n",
       "        vertical-align: top;\n",
       "    }\n",
       "\n",
       "    .dataframe thead th {\n",
       "        text-align: right;\n",
       "    }\n",
       "</style>\n",
       "<table border=\"1\" class=\"dataframe\">\n",
       "  <thead>\n",
       "    <tr style=\"text-align: right;\">\n",
       "      <th></th>\n",
       "      <th>Date</th>\n",
       "      <th>Label</th>\n",
       "      <th>Top1</th>\n",
       "      <th>Top2</th>\n",
       "      <th>Top3</th>\n",
       "      <th>Top4</th>\n",
       "      <th>Top5</th>\n",
       "      <th>Top6</th>\n",
       "      <th>Top7</th>\n",
       "      <th>Top8</th>\n",
       "      <th>...</th>\n",
       "      <th>Top16</th>\n",
       "      <th>Top17</th>\n",
       "      <th>Top18</th>\n",
       "      <th>Top19</th>\n",
       "      <th>Top20</th>\n",
       "      <th>Top21</th>\n",
       "      <th>Top22</th>\n",
       "      <th>Top23</th>\n",
       "      <th>Top24</th>\n",
       "      <th>Top25</th>\n",
       "    </tr>\n",
       "  </thead>\n",
       "  <tbody>\n",
       "    <tr>\n",
       "      <th>0</th>\n",
       "      <td>2000-01-03</td>\n",
       "      <td>0</td>\n",
       "      <td>A 'hindrance to operations': extracts from the...</td>\n",
       "      <td>Scorecard</td>\n",
       "      <td>Hughes' instant hit buoys Blues</td>\n",
       "      <td>Jack gets his skates on at ice-cold Alex</td>\n",
       "      <td>Chaos as Maracana builds up for United</td>\n",
       "      <td>Depleted Leicester prevail as Elliott spoils E...</td>\n",
       "      <td>Hungry Spurs sense rich pickings</td>\n",
       "      <td>Gunners so wide of an easy target</td>\n",
       "      <td>...</td>\n",
       "      <td>Flintoff injury piles on woe for England</td>\n",
       "      <td>Hunters threaten Jospin with new battle of the...</td>\n",
       "      <td>Kohl's successor drawn into scandal</td>\n",
       "      <td>The difference between men and women</td>\n",
       "      <td>Sara Denver, nurse turned solicitor</td>\n",
       "      <td>Diana's landmine crusade put Tories in a panic</td>\n",
       "      <td>Yeltsin's resignation caught opposition flat-f...</td>\n",
       "      <td>Russian roulette</td>\n",
       "      <td>Sold out</td>\n",
       "      <td>Recovering a title</td>\n",
       "    </tr>\n",
       "    <tr>\n",
       "      <th>1</th>\n",
       "      <td>2000-01-04</td>\n",
       "      <td>0</td>\n",
       "      <td>Scorecard</td>\n",
       "      <td>The best lake scene</td>\n",
       "      <td>Leader: German sleaze inquiry</td>\n",
       "      <td>Cheerio, boyo</td>\n",
       "      <td>The main recommendations</td>\n",
       "      <td>Has Cubie killed fees?</td>\n",
       "      <td>Has Cubie killed fees?</td>\n",
       "      <td>Has Cubie killed fees?</td>\n",
       "      <td>...</td>\n",
       "      <td>On the critical list</td>\n",
       "      <td>The timing of their lives</td>\n",
       "      <td>Dear doctor</td>\n",
       "      <td>Irish court halts IRA man's extradition to Nor...</td>\n",
       "      <td>Burundi peace initiative fades after rebels re...</td>\n",
       "      <td>PE points the way forward to the ECB</td>\n",
       "      <td>Campaigners keep up pressure on Nazi war crime...</td>\n",
       "      <td>Jane Ratcliffe</td>\n",
       "      <td>Yet more things you wouldn't know without the ...</td>\n",
       "      <td>Millennium bug fails to bite</td>\n",
       "    </tr>\n",
       "    <tr>\n",
       "      <th>2</th>\n",
       "      <td>2000-01-05</td>\n",
       "      <td>0</td>\n",
       "      <td>Coventry caught on counter by Flo</td>\n",
       "      <td>United's rivals on the road to Rio</td>\n",
       "      <td>Thatcher issues defence before trial by video</td>\n",
       "      <td>Police help Smith lay down the law at Everton</td>\n",
       "      <td>Tale of Trautmann bears two more retellings</td>\n",
       "      <td>England on the rack</td>\n",
       "      <td>Pakistan retaliate with call for video of Walsh</td>\n",
       "      <td>Cullinan continues his Cape monopoly</td>\n",
       "      <td>...</td>\n",
       "      <td>South Melbourne (Australia)</td>\n",
       "      <td>Necaxa (Mexico)</td>\n",
       "      <td>Real Madrid (Spain)</td>\n",
       "      <td>Raja Casablanca (Morocco)</td>\n",
       "      <td>Corinthians (Brazil)</td>\n",
       "      <td>Tony's pet project</td>\n",
       "      <td>Al Nassr (Saudi Arabia)</td>\n",
       "      <td>Ideal Holmes show</td>\n",
       "      <td>Pinochet leaves hospital after tests</td>\n",
       "      <td>Useful links</td>\n",
       "    </tr>\n",
       "    <tr>\n",
       "      <th>3</th>\n",
       "      <td>2000-01-06</td>\n",
       "      <td>1</td>\n",
       "      <td>Pilgrim knows how to progress</td>\n",
       "      <td>Thatcher facing ban</td>\n",
       "      <td>McIlroy calls for Irish fighting spirit</td>\n",
       "      <td>Leicester bin stadium blueprint</td>\n",
       "      <td>United braced for Mexican wave</td>\n",
       "      <td>Auntie back in fashion, even if the dress look...</td>\n",
       "      <td>Shoaib appeal goes to the top</td>\n",
       "      <td>Hussain hurt by 'shambles' but lays blame on e...</td>\n",
       "      <td>...</td>\n",
       "      <td>Putin admits Yeltsin quit to give him a head s...</td>\n",
       "      <td>BBC worst hit as digital TV begins to bite</td>\n",
       "      <td>How much can you pay for...</td>\n",
       "      <td>Christmas glitches</td>\n",
       "      <td>Upending a table, Chopping a line and Scoring ...</td>\n",
       "      <td>Scientific evidence 'unreliable', defence claims</td>\n",
       "      <td>Fusco wins judicial review in extradition case</td>\n",
       "      <td>Rebels thwart Russian advance</td>\n",
       "      <td>Blair orders shake-up of failing NHS</td>\n",
       "      <td>Lessons of law's hard heart</td>\n",
       "    </tr>\n",
       "    <tr>\n",
       "      <th>4</th>\n",
       "      <td>2000-01-07</td>\n",
       "      <td>1</td>\n",
       "      <td>Hitches and Horlocks</td>\n",
       "      <td>Beckham off but United survive</td>\n",
       "      <td>Breast cancer screening</td>\n",
       "      <td>Alan Parker</td>\n",
       "      <td>Guardian readers: are you all whingers?</td>\n",
       "      <td>Hollywood Beyond</td>\n",
       "      <td>Ashes and diamonds</td>\n",
       "      <td>Whingers - a formidable minority</td>\n",
       "      <td>...</td>\n",
       "      <td>Most everywhere:  UDIs</td>\n",
       "      <td>Most wanted:  Chloe lunettes</td>\n",
       "      <td>Return of the cane 'completely off the agenda'</td>\n",
       "      <td>From Sleepy Hollow to Greeneland</td>\n",
       "      <td>Blunkett outlines vision for over 11s</td>\n",
       "      <td>Embattled Dobson attacks 'play now, pay later'...</td>\n",
       "      <td>Doom and the Dome</td>\n",
       "      <td>What is the north-south divide?</td>\n",
       "      <td>Aitken released from jail</td>\n",
       "      <td>Gone aloft</td>\n",
       "    </tr>\n",
       "  </tbody>\n",
       "</table>\n",
       "<p>5 rows × 27 columns</p>\n",
       "</div>"
      ],
      "text/plain": [
       "         Date  Label                                               Top1  \\\n",
       "0  2000-01-03      0  A 'hindrance to operations': extracts from the...   \n",
       "1  2000-01-04      0                                          Scorecard   \n",
       "2  2000-01-05      0                  Coventry caught on counter by Flo   \n",
       "3  2000-01-06      1                      Pilgrim knows how to progress   \n",
       "4  2000-01-07      1                               Hitches and Horlocks   \n",
       "\n",
       "                                 Top2  \\\n",
       "0                           Scorecard   \n",
       "1                 The best lake scene   \n",
       "2  United's rivals on the road to Rio   \n",
       "3                 Thatcher facing ban   \n",
       "4      Beckham off but United survive   \n",
       "\n",
       "                                            Top3  \\\n",
       "0                Hughes' instant hit buoys Blues   \n",
       "1                  Leader: German sleaze inquiry   \n",
       "2  Thatcher issues defence before trial by video   \n",
       "3        McIlroy calls for Irish fighting spirit   \n",
       "4                        Breast cancer screening   \n",
       "\n",
       "                                            Top4  \\\n",
       "0       Jack gets his skates on at ice-cold Alex   \n",
       "1                                  Cheerio, boyo   \n",
       "2  Police help Smith lay down the law at Everton   \n",
       "3                Leicester bin stadium blueprint   \n",
       "4                                    Alan Parker   \n",
       "\n",
       "                                          Top5  \\\n",
       "0       Chaos as Maracana builds up for United   \n",
       "1                     The main recommendations   \n",
       "2  Tale of Trautmann bears two more retellings   \n",
       "3               United braced for Mexican wave   \n",
       "4      Guardian readers: are you all whingers?   \n",
       "\n",
       "                                                Top6  \\\n",
       "0  Depleted Leicester prevail as Elliott spoils E...   \n",
       "1                             Has Cubie killed fees?   \n",
       "2                                England on the rack   \n",
       "3  Auntie back in fashion, even if the dress look...   \n",
       "4                                   Hollywood Beyond   \n",
       "\n",
       "                                              Top7  \\\n",
       "0                 Hungry Spurs sense rich pickings   \n",
       "1                           Has Cubie killed fees?   \n",
       "2  Pakistan retaliate with call for video of Walsh   \n",
       "3                    Shoaib appeal goes to the top   \n",
       "4                               Ashes and diamonds   \n",
       "\n",
       "                                                Top8  ...  \\\n",
       "0                  Gunners so wide of an easy target  ...   \n",
       "1                             Has Cubie killed fees?  ...   \n",
       "2               Cullinan continues his Cape monopoly  ...   \n",
       "3  Hussain hurt by 'shambles' but lays blame on e...  ...   \n",
       "4                   Whingers - a formidable minority  ...   \n",
       "\n",
       "                                               Top16  \\\n",
       "0           Flintoff injury piles on woe for England   \n",
       "1                               On the critical list   \n",
       "2                        South Melbourne (Australia)   \n",
       "3  Putin admits Yeltsin quit to give him a head s...   \n",
       "4                             Most everywhere:  UDIs   \n",
       "\n",
       "                                               Top17  \\\n",
       "0  Hunters threaten Jospin with new battle of the...   \n",
       "1                          The timing of their lives   \n",
       "2                                    Necaxa (Mexico)   \n",
       "3         BBC worst hit as digital TV begins to bite   \n",
       "4                       Most wanted:  Chloe lunettes   \n",
       "\n",
       "                                            Top18  \\\n",
       "0             Kohl's successor drawn into scandal   \n",
       "1                                     Dear doctor   \n",
       "2                             Real Madrid (Spain)   \n",
       "3                     How much can you pay for...   \n",
       "4  Return of the cane 'completely off the agenda'   \n",
       "\n",
       "                                               Top19  \\\n",
       "0               The difference between men and women   \n",
       "1  Irish court halts IRA man's extradition to Nor...   \n",
       "2                          Raja Casablanca (Morocco)   \n",
       "3                                 Christmas glitches   \n",
       "4                   From Sleepy Hollow to Greeneland   \n",
       "\n",
       "                                               Top20  \\\n",
       "0                Sara Denver, nurse turned solicitor   \n",
       "1  Burundi peace initiative fades after rebels re...   \n",
       "2                               Corinthians (Brazil)   \n",
       "3  Upending a table, Chopping a line and Scoring ...   \n",
       "4              Blunkett outlines vision for over 11s   \n",
       "\n",
       "                                               Top21  \\\n",
       "0     Diana's landmine crusade put Tories in a panic   \n",
       "1               PE points the way forward to the ECB   \n",
       "2                                 Tony's pet project   \n",
       "3   Scientific evidence 'unreliable', defence claims   \n",
       "4  Embattled Dobson attacks 'play now, pay later'...   \n",
       "\n",
       "                                               Top22  \\\n",
       "0  Yeltsin's resignation caught opposition flat-f...   \n",
       "1  Campaigners keep up pressure on Nazi war crime...   \n",
       "2                            Al Nassr (Saudi Arabia)   \n",
       "3     Fusco wins judicial review in extradition case   \n",
       "4                                  Doom and the Dome   \n",
       "\n",
       "                             Top23  \\\n",
       "0                 Russian roulette   \n",
       "1                   Jane Ratcliffe   \n",
       "2                Ideal Holmes show   \n",
       "3    Rebels thwart Russian advance   \n",
       "4  What is the north-south divide?   \n",
       "\n",
       "                                               Top24  \\\n",
       "0                                           Sold out   \n",
       "1  Yet more things you wouldn't know without the ...   \n",
       "2               Pinochet leaves hospital after tests   \n",
       "3               Blair orders shake-up of failing NHS   \n",
       "4                          Aitken released from jail   \n",
       "\n",
       "                          Top25  \n",
       "0            Recovering a title  \n",
       "1  Millennium bug fails to bite  \n",
       "2                  Useful links  \n",
       "3   Lessons of law's hard heart  \n",
       "4                    Gone aloft  \n",
       "\n",
       "[5 rows x 27 columns]"
      ]
     },
     "execution_count": 13,
     "metadata": {},
     "output_type": "execute_result"
    }
   ],
   "source": [
    "df.head()"
   ]
  },
  {
   "cell_type": "code",
   "execution_count": 14,
   "metadata": {
    "execution": {
     "iopub.execute_input": "2021-05-26T05:44:14.88344Z",
     "iopub.status.busy": "2021-05-26T05:44:14.883Z",
     "iopub.status.idle": "2021-05-26T05:44:14.906804Z",
     "shell.execute_reply": "2021-05-26T05:44:14.905803Z",
     "shell.execute_reply.started": "2021-05-26T05:44:14.883405Z"
    },
    "id": "MMNzajXxMkdh",
    "outputId": "fa4057f0-c7ce-4c12-aba0-ed92e79d3747"
   },
   "outputs": [
    {
     "name": "stdout",
     "output_type": "stream",
     "text": [
      "Train size: (3972, 28), Test size: (378, 28)\n"
     ]
    }
   ],
   "source": [
    "# Splitting the dataset into train an test set\n",
    "train = df_copy[df_copy['Date'] < '20150101']\n",
    "test = df_copy[df_copy['Date'] > '20141231']\n",
    "print('Train size: {}, Test size: {}'.format(train.shape, test.shape))"
   ]
  },
  {
   "cell_type": "code",
   "execution_count": 15,
   "metadata": {
    "execution": {
     "iopub.execute_input": "2021-05-26T05:44:14.909568Z",
     "iopub.status.busy": "2021-05-26T05:44:14.909056Z",
     "iopub.status.idle": "2021-05-26T05:44:14.917175Z",
     "shell.execute_reply": "2021-05-26T05:44:14.916084Z",
     "shell.execute_reply.started": "2021-05-26T05:44:14.909535Z"
    },
    "id": "bVChdUOOQGd5",
    "outputId": "8ac15149-8d67-4455-842d-ddc2bf5598cd"
   },
   "outputs": [
    {
     "data": {
      "text/plain": [
       "Index(['index', 'Date', 'Label', 'Top1', 'Top2', 'Top3', 'Top4', 'Top5',\n",
       "       'Top6', 'Top7', 'Top8', 'Top9', 'Top10', 'Top11', 'Top12', 'Top13',\n",
       "       'Top14', 'Top15', 'Top16', 'Top17', 'Top18', 'Top19', 'Top20', 'Top21',\n",
       "       'Top22', 'Top23', 'Top24', 'Top25'],\n",
       "      dtype='object')"
      ]
     },
     "execution_count": 15,
     "metadata": {},
     "output_type": "execute_result"
    }
   ],
   "source": [
    "train.columns"
   ]
  },
  {
   "cell_type": "code",
   "execution_count": 16,
   "metadata": {
    "execution": {
     "iopub.execute_input": "2021-05-26T05:44:14.919349Z",
     "iopub.status.busy": "2021-05-26T05:44:14.918699Z",
     "iopub.status.idle": "2021-05-26T05:44:14.937384Z",
     "shell.execute_reply": "2021-05-26T05:44:14.936131Z",
     "shell.execute_reply.started": "2021-05-26T05:44:14.919296Z"
    },
    "id": "37hwWUT8OoDI"
   },
   "outputs": [],
   "source": [
    "# Splitting the dataset\n",
    "y_train = train['Label']\n",
    "train = train.iloc[:, 3:28]\n",
    "y_test = test['Label']\n",
    "test = test.iloc[:, 3:28]"
   ]
  },
  {
   "cell_type": "code",
   "execution_count": 17,
   "metadata": {
    "execution": {
     "iopub.execute_input": "2021-05-26T05:44:14.939533Z",
     "iopub.status.busy": "2021-05-26T05:44:14.939048Z",
     "iopub.status.idle": "2021-05-26T05:44:16.073828Z",
     "shell.execute_reply": "2021-05-26T05:44:16.072845Z",
     "shell.execute_reply.started": "2021-05-26T05:44:14.939486Z"
    },
    "id": "i8Vsv35IQby-",
    "outputId": "905c35a5-19f3-4a74-bf35-1f07825eaf2c"
   },
   "outputs": [
    {
     "name": "stderr",
     "output_type": "stream",
     "text": [
      "[nltk_data] Error loading stopwords: <urlopen error [WinError 10060] A\n",
      "[nltk_data]     connection attempt failed because the connected party\n",
      "[nltk_data]     did not properly respond after a period of time, or\n",
      "[nltk_data]     established connection failed because connected host\n",
      "[nltk_data]     has failed to respond>\n"
     ]
    }
   ],
   "source": [
    "# Importing essential libraries for performing Natural Language Processing on given dataset\n",
    "import nltk\n",
    "nltk.download('stopwords')\n",
    "from nltk.corpus import stopwords\n",
    "from nltk.stem import PorterStemmer"
   ]
  },
  {
   "cell_type": "code",
   "execution_count": 18,
   "metadata": {
    "execution": {
     "iopub.execute_input": "2021-05-26T05:44:16.075488Z",
     "iopub.status.busy": "2021-05-26T05:44:16.075168Z",
     "iopub.status.idle": "2021-05-26T05:44:17.012784Z",
     "shell.execute_reply": "2021-05-26T05:44:17.0117Z",
     "shell.execute_reply.started": "2021-05-26T05:44:16.07546Z"
    },
    "id": "VD4zrtcRRBXH"
   },
   "outputs": [],
   "source": [
    "# Removing punctuation and special character from the text\n",
    "train.replace(to_replace='[^a-zA-Z]', value=' ', regex=True, inplace=True)\n",
    "test.replace(to_replace='[^a-zA-Z]', value=' ', regex=True, inplace=True)"
   ]
  },
  {
   "cell_type": "code",
   "execution_count": 19,
   "metadata": {
    "execution": {
     "iopub.execute_input": "2021-05-26T05:44:17.015099Z",
     "iopub.status.busy": "2021-05-26T05:44:17.014623Z",
     "iopub.status.idle": "2021-05-26T05:44:17.021056Z",
     "shell.execute_reply": "2021-05-26T05:44:17.020021Z",
     "shell.execute_reply.started": "2021-05-26T05:44:17.015056Z"
    },
    "id": "CBcNS6YOSHW-"
   },
   "outputs": [],
   "source": [
    "# Renaming columns\n",
    "new_columns = [str(i) for i in range(0,25)]\n",
    "train.columns = new_columns\n",
    "test.columns = new_columns"
   ]
  },
  {
   "cell_type": "code",
   "execution_count": 20,
   "metadata": {
    "execution": {
     "iopub.execute_input": "2021-05-26T05:44:17.023433Z",
     "iopub.status.busy": "2021-05-26T05:44:17.022997Z",
     "iopub.status.idle": "2021-05-26T05:44:17.125623Z",
     "shell.execute_reply": "2021-05-26T05:44:17.124489Z",
     "shell.execute_reply.started": "2021-05-26T05:44:17.023388Z"
    },
    "id": "s_Rv1U-5TQdm"
   },
   "outputs": [],
   "source": [
    "# Converting the entire text to lower case\n",
    "for i in new_columns:\n",
    "  train[i] = train[i].str.lower()\n",
    "  test[i] = test[i].str.lower()"
   ]
  },
  {
   "cell_type": "code",
   "execution_count": 21,
   "metadata": {
    "execution": {
     "iopub.execute_input": "2021-05-26T05:44:17.127297Z",
     "iopub.status.busy": "2021-05-26T05:44:17.127002Z",
     "iopub.status.idle": "2021-05-26T05:44:18.253361Z",
     "shell.execute_reply": "2021-05-26T05:44:18.252373Z",
     "shell.execute_reply.started": "2021-05-26T05:44:17.127268Z"
    },
    "id": "Zb6t4r20UGOP"
   },
   "outputs": [],
   "source": [
    "# Joining all the columns\n",
    "train_headlines = []\n",
    "test_headlines = []\n",
    "\n",
    "for row in range(0, train.shape[0]):\n",
    "  train_headlines.append(' '.join(str(x) for x in train.iloc[row, 0:25]))\n",
    "\n",
    "for row in range(0, test.shape[0]):\n",
    "  test_headlines.append(' '.join(str(x) for x in test.iloc[row, 0:25]))"
   ]
  },
  {
   "cell_type": "code",
   "execution_count": 22,
   "metadata": {
    "execution": {
     "iopub.execute_input": "2021-05-26T05:44:18.25489Z",
     "iopub.status.busy": "2021-05-26T05:44:18.254584Z",
     "iopub.status.idle": "2021-05-26T05:44:18.262203Z",
     "shell.execute_reply": "2021-05-26T05:44:18.260867Z",
     "shell.execute_reply.started": "2021-05-26T05:44:18.254859Z"
    },
    "id": "A-mlVdUdVUHu",
    "outputId": "f8cfbb91-ac4e-4cf3-9e8a-eb33e9721dc5"
   },
   "outputs": [
    {
     "data": {
      "text/plain": [
       "'a  hindrance to operations   extracts from the leaked reports scorecard hughes  instant hit buoys blues jack gets his skates on at ice cold alex chaos as maracana builds up for united depleted leicester prevail as elliott spoils everton s party hungry spurs sense rich pickings gunners so wide of an easy target derby raise a glass to strupar s debut double southgate strikes  leeds pay the penalty hammers hand robson a youthful lesson saints party like it s      wear wolves have turned into lambs stump mike catches testy gough s taunt langer escapes to hit     flintoff injury piles on woe for england hunters threaten jospin with new battle of the somme kohl s successor drawn into scandal the difference between men and women sara denver  nurse turned solicitor diana s landmine crusade put tories in a panic yeltsin s resignation caught opposition flat footed russian roulette sold out recovering a title'"
      ]
     },
     "execution_count": 22,
     "metadata": {},
     "output_type": "execute_result"
    }
   ],
   "source": [
    "train_headlines[0]"
   ]
  },
  {
   "cell_type": "code",
   "execution_count": 23,
   "metadata": {
    "execution": {
     "iopub.execute_input": "2021-05-26T05:44:18.264452Z",
     "iopub.status.busy": "2021-05-26T05:44:18.263993Z",
     "iopub.status.idle": "2021-05-26T05:44:18.275131Z",
     "shell.execute_reply": "2021-05-26T05:44:18.273786Z",
     "shell.execute_reply.started": "2021-05-26T05:44:18.264407Z"
    },
    "id": "3Dcfd18qVlSO",
    "outputId": "7d3f83d5-dbc3-4b05-c35e-beff886d8a94"
   },
   "outputs": [
    {
     "data": {
      "text/plain": [
       "'most cases of cancer are the result of sheer bad luck rather than unhealthy lifestyles  diet or even inherited genes  new research suggests  random mutations that occur in dna when cells divide are responsible for two thirds of adult cancers across a wide range of tissues  iran dismissed united states efforts to fight islamic state as a ploy to advance u s  policies in the region   the reality is that the united states is not acting to eliminate daesh  they are not even interested in weakening daesh  they are only interested in managing it  poll  one in   germans would join anti muslim marches uk royal family s prince andrew named in us lawsuit over underage sex allegations some    asylum seekers refused to leave the bus when they arrived at their destination in rural northern sweden  demanding that they be taken back to malm or  some big city   pakistani boat blows self up after india navy chase  all four people on board the vessel from near the pakistani port city of karachi are believed to have been killed in the dramatic episode in the arabian sea on new year s eve  according to india s defence ministry  sweden hit by third mosque arson attack in a week     cars set alight during french new year salaries for top ceos rose twice as fast as average canadian since recession  study norway violated equal pay law  judge says  judge finds consulate employee was unjustly paid         less than her male counterpart imam wants radical recruiters of muslim youth in canada identified and dealt with saudi arabia beheaded    people in       the most in years  a living hell  for slaves on remote south korean islands   slavery thrives on this chain of rural islands off south korea s rugged southwest coast  nurtured by a long history of exploitation and the demands of trying to squeeze a living from the sea  worlds     richest get richer  adding    bn in      rental car stereos infringe copyright  music rights group says ukrainian minister threatens tv channel with closure for airing russian entertainers palestinian president mahmoud abbas has entered into his most serious confrontation yet with israel by signing onto the international criminal court  his decision on wednesday gives the court jurisdiction over crimes committed in palestinian lands  israeli security center publishes names of    killed terrorists  concealed by hamas  the year      was the deadliest year yet in syria s four year conflict  with over        killed a secret underground complex built by the nazis that may have been used for the development of wmds  including a nuclear bomb  has been uncovered in austria  restrictions on web freedom a major global issue in      austrian journalist erich mchel delivered a presentation in hamburg at the annual meeting of the chaos computer club on monday december     detailing the various locations where the us nsa has been actively collecting and processing electronic intelligence in vienna  thousands of ukraine nationalists march in kiev chinas new years resolution  no more harvesting executed prisoners organs authorities pull plug on russia s last politically independent tv station'"
      ]
     },
     "execution_count": 23,
     "metadata": {},
     "output_type": "execute_result"
    }
   ],
   "source": [
    "test_headlines[0]"
   ]
  },
  {
   "cell_type": "code",
   "execution_count": 24,
   "metadata": {
    "execution": {
     "iopub.execute_input": "2021-05-26T05:44:18.27737Z",
     "iopub.status.busy": "2021-05-26T05:44:18.276857Z",
     "iopub.status.idle": "2021-05-26T05:47:11.825727Z",
     "shell.execute_reply": "2021-05-26T05:47:11.8246Z",
     "shell.execute_reply.started": "2021-05-26T05:44:18.277327Z"
    },
    "id": "Wp4tgCR1V-Bo"
   },
   "outputs": [],
   "source": [
    "# Creating corpus of train dataset\n",
    "ps = PorterStemmer()\n",
    "train_corpus = []\n",
    "\n",
    "for i in range(0, len(train_headlines)):\n",
    "  \n",
    "  # Tokenizing the news-title by words\n",
    "  words = train_headlines[i].split()\n",
    "\n",
    "  # Removing the stopwords\n",
    "  words = [word for word in words if word not in set(stopwords.words('english'))]\n",
    "\n",
    "  # Stemming the words\n",
    "  words = [ps.stem(word) for word in words]\n",
    "\n",
    "  # Joining the stemmed words\n",
    "  headline = ' '.join(words)\n",
    "\n",
    "  # Building a corpus of news-title\n",
    "  train_corpus.append(headline)"
   ]
  },
  {
   "cell_type": "code",
   "execution_count": 25,
   "metadata": {
    "execution": {
     "iopub.execute_input": "2021-05-26T05:47:11.827269Z",
     "iopub.status.busy": "2021-05-26T05:47:11.826991Z",
     "iopub.status.idle": "2021-05-26T05:47:38.053616Z",
     "shell.execute_reply": "2021-05-26T05:47:38.05236Z",
     "shell.execute_reply.started": "2021-05-26T05:47:11.827242Z"
    },
    "id": "mS94s0zsYhkv"
   },
   "outputs": [],
   "source": [
    "# Creating corpus of test dataset\n",
    "test_corpus = []\n",
    "\n",
    "for i in range(0, len(test_headlines)):\n",
    "  \n",
    "  # Tokenizing the news-title by words\n",
    "  words = test_headlines[i].split()\n",
    "\n",
    "  # Removing the stopwords\n",
    "  words = [word for word in words if word not in set(stopwords.words('english'))]\n",
    "\n",
    "  # Stemming the words\n",
    "  words = [ps.stem(word) for word in words]\n",
    "\n",
    "  # Joining the stemmed words\n",
    "  headline = ' '.join(words)\n",
    "\n",
    "  # Building a corpus of news-title\n",
    "  test_corpus.append(headline)"
   ]
  },
  {
   "cell_type": "code",
   "execution_count": 26,
   "metadata": {
    "execution": {
     "iopub.execute_input": "2021-05-26T05:47:38.055519Z",
     "iopub.status.busy": "2021-05-26T05:47:38.055033Z",
     "iopub.status.idle": "2021-05-26T05:47:38.061301Z",
     "shell.execute_reply": "2021-05-26T05:47:38.060532Z",
     "shell.execute_reply.started": "2021-05-26T05:47:38.055485Z"
    },
    "id": "V-yWTBMHZLF3",
    "outputId": "06f028c6-c894-4e29-f68b-1aa0dc218586"
   },
   "outputs": [
    {
     "data": {
      "text/plain": [
       "['hindranc oper extract leak report scorecard hugh instant hit buoy blue jack get skate ice cold alex chao maracana build unit deplet leicest prevail elliott spoil everton parti hungri spur sens rich pick gunner wide easi target derbi rais glass strupar debut doubl southgat strike leed pay penalti hammer hand robson youth lesson saint parti like wear wolv turn lamb stump mike catch testi gough taunt langer escap hit flintoff injuri pile woe england hunter threaten jospin new battl somm kohl successor drawn scandal differ men women sara denver nurs turn solicitor diana landmin crusad put tori panic yeltsin resign caught opposit flat foot russian roulett sold recov titl',\n",
       " 'scorecard best lake scene leader german sleaz inquiri cheerio boyo main recommend cubi kill fee cubi kill fee cubi kill fee hopkin furiou foster lack hannib appetit cubi kill fee tale two tail say like like say elbow eye nippl task forc assess risk asteroid collis found last critic list time live dear doctor irish court halt ira man extradit northern ireland burundi peac initi fade rebel reject mandela mediat pe point way forward ecb campaign keep pressur nazi war crime suspect jane ratcliff yet thing know without movi millennium bug fail bite',\n",
       " 'coventri caught counter flo unit rival road rio thatcher issu defenc trial video polic help smith lay law everton tale trautmann bear two retel england rack pakistan retali call video walsh cullinan continu cape monopoli mcgrath put india miseri blair witch bandwagon roll pele turn heat ferguson parti divid kohl slush fund scandal manchest unit england women record south pole walk vasco da gama brazil south melbourn australia necaxa mexico real madrid spain raja casablanca morocco corinthian brazil toni pet project al nassr saudi arabia ideal holm show pinochet leav hospit test use link',\n",
       " 'pilgrim know progress thatcher face ban mcilroy call irish fight spirit leicest bin stadium blueprint unit brace mexican wave aunti back fashion even dress look bit tatti shoaib appeal goe top hussain hurt shambl lay blame earlier damag england decad disast reveng sweet jubil cronj choic profil former us nazi parti offic william pierc new evid show record war crime suspect investig rise supernerd written bodi putin admit yeltsin quit give head start bbc worst hit digit tv begin bite much pay christma glitch upend tabl chop line score goal scientif evid unreli defenc claim fusco win judici review extradit case rebel thwart russian advanc blair order shake fail nh lesson law hard heart',\n",
       " 'hitch horlock beckham unit surviv breast cancer screen alan parker guardian reader whinger hollywood beyond ash diamond whinger formid minor alan parker part two thuggeri toxin tie met face fresh attack race crime everton fan top racist leagu shame breast russia new boss extrem strang histori alway forev everywher udi want chloe lunett return cane complet agenda sleepi hollow greeneland blunkett outlin vision embattl dobson attack play pay later livingston doom dome north south divid aitken releas jail gone aloft',\n",
       " 'fifth round draw bbc unveil secret weapon rate war south melbourn second divis round european round third divis round welfar could claim killi tie caley thistl land celtic ferguson put brave face rio meltdown southgat strike form pre empt penalti second bite wolv scallywag chelsea look bench england miss trick centurion radio time england bat collaps faith futur youth helm goe unit stave inevit time warner aol merg keep wage global war desktop icon qwerti keyboard sec file low workplac bulli met equip solv murder tranmer tie replay rebel attack take toll russia met lent stop car lawrenc',\n",
       " 'man utd south melbourn north atlant drift could carri away old firm buoyant bbc show brazil final live tranmer given clear cup unit sit poorli doc queen park peril cloud hampden futur waugh hit shoaib repriev knight make case butcher place scoreboard bond enough star brosnan help peopl blake blast liverpool german parti leader took cash arm dealer children book week low go like write split vote may offer natwest takeov escap teach stayer sprinter lesson respect everyon know good school wrong give teacher applaus realis felt sick shock tender stung russian forc inspector warn pressur might lead offic take easi solv case repair jack hous',\n",
       " 'newcastl seek new footbal supremo liverpool aim speed heskey deal highland vote edward power play suffer new blow chelsea gambl weah taylor settl etern tie tenth top flight club fall hodg final word charlton charg top german parti chief resist call resign beach made man leo pariah irv sue holocaust author jack straw full common speech batti busi book frock conscious matter heroin wear arm pakistan like mind co black megabuck luck cabinet battl rage ethic foreign polici radio station becom talk sport better breed dad childish thing kid say hopscotch smoke without fire press reaction spain chile argentina',\n",
       " 'bungl offici carpet red raw corner killer mackenzi unit put shirt england plan home nation reviv donald pois quit test scene adam stare abyss money money money tyson enter britain ga chamber claim imposs say irv union take mayor vote row court win ticket end affair irv deni deliber portray hitler merci gallant fulham flunk shoot hill start leav tranmer one step wembley weah strike right cue dinner plate microwav oven toast one simultan free yet live fear doubt pakistan arm export anoth fine mess cybershop sportswear much pay hillari hold late show bye bye american pi tension mount straw stand trial plan harrod lose princ philip royal warrant',\n",
       " 'pompey plump puli work ethic roma fire rolex refere prenton park two told take break ok figur rio still chelsea tune weah world top storey await cottag west indi unveil fieri next gener donald kill field await edgi england cronj low run end captainci high counti lose murali shoaib final tell tale two citi tv rival jostl soccer club stake blatter unit gave boost world cup bid sunderland recoveri bad news booki england main fault tri hard schreiber man would toppl king joe ashton letter resign ashton resign wednesday board stravinski rake progress best waterfront scene incompet insult injuri find time england take six rain shorten first day media sale net chri evan divvi scissor dawn']"
      ]
     },
     "execution_count": 26,
     "metadata": {},
     "output_type": "execute_result"
    }
   ],
   "source": [
    "train_corpus[0:10]"
   ]
  },
  {
   "cell_type": "code",
   "execution_count": 27,
   "metadata": {
    "execution": {
     "iopub.execute_input": "2021-05-26T05:47:38.062934Z",
     "iopub.status.busy": "2021-05-26T05:47:38.062474Z",
     "iopub.status.idle": "2021-05-26T05:47:38.080664Z",
     "shell.execute_reply": "2021-05-26T05:47:38.079607Z",
     "shell.execute_reply.started": "2021-05-26T05:47:38.062878Z"
    },
    "id": "TAuiyeUjZhZ8",
    "outputId": "86f0e836-8ea2-4d4a-ff02-3e55ef968564"
   },
   "outputs": [
    {
     "data": {
      "text/plain": [
       "['case cancer result sheer bad luck rather unhealthi lifestyl diet even inherit gene new research suggest random mutat occur dna cell divid respons two third adult cancer across wide rang tissu iran dismiss unit state effort fight islam state ploy advanc u polici region realiti unit state act elimin daesh even interest weaken daesh interest manag poll one german would join anti muslim march uk royal famili princ andrew name us lawsuit underag sex alleg asylum seeker refus leav bu arriv destin rural northern sweden demand taken back malm big citi pakistani boat blow self india navi chase four peopl board vessel near pakistani port citi karachi believ kill dramat episod arabian sea new year eve accord india defenc ministri sweden hit third mosqu arson attack week car set alight french new year salari top ceo rose twice fast averag canadian sinc recess studi norway violat equal pay law judg say judg find consul employe unjustli paid less male counterpart imam want radic recruit muslim youth canada identifi dealt saudi arabia behead peopl year live hell slave remot south korean island slaveri thrive chain rural island south korea rug southwest coast nurtur long histori exploit demand tri squeez live sea world richest get richer ad bn rental car stereo infring copyright music right group say ukrainian minist threaten tv channel closur air russian entertain palestinian presid mahmoud abba enter seriou confront yet israel sign onto intern crimin court decis wednesday give court jurisdict crime commit palestinian land isra secur center publish name kill terrorist conceal hama year deadliest year yet syria four year conflict kill secret underground complex built nazi may use develop wmd includ nuclear bomb uncov austria restrict web freedom major global issu austrian journalist erich mchel deliv present hamburg annual meet chao comput club monday decemb detail variou locat us nsa activ collect process electron intellig vienna thousand ukrain nationalist march kiev china new year resolut harvest execut prison organ author pull plug russia last polit independ tv station',\n",
       " 'moscow gt beij high speed train reduc trip time hour current day two ancient tomb discov egypt sunday one repres symbol burial site god osiri anoth claim previous unknown pharaon tomb china complain pyongyang n korean soldier kill villag world news scotland head toward fossil fuel free renew energi project combin energi save could decarbonis countri power sector need see phase convent gener scotland prime minist shinzo abe said monday express remors japan action world war ii highlight countri bid contribut activ world peac statement mark th anniversari war end august sex slave centr princ andrew scandal fled australia teen gay rel hama founder face deport canada christian convert whose five uncl jail israel terror activ say hell kill forc return west bank number femal drug addict iran almost doubl sinc start age decad search causeway great pyramid egypt found india lost tiger lizard squad hack soni huge market scheme launch lizard stresser paid hack servic russia may face chao extra sanction impos germani saudi air land forc carri attack isi within territori isil reportedli set bank attempt legitimatis nation state israel brand anti assimil group lehava terrorist islam state approv budget billion expect surplu million open islam bank mosul budget reportedli includ monthli wage poor disabl famili individu kill airstrik carri us led coalit forc iceland withdraw eu applic lift capit control blackfield capit founder goe miss valu rubl thing vanish russia moscow hedg fund chief execut disappear along money firm account rocket stage crash back earth rural chines villag dead aircraft bomb greek tanker libyan port belgian murder frank van den bleeken die request belgian murder rapist serv life sentenc allow die lethal inject next sunday follow rule law belgium permit peopl request euthanasia czech presid critic ukrainian pm say yatsenyuk prime minist war vietnames jet join search miss filipino bahamian cargo ship sink franc seek end russia sanction ukrain china scrap rare earth cap',\n",
       " 'us oil fall barrel toyota give away fuel cell patent build game chang car futur young indian coupl grant polic protect rel approv hack death offic refus carri judg order senior figur islam state self declar polic forc syria carri behead found decapit eastern provinc deir al zor fukushima rice pass radiat test st time sinc disast nearli spanish parti guilti financi crime audit court find king abdullah abdic saudi throne taliban command caught network linkedin mexican miss student mayor wife charg organ crime money launder new york time report jame risen refus monday answer basic question court book detail fail cia effort undermin iran nuclear weapon program case becom flashpoint press freedom korea send sweet potato n korea nutrit aid turkey dutch journalist frederik geerdink detain terror propaganda charg kuala lumpur jan islam prohibit marri men homemak famili govern malaysian institut islam understand ikim said iraqi mp iran top gener qassem suleimani save baghdad fall pakistan offer bounti taliban leader thousand indian fled home fight india pakistan spread along km mile stretch border disput region kashmir turkey sack judg oversaw erdogan corrupt probe accus abus author spacex falcon launch recoveri abort next launch window could earli friday cnn american charg botch gambia coup islam state polic offici behead libya ban palestinian countri prevent entri terrorist judici inquiri open franc monday inmat one countri notori prison abl take photo pose drug money contraband upload onto facebook video captur moment cameraman hurl backward film explod firework factori small town colombia syria complain unit nation u republican senat john mccain former french foreign minist bernard kouchner former u diplomat peter galbraith enter countri without visa violat sovereignti test india set make iri biggest telescop ever',\n",
       " 'shot fire french magazin hq bibi netanyahu campaign fund u isi behead street magician entertain crowd syria trick denmark set new world record renew energi product cover countri total electr consumpt wind power isi close school syria leav children without educ un european union want turkey explain human traffick could taken two cargo ship fill migrant countri toward eu without author notic peopl die shoot headquart french satir weekli charli hebdo earth like planet ever discov could cosi home alien life planet name kepler b slightli larger earth circl orang dwarf star bath heat home planet receiv sun new question rais u saudi relationship page u legisl push know alleg saudi role massiv hunt underway gunmen pari terror attack offici hottest year record hottest year record come chines author isol separ famili shanghai stamped victim keep organ allow minut mourn site drag away get emot german anti muslim protest ralli despit merkel plea china encourag environment group sue pollut group work fight pollut judici gain special statu court fee reduc suprem peopl court say unit nation secretari gener ban ki moon say palestin join intern crimin court april st discoveri witnesss mutil bodi feed claim state kill kenya gruesom murder man due testifi icc trial kenya deputi presid william ruto fed accus govern orchestr kill wit radic islam grow threat sub saharan christian report toni blair may face war crime charg iraq delay public chilcot inquiri iraq war made peopl believ toni blair could face war crime charg minist warn benjamin netanyahu say settlement unlik dismantl elect israel pm tasmania move allow corpor sue protest defam indonesia search chief tail section airasia flight qz found flight record insid tail section north korean defector bureau hacker locat shenyang china femal suicid bomber attack polic station istanbul turn syria school religi indoctrin center children depriv educ islam state order school close school reopen curriculum islamic religion replac standard subject ebola vaccin trial halifax far success',\n",
       " 'new charli hebdo issu come next week hard suffer grief fear anyway stupid win ahm merabet cop kill pari attack muslim youngest suspect charli hebdo attack turn grenad thrown mosqu le man west pari danish newspap print charli hebdo cartoon islam muslim politician india offer charli hebdo attack vladimir putin condemn deadli terrorist attack pari confirm moscow readi continu cooper franc battl terror putin also express condol victim famili wish injur speedi recoveri turkey tri hide evid hold turkish leader respons support terrorist group especi islam state iraq syria isi turkish media report danish paper publish muhammad cartoon boost secur two charli hebdo attack locat north franc french imam urg muslim protest pari attack policewoman shot gunman near pari die polic shoot heard outskirt pari offic sever injur nobodi report kill fight syria wednesday first day without casualti three year fierc winter storm quell violenc time crack islamophobia turkey erdogan tell eu thousand europ hold pen solidar terrorist attack journalist race show solidar charli hebdo terror attack antibiot us discoveri label game changer world medicin charli hebdo attack condemn saudi arabia iran arab leagu mani muslim state well union islam organ franc brisban man wear stupid shirt stand lnp elect campaign arrest offic public nuisanc fourth russian gener commit suicid less year bear startl similar least three recent case retir russian gener commit suicid last year meteorit turn night day bucharest romania isra doctor implant syrian man titanium jaw pioneer procedur unusu metal recov ancient greek shipwreck ingot found yr old wreck metal call orichalcum legendari metal philosoph plato attribut atlanti noth similar ever found knew orichalcum ancient text amp ornament object young mother let terrorist charli hebdo build threat daughter',\n",
       " 'muslim politician india offer charli hebdo attack book incit violenc russia list transsexu transgend peopl among longer qualifi drive licenc french govern donat million ensur charli hebdo live hezbollah secretari gener sayi hassan nasrallah action takfiri group like al qaeda islam state offend prophet mohammad charli hebdo cartoon mock charli hebdo hunt shot fire polic chase car possibl hostag taken islam state brag pari tomorrow britain america wake charli hebdo attack secularist group seek end canada blasphemi law saudi arabia flog man time insult religion facebook websit town near pari hack replac isi flag indian govern fire employe skip work year egypt presid call revolut islam uk religi divers ever time number peopl religion time high britain mi chief warn al qaeda syria plan mass attack west top iranian cleric condemn pari shoot strongli condemn terrorist attack franc believ islam allow kill innoc peopl pari syria iraq yemen paksitan afghanistan ayatollah seyi ahmad khatami said us send highest level deleg decad havana later month talk migrat normal relat countri decad cold war hostil israel recogn armenian genocid say ambassador bodi litter street boko haram attack baga north korea warn war disast us lift unreason sanction danish newspap say print prophet cartoon boko haram kill destroy villag borno two islamist newspap turkey drawn ire social media headlin justifi deadli attack french satir newspap head mi andrew parker call new power help fight islamist extrem warn danger imbal increas number terrorist plot uk drop capabl intellig servic snoop commun million flee ukrain close humanitarian catastroph german nurs admit kill patient work hospit german citi delmenhorst investig possibl kill anoth china tomb chariot hors skeleton date back year found hubei',\n",
       " 'world largest indoor farm japan time product outdoor field use less water less power creat less food wast egypt student get year jail term atheism egyptian court sentenc student three year jail announc facebook atheist insult islam saudi princ barrel oil never boko haram massacr big survivor give count bodi bomb threat belgian paper reprint charli hebdo cartoon benjamin netanyahu ridicul appear pari attend pari march despit holland object least one major oil compani turn back fossil fuel say scientist oil compani also realis long moral defens ignor consequ climat chang nigeria need support franc boko haram attack archbishop kaigama speak anoth bloodi weekend nigeria three femal suicid bomber includ one thought young ten kill least peopl restiv northeast isi issu mandatori conscript men syria iraq oil hit new five half year low barrel peopl die drink poison beer mozambiqu turkish imam germani stand guard front media build solidar terror cuba freed prison agre u deal unpaid intern charg job refer thinktank anonym block jihadist websit retali charli hebdo attack burqua ban approv lawmak muslim uighur region xinjiang last month set go effect report say ban part effort curb grow extrem femal genit mutil done hospit africa health care provid perform percent fgm case trend grow accord world health organ feel free breastfe pope tell mother sistin chapel march pari yet block freedom speech home london landmark lit colour french flag crowd gather trafalgar squar tribut kill pari terror attack deadli taliban attack kill children peshawar pakistan armi public school reopen boko haram forc year old commit suicid bomb nigerian market franc deploy troop iran eclips us iraq alli fight milit lava flow iceland size manhattan',\n",
       " 'china ban burqa biggest muslim citi us eu politician use charli hebdo attack call internet surveil fusion muslim mayor rotterdam tell islamist f live televis charli hebdo first cover sinc attack nigeria need support franc boko haram attack kill archbishop uk may ban whatsapp snapchat new anti terror law british prime minist fox news secur analyst clearli complet idiot lesbian kick vienna caf kiss student organ start kiss campaign attend civilian dead shell hit bu ukrain cameron say mean commun cannot read russian media turkish politician suggest u isra involv pari attack us central command twitter youtub feed hack isi ultra orthodox jewish newspap edit femal world leader charli hebdo march expens cancer drug push england nh list chang england cancer drug fund mean april new cancer patient longer abl receiv number expens treatment avail nh david cameron want ban end end encrypt surveil plan nick clegg today condemn call reviv call snooper charter follow pari terror attack warn make safer make less free german anti islam march dresden draw record number scientist includ stephen hawk elon musk sign letter pledg ensur artifici intellig research benefit mankind great lake teem tini plastic microfib cbc pope franci blame pari attack deviant form religion amid new worri may isi target peopl starv eastern ukrain humanitarian crisi unfold attack owner pari kosher market plan move israel anti islamist movement surfac switzerland interpol issu global want notic former ukrain presid viktor yanukovich number al qaeda want list sell french fri florida mall food court',\n",
       " 'cameroon armi kill boko haram fighter air franc hand copi charli hebdo flight turkish presid accus west behind charli hebdo attack deliber blame muslim french comedian dieudonn arrest apologist terror facebook post turkey main opposit parti chp call islam countri adopt secular order end root terror denounc last week deadli pari attack stress kill innoc peopl noth islam ride coattail accus intern commun ignor african woe come afrileak whistleblow websit dedic expos corrupt abus power across africa internet instrument mass net neutral key indian telecom minist marxist dalai lama say twitter facebook face closur turkey anonym account publish document reveal illeg arm shipment turkish spi agenc opposit group syria russia cut world return past would monstrou mistak prime minist dmitri medvedev said wednesday januari new isi video appear show child execut russian agent turkish polic raid daili newspap cumhuriyet search destroy possibl moham cartoon north korean walk across frozen river china commit murder charli hebdo print run rais copi franc sell poacher kill forest guard india kaziranga nation park peshmerga kill six islam state leader hour mass anim die off rise kill billion amp rais question huge die off diseas outbreak amp stressor happen often mass die off individu event kill least billion anim wipe popul destroy ton worth anim charli hebdo muhammad cover goe global despit muslim ire egypt islam author denounc charli hebdo cover action unjustifi provoc feel billion muslim mosqu fire bomb pelt pig head aftermath pari terror attack oil price per barrel cost russian budget billion doubl agent reportedli stole list contain real undercov name german intellig employe spi arrest last juli suspicion work cia stolen document could jeopard half agent bnd russian troop station near finnish border putin begin move arctic kim jong un snub china accept putin invit moscow belgian arm dealer confess suppli pari attack fossil found p e boy fill gap reptil evolut',\n",
       " 'saudi man sentenc year jail weekli public cane month guilti set public onlin forum debat discuss children cage keep street clean pope polic round orphan chain filth pontiff visit philippin pari shoot sign petit muslim hero hid hostag get french citizenship prestigi legion honneur indonesia revok passport citizen join isi malian describ hero help hostag jewish supermarket hide last week pari attack award french nation tuesday interior minist bernard cazeneuv said swiss franc jump euro snb swiss nation bank scrap exchang rate limit franc send aircraft carrier battl saudi arabia build mile great wall shield isi data privaci human right say eu electron commun secur europ less accord report european union agenc network inform secur enisa baghdadi execut isil member defeat southern erbil kurd gay italian cook forc go prostitut prove heterosexu lose job charli hebdo writer hold muham cover sky news network cut away apolog hama new charli hedbo cover zionist lobbi plot indian rule parti support decrimin homosexu jesuischarli creator phrase cannot trademark million declar je sui charli social media peopl tri trademark imag franc alon creator campaign angri solar grid pariti world collaps oil price littl slow solar juggernaut intern space station crew evacu russian segment amid ammonia leak fear pari motorist deliber run policewoman outsid presidenti resid muslim philippin march charli hebdo charli hebdo sell alreadi ebay k target canada close store file creditor protect nasrallah hezbollah prepar war deep israel beyond galile carlo slim mexican billionair becom top new york time sharehold ottawa mosqu concern sharp rise young men convert islam nigeria satellit imag show horrif scale boko haram attack baga']"
      ]
     },
     "execution_count": 27,
     "metadata": {},
     "output_type": "execute_result"
    }
   ],
   "source": [
    "test_corpus[0:10]"
   ]
  },
  {
   "cell_type": "code",
   "execution_count": 28,
   "metadata": {
    "execution": {
     "iopub.execute_input": "2021-05-26T05:47:38.082727Z",
     "iopub.status.busy": "2021-05-26T05:47:38.0824Z",
     "iopub.status.idle": "2021-05-26T05:47:38.10085Z",
     "shell.execute_reply": "2021-05-26T05:47:38.099616Z",
     "shell.execute_reply.started": "2021-05-26T05:47:38.082698Z"
    },
    "id": "Tl0rHTTpawoP"
   },
   "outputs": [],
   "source": [
    "down_words = []\n",
    "for i in list(y_train[y_train==0].index):\n",
    "  down_words.append(train_corpus[i])\n",
    "\n",
    "up_words = []\n",
    "for i in list(y_train[y_train==1].index):\n",
    "  up_words.append(train_corpus[i])"
   ]
  },
  {
   "cell_type": "code",
   "execution_count": 29,
   "metadata": {},
   "outputs": [
    {
     "name": "stdout",
     "output_type": "stream",
     "text": [
      "C:\\Users\\psai1\\anaconda3\\python.exe\n"
     ]
    }
   ],
   "source": [
    "import sys\n",
    "print(sys.executable)"
   ]
  },
  {
   "cell_type": "code",
   "execution_count": 30,
   "metadata": {},
   "outputs": [
    {
     "name": "stderr",
     "output_type": "stream",
     "text": [
      "Access is denied.\n"
     ]
    }
   ],
   "source": [
    "!<C:\\Users\\psai1\\anaconda3\\python.exe>/python -m pip install wordcloud\n"
   ]
  },
  {
   "cell_type": "code",
   "execution_count": 31,
   "metadata": {
    "execution": {
     "iopub.execute_input": "2021-05-26T05:47:38.103334Z",
     "iopub.status.busy": "2021-05-26T05:47:38.102734Z",
     "iopub.status.idle": "2021-05-26T05:47:48.730243Z",
     "shell.execute_reply": "2021-05-26T05:47:48.729101Z",
     "shell.execute_reply.started": "2021-05-26T05:47:38.10328Z"
    },
    "id": "Mnsg4zYnajog",
    "outputId": "0207dbdc-a48c-415f-9832-2d39bc80eb04"
   },
   "outputs": [
    {
     "data": {
      "image/png": "[encoded data removed]",
      "text/plain": [
       "<Figure size 576x576 with 1 Axes>"
      ]
     },
     "metadata": {
      "needs_background": "light"
     },
     "output_type": "display_data"
    }
   ],
   "source": [
    "# Creating wordcloud for down_words\n",
    "from wordcloud import WordCloud\n",
    "wordcloud1 = WordCloud(background_color='white', width=3000, height=2500).generate(down_words[1])\n",
    "plt.figure(figsize=(8,8))\n",
    "plt.imshow(wordcloud1)\n",
    "plt.axis('off')\n",
    "plt.title(\"Words which indicate a fall in DJIA \")\n",
    "plt.show()"
   ]
  },
  {
   "cell_type": "code",
   "execution_count": 32,
   "metadata": {
    "execution": {
     "iopub.execute_input": "2021-05-26T05:47:48.731724Z",
     "iopub.status.busy": "2021-05-26T05:47:48.731427Z",
     "iopub.status.idle": "2021-05-26T05:48:01.443252Z",
     "shell.execute_reply": "2021-05-26T05:48:01.442148Z",
     "shell.execute_reply.started": "2021-05-26T05:47:48.731695Z"
    },
    "id": "65u890APwhzr",
    "outputId": "5d1442ae-0a27-49af-9284-0c59dcfd719f"
   },
   "outputs": [
    {
     "data": {
      "image/png": "[encoded data removed]",
      "text/plain": [
       "<Figure size 576x576 with 1 Axes>"
      ]
     },
     "metadata": {
      "needs_background": "light"
     },
     "output_type": "display_data"
    }
   ],
   "source": [
    "# Creating wordcloud for up_words\n",
    "wordcloud2 = WordCloud(background_color='white', width=3000, height=2500).generate(up_words[5])\n",
    "plt.figure(figsize=(8,8))\n",
    "plt.imshow(wordcloud2)\n",
    "plt.axis('off')\n",
    "plt.title(\"Words which indicate a rise in DJIA \")\n",
    "plt.show()"
   ]
  },
  {
   "cell_type": "code",
   "execution_count": 33,
   "metadata": {
    "execution": {
     "iopub.execute_input": "2021-05-26T05:48:01.445313Z",
     "iopub.status.busy": "2021-05-26T05:48:01.44494Z",
     "iopub.status.idle": "2021-05-26T05:48:05.196105Z",
     "shell.execute_reply": "2021-05-26T05:48:05.19515Z",
     "shell.execute_reply.started": "2021-05-26T05:48:01.445277Z"
    },
    "id": "tUitCSbEZzS3"
   },
   "outputs": [],
   "source": [
    "# Creating the Bag of Words model\n",
    "from sklearn.feature_extraction.text import CountVectorizer\n",
    "cv = CountVectorizer(max_features=10000, ngram_range=(2,2))\n",
    "X_train = cv.fit_transform(train_corpus).toarray()"
   ]
  },
  {
   "cell_type": "code",
   "execution_count": 34,
   "metadata": {
    "execution": {
     "iopub.execute_input": "2021-05-26T05:48:05.197624Z",
     "iopub.status.busy": "2021-05-26T05:48:05.197353Z",
     "iopub.status.idle": "2021-05-26T05:48:05.382199Z",
     "shell.execute_reply": "2021-05-26T05:48:05.381036Z",
     "shell.execute_reply.started": "2021-05-26T05:48:05.197598Z"
    },
    "id": "Jcv69nnllDYH"
   },
   "outputs": [],
   "source": [
    "X_test = cv.transform(test_corpus).toarray()"
   ]
  },
  {
   "cell_type": "markdown",
   "metadata": {
    "id": "p3s5bBHAfmpe"
   },
   "source": [
    "# **Model Building**"
   ]
  },
  {
   "cell_type": "markdown",
   "metadata": {
    "id": "tzTm9A6zfpgs"
   },
   "source": [
    "## *Logistic Regression*"
   ]
  },
  {
   "cell_type": "code",
   "execution_count": 35,
   "metadata": {
    "execution": {
     "iopub.execute_input": "2021-05-26T05:48:05.383719Z",
     "iopub.status.busy": "2021-05-26T05:48:05.383441Z",
     "iopub.status.idle": "2021-05-26T05:48:10.263514Z",
     "shell.execute_reply": "2021-05-26T05:48:10.262094Z",
     "shell.execute_reply.started": "2021-05-26T05:48:05.383692Z"
    },
    "id": "bz-1XUZYf-1H",
    "outputId": "a2d139d7-da07-42b6-a9f1-2b63432d4a16"
   },
   "outputs": [
    {
     "data": {
      "text/plain": [
       "LogisticRegression()"
      ]
     },
     "execution_count": 35,
     "metadata": {},
     "output_type": "execute_result"
    }
   ],
   "source": [
    "from sklearn.linear_model import LogisticRegression\n",
    "lr_classifier = LogisticRegression()\n",
    "lr_classifier.fit(X_train, y_train)"
   ]
  },
  {
   "cell_type": "code",
   "execution_count": 36,
   "metadata": {
    "execution": {
     "iopub.execute_input": "2021-05-26T05:48:10.290475Z",
     "iopub.status.busy": "2021-05-26T05:48:10.286274Z",
     "iopub.status.idle": "2021-05-26T05:48:10.340548Z",
     "shell.execute_reply": "2021-05-26T05:48:10.339013Z",
     "shell.execute_reply.started": "2021-05-26T05:48:10.290402Z"
    },
    "id": "VZEDC_xEgPBP"
   },
   "outputs": [],
   "source": [
    "lr_y_pred = lr_classifier.predict(X_test)"
   ]
  },
  {
   "cell_type": "code",
   "execution_count": 37,
   "metadata": {
    "execution": {
     "iopub.execute_input": "2021-05-26T05:48:10.351534Z",
     "iopub.status.busy": "2021-05-26T05:48:10.346878Z",
     "iopub.status.idle": "2021-05-26T05:48:10.377815Z",
     "shell.execute_reply": "2021-05-26T05:48:10.37628Z",
     "shell.execute_reply.started": "2021-05-26T05:48:10.351468Z"
    },
    "id": "z7rIrq2xgPmD",
    "outputId": "483ace4d-4b4e-418b-e43b-352d384d95fe"
   },
   "outputs": [
    {
     "name": "stdout",
     "output_type": "stream",
     "text": [
      "---- Scores ----\n",
      "Accuracy score is: 85.98%\n",
      "Precision score is: 0.87\n",
      "Recall score is: 0.85\n"
     ]
    }
   ],
   "source": [
    "# Accuracy, Precision and Recall\n",
    "from sklearn.metrics import accuracy_score, precision_score, recall_score\n",
    "score1 = accuracy_score(y_test, lr_y_pred)\n",
    "score2 = precision_score(y_test, lr_y_pred)\n",
    "score3 = recall_score(y_test, lr_y_pred)\n",
    "print(\"---- Scores ----\")\n",
    "print(\"Accuracy score is: {}%\".format(round(score1*100,2)))\n",
    "print(\"Precision score is: {}\".format(round(score2,2)))\n",
    "print(\"Recall score is: {}\".format(round(score3,2)))"
   ]
  },
  {
   "cell_type": "code",
   "execution_count": 38,
   "metadata": {
    "execution": {
     "iopub.execute_input": "2021-05-26T05:48:10.380095Z",
     "iopub.status.busy": "2021-05-26T05:48:10.379641Z",
     "iopub.status.idle": "2021-05-26T05:48:10.387989Z",
     "shell.execute_reply": "2021-05-26T05:48:10.386786Z",
     "shell.execute_reply.started": "2021-05-26T05:48:10.380043Z"
    },
    "id": "l8r6DUJsgPhv"
   },
   "outputs": [],
   "source": [
    "# Making the Confusion Matrix\n",
    "from sklearn.metrics import confusion_matrix\n",
    "lr_cm = confusion_matrix(y_test, lr_y_pred)"
   ]
  },
  {
   "cell_type": "code",
   "execution_count": 39,
   "metadata": {
    "execution": {
     "iopub.execute_input": "2021-05-26T05:48:10.390529Z",
     "iopub.status.busy": "2021-05-26T05:48:10.389805Z",
     "iopub.status.idle": "2021-05-26T05:48:10.401602Z",
     "shell.execute_reply": "2021-05-26T05:48:10.400429Z",
     "shell.execute_reply.started": "2021-05-26T05:48:10.390478Z"
    },
    "id": "s8zW0elGgwka",
    "outputId": "8153dc52-84b5-4676-9433-9169caf1167c"
   },
   "outputs": [
    {
     "data": {
      "text/plain": [
       "array([[162,  24],\n",
       "       [ 29, 163]], dtype=int64)"
      ]
     },
     "execution_count": 39,
     "metadata": {},
     "output_type": "execute_result"
    }
   ],
   "source": [
    "lr_cm"
   ]
  },
  {
   "cell_type": "code",
   "execution_count": 40,
   "metadata": {
    "execution": {
     "iopub.execute_input": "2021-05-26T05:48:10.403849Z",
     "iopub.status.busy": "2021-05-26T05:48:10.403184Z",
     "iopub.status.idle": "2021-05-26T05:48:10.657084Z",
     "shell.execute_reply": "2021-05-26T05:48:10.656086Z",
     "shell.execute_reply.started": "2021-05-26T05:48:10.4038Z"
    },
    "id": "WMghDU4rgwh_",
    "outputId": "8bffad57-de26-42c5-8208-faf3f8e9f83e"
   },
   "outputs": [
    {
     "data": {
      "image/png": "[encoded data removed]",
      "text/plain": [
       "<Figure size 720x504 with 2 Axes>"
      ]
     },
     "metadata": {
      "needs_background": "light"
     },
     "output_type": "display_data"
    }
   ],
   "source": [
    "# Plotting the confusion matrix\n",
    "plt.figure(figsize=(10,7))\n",
    "sns.heatmap(data=lr_cm, annot=True, cmap=\"Blues\", xticklabels=['Down', 'Up'], yticklabels=['Down', 'Up'])\n",
    "plt.xlabel('Predicted values')\n",
    "plt.ylabel('Actual values')\n",
    "plt.title('Confusion Matrix for Logistic Regression Algorithm')\n",
    "plt.show()"
   ]
  },
  {
   "cell_type": "markdown",
   "metadata": {
    "id": "vVCt3U33fpYf"
   },
   "source": [
    "## *Random Forest Classifier*"
   ]
  },
  {
   "cell_type": "code",
   "execution_count": 41,
   "metadata": {
    "execution": {
     "iopub.execute_input": "2021-05-26T05:48:10.658907Z",
     "iopub.status.busy": "2021-05-26T05:48:10.658511Z",
     "iopub.status.idle": "2021-05-26T05:49:13.862437Z",
     "shell.execute_reply": "2021-05-26T05:49:13.861147Z",
     "shell.execute_reply.started": "2021-05-26T05:48:10.658852Z"
    },
    "id": "nYr_nKLAhJLI",
    "outputId": "851cf507-5d02-4599-ab9a-fc5e284df7b1"
   },
   "outputs": [
    {
     "data": {
      "text/plain": [
       "RandomForestClassifier(criterion='entropy')"
      ]
     },
     "execution_count": 41,
     "metadata": {},
     "output_type": "execute_result"
    }
   ],
   "source": [
    "from sklearn.ensemble import RandomForestClassifier\n",
    "rf_classifier = RandomForestClassifier(n_estimators=100, criterion='entropy')\n",
    "rf_classifier.fit(X_train, y_train)"
   ]
  },
  {
   "cell_type": "code",
   "execution_count": 42,
   "metadata": {
    "execution": {
     "iopub.execute_input": "2021-05-26T05:49:13.864211Z",
     "iopub.status.busy": "2021-05-26T05:49:13.863873Z",
     "iopub.status.idle": "2021-05-26T05:49:13.950428Z",
     "shell.execute_reply": "2021-05-26T05:49:13.949163Z",
     "shell.execute_reply.started": "2021-05-26T05:49:13.864181Z"
    },
    "id": "L-Bm0PDJhJG_"
   },
   "outputs": [],
   "source": [
    "rf_y_pred = rf_classifier.predict(X_test)"
   ]
  },
  {
   "cell_type": "code",
   "execution_count": 43,
   "metadata": {
    "execution": {
     "iopub.execute_input": "2021-05-26T05:49:13.95202Z",
     "iopub.status.busy": "2021-05-26T05:49:13.951694Z",
     "iopub.status.idle": "2021-05-26T05:49:13.963431Z",
     "shell.execute_reply": "2021-05-26T05:49:13.962537Z",
     "shell.execute_reply.started": "2021-05-26T05:49:13.951987Z"
    },
    "id": "cGjmgNxLhI0_",
    "outputId": "b9ea2f0b-a64c-41c7-a635-656f218bc20d"
   },
   "outputs": [
    {
     "name": "stdout",
     "output_type": "stream",
     "text": [
      "---- Scores ----\n",
      "Accuracy score is: 82.8%\n",
      "Precision score is: 0.82\n",
      "Recall score is: 0.85\n"
     ]
    }
   ],
   "source": [
    "# Accuracy, Precision and Recall\n",
    "score1 = accuracy_score(y_test, rf_y_pred)\n",
    "score2 = precision_score(y_test, rf_y_pred)\n",
    "score3 = recall_score(y_test, rf_y_pred)\n",
    "print(\"---- Scores ----\")\n",
    "print(\"Accuracy score is: {}%\".format(round(score1*100,2)))\n",
    "print(\"Precision score is: {}\".format(round(score2,2)))\n",
    "print(\"Recall score is: {}\".format(round(score3,2)))"
   ]
  },
  {
   "cell_type": "code",
   "execution_count": 44,
   "metadata": {
    "execution": {
     "iopub.execute_input": "2021-05-26T05:49:13.965627Z",
     "iopub.status.busy": "2021-05-26T05:49:13.965175Z",
     "iopub.status.idle": "2021-05-26T05:49:13.980306Z",
     "shell.execute_reply": "2021-05-26T05:49:13.979185Z",
     "shell.execute_reply.started": "2021-05-26T05:49:13.965582Z"
    },
    "id": "IsCxzdE1ysHg"
   },
   "outputs": [],
   "source": [
    "# Making the Confusion Matrix\n",
    "rf_cm = confusion_matrix(y_test, rf_y_pred)"
   ]
  },
  {
   "cell_type": "code",
   "execution_count": 45,
   "metadata": {
    "execution": {
     "iopub.execute_input": "2021-05-26T05:49:13.981817Z",
     "iopub.status.busy": "2021-05-26T05:49:13.981541Z",
     "iopub.status.idle": "2021-05-26T05:49:13.999234Z",
     "shell.execute_reply": "2021-05-26T05:49:13.99821Z",
     "shell.execute_reply.started": "2021-05-26T05:49:13.981789Z"
    },
    "id": "3XyLYJ9XyvkP",
    "outputId": "4b4a5f18-d388-45b2-a5fc-403e52bd27ff"
   },
   "outputs": [
    {
     "data": {
      "text/plain": [
       "array([[150,  36],\n",
       "       [ 29, 163]], dtype=int64)"
      ]
     },
     "execution_count": 45,
     "metadata": {},
     "output_type": "execute_result"
    }
   ],
   "source": [
    "rf_cm"
   ]
  },
  {
   "cell_type": "code",
   "execution_count": 46,
   "metadata": {
    "execution": {
     "iopub.execute_input": "2021-05-26T05:49:14.000548Z",
     "iopub.status.busy": "2021-05-26T05:49:14.000282Z",
     "iopub.status.idle": "2021-05-26T05:49:14.236365Z",
     "shell.execute_reply": "2021-05-26T05:49:14.235641Z",
     "shell.execute_reply.started": "2021-05-26T05:49:14.000522Z"
    },
    "id": "w_Q6THX-y0-_",
    "outputId": "8b3a8fad-8c50-422e-afa0-b90409421e91"
   },
   "outputs": [
    {
     "data": {
      "image/png": "[encoded data removed]",
      "text/plain": [
       "<Figure size 720x504 with 2 Axes>"
      ]
     },
     "metadata": {
      "needs_background": "light"
     },
     "output_type": "display_data"
    }
   ],
   "source": [
    "# Plotting the confusion matrix\n",
    "plt.figure(figsize=(10,7))\n",
    "sns.heatmap(data=rf_cm, annot=True, cmap=\"Blues\", xticklabels=['Down', 'Up'], yticklabels=['Down', 'Up'])\n",
    "plt.xlabel('Predicted values')\n",
    "plt.ylabel('Actual values')\n",
    "plt.title('Confusion Matrix for Random Forest Algorithm')\n",
    "plt.show()"
   ]
  },
  {
   "cell_type": "markdown",
   "metadata": {
    "id": "dnqOScUHf6Dg"
   },
   "source": [
    "## *Multinomial Naive Bayes*"
   ]
  },
  {
   "cell_type": "code",
   "execution_count": 47,
   "metadata": {
    "execution": {
     "iopub.execute_input": "2021-05-26T05:49:14.237706Z",
     "iopub.status.busy": "2021-05-26T05:49:14.237324Z",
     "iopub.status.idle": "2021-05-26T05:49:15.188862Z",
     "shell.execute_reply": "2021-05-26T05:49:15.188065Z",
     "shell.execute_reply.started": "2021-05-26T05:49:14.237678Z"
    },
    "id": "tVRPeDb6fmN-",
    "outputId": "f7ff691e-a167-4a4b-8651-2e71bc44466a"
   },
   "outputs": [
    {
     "data": {
      "text/plain": [
       "MultinomialNB()"
      ]
     },
     "execution_count": 47,
     "metadata": {},
     "output_type": "execute_result"
    }
   ],
   "source": [
    "from sklearn.naive_bayes import MultinomialNB\n",
    "nb_classifier = MultinomialNB()\n",
    "nb_classifier.fit(X_train, y_train)"
   ]
  },
  {
   "cell_type": "code",
   "execution_count": 48,
   "metadata": {
    "execution": {
     "iopub.execute_input": "2021-05-26T05:49:15.190245Z",
     "iopub.status.busy": "2021-05-26T05:49:15.189841Z",
     "iopub.status.idle": "2021-05-26T05:49:15.207434Z",
     "shell.execute_reply": "2021-05-26T05:49:15.205906Z",
     "shell.execute_reply.started": "2021-05-26T05:49:15.190216Z"
    },
    "id": "mWjgDBq8fdOb"
   },
   "outputs": [],
   "source": [
    "# Predicting the Test set results\n",
    "nb_y_pred = nb_classifier.predict(X_test)"
   ]
  },
  {
   "cell_type": "code",
   "execution_count": 49,
   "metadata": {
    "execution": {
     "iopub.execute_input": "2021-05-26T05:49:15.209868Z",
     "iopub.status.busy": "2021-05-26T05:49:15.209426Z",
     "iopub.status.idle": "2021-05-26T05:49:15.227622Z",
     "shell.execute_reply": "2021-05-26T05:49:15.226282Z",
     "shell.execute_reply.started": "2021-05-26T05:49:15.209823Z"
    },
    "id": "FDbl0TWXh-i8",
    "outputId": "df75f696-693c-4cac-9a2f-4b7715f8fc04"
   },
   "outputs": [
    {
     "name": "stdout",
     "output_type": "stream",
     "text": [
      "---- Scores ----\n",
      "Accuracy score is: 83.86%\n",
      "Precision score is: 0.85\n",
      "Recall score is: 0.83\n"
     ]
    }
   ],
   "source": [
    "# Accuracy, Precision and Recall\n",
    "score1 = accuracy_score(y_test, nb_y_pred)\n",
    "score2 = precision_score(y_test, nb_y_pred)\n",
    "score3 = recall_score(y_test, nb_y_pred)\n",
    "print(\"---- Scores ----\")\n",
    "print(\"Accuracy score is: {}%\".format(round(score1*100,2)))\n",
    "print(\"Precision score is: {}\".format(round(score2,2)))\n",
    "print(\"Recall score is: {}\".format(round(score3,2)))"
   ]
  },
  {
   "cell_type": "code",
   "execution_count": 50,
   "metadata": {
    "execution": {
     "iopub.execute_input": "2021-05-26T05:49:15.230823Z",
     "iopub.status.busy": "2021-05-26T05:49:15.229756Z",
     "iopub.status.idle": "2021-05-26T05:49:15.238295Z",
     "shell.execute_reply": "2021-05-26T05:49:15.236961Z",
     "shell.execute_reply.started": "2021-05-26T05:49:15.230768Z"
    },
    "id": "JnopGQlyy-UR"
   },
   "outputs": [],
   "source": [
    "# Making the Confusion Matrix\n",
    "nb_cm = confusion_matrix(y_test, nb_y_pred)"
   ]
  },
  {
   "cell_type": "code",
   "execution_count": 51,
   "metadata": {
    "execution": {
     "iopub.execute_input": "2021-05-26T05:49:15.241226Z",
     "iopub.status.busy": "2021-05-26T05:49:15.240315Z",
     "iopub.status.idle": "2021-05-26T05:49:15.253688Z",
     "shell.execute_reply": "2021-05-26T05:49:15.252121Z",
     "shell.execute_reply.started": "2021-05-26T05:49:15.241176Z"
    },
    "id": "MGOugTYqzAZf",
    "outputId": "7b546b10-1321-4738-edaa-0d1c10f2ca79"
   },
   "outputs": [
    {
     "data": {
      "text/plain": [
       "array([[158,  28],\n",
       "       [ 33, 159]], dtype=int64)"
      ]
     },
     "execution_count": 51,
     "metadata": {},
     "output_type": "execute_result"
    }
   ],
   "source": [
    "nb_cm"
   ]
  },
  {
   "cell_type": "code",
   "execution_count": 52,
   "metadata": {
    "execution": {
     "iopub.execute_input": "2021-05-26T05:49:15.256301Z",
     "iopub.status.busy": "2021-05-26T05:49:15.255536Z",
     "iopub.status.idle": "2021-05-26T05:49:15.50384Z",
     "shell.execute_reply": "2021-05-26T05:49:15.503056Z",
     "shell.execute_reply.started": "2021-05-26T05:49:15.256251Z"
    },
    "id": "UY-PVvYUzBXX",
    "outputId": "401a8e8b-9a41-4345-b01e-96f883c2c91a"
   },
   "outputs": [
    {
     "data": {
      "image/png": "[encoded data removed]",
      "text/plain": [
       "<Figure size 720x504 with 2 Axes>"
      ]
     },
     "metadata": {
      "needs_background": "light"
     },
     "output_type": "display_data"
    }
   ],
   "source": [
    "# Plotting the confusion matrix\n",
    "plt.figure(figsize=(10,7))\n",
    "sns.heatmap(data=nb_cm, annot=True, cmap=\"Blues\", xticklabels=['Down', 'Up'], yticklabels=['Down', 'Up'])\n",
    "plt.xlabel('Predicted values')\n",
    "plt.ylabel('Actual values')\n",
    "plt.title('Confusion Matrix for Multinomial Naive Bayes Algorithm')\n",
    "plt.show()"
   ]
  },
  {
   "cell_type": "markdown",
   "metadata": {
    "id": "p7wwir-60mqo"
   },
   "source": [
    "# **Predictions**"
   ]
  },
  {
   "cell_type": "code",
   "execution_count": 53,
   "metadata": {
    "execution": {
     "iopub.execute_input": "2021-05-26T05:49:15.505878Z",
     "iopub.status.busy": "2021-05-26T05:49:15.505232Z",
     "iopub.status.idle": "2021-05-26T05:49:15.513099Z",
     "shell.execute_reply": "2021-05-26T05:49:15.512427Z",
     "shell.execute_reply.started": "2021-05-26T05:49:15.505835Z"
    },
    "id": "X1CHiUyg0pSA"
   },
   "outputs": [],
   "source": [
    "import re\n",
    "\n",
    "def stock_prediction(sample_news):\n",
    "  sample_news = re.sub(pattern='[^a-zA-Z]',repl=' ', string=sample_news)\n",
    "  sample_news = sample_news.lower()\n",
    "  sample_news_words = sample_news.split()\n",
    "  sample_news_words = [word for word in sample_news_words if not word in set(stopwords.words('english'))]\n",
    "  ps = PorterStemmer()\n",
    "  final_news = [ps.stem(word) for word in sample_news_words]\n",
    "  final_news = ' '.join(final_news)\n",
    "\n",
    "  temp = cv.transform([final_news]).toarray()\n",
    "  return lr_classifier.predict(temp)"
   ]
  },
  {
   "cell_type": "code",
   "execution_count": 54,
   "metadata": {
    "execution": {
     "iopub.execute_input": "2021-05-26T05:49:15.514763Z",
     "iopub.status.busy": "2021-05-26T05:49:15.514306Z",
     "iopub.status.idle": "2021-05-26T05:49:15.532391Z",
     "shell.execute_reply": "2021-05-26T05:49:15.531475Z",
     "shell.execute_reply.started": "2021-05-26T05:49:15.514733Z"
    },
    "id": "1jZdYuQx1Nlv"
   },
   "outputs": [],
   "source": [
    "# For generating random integer\n",
    "from random import randint"
   ]
  },
  {
   "cell_type": "code",
   "execution_count": 55,
   "metadata": {
    "execution": {
     "iopub.execute_input": "2021-05-26T05:49:15.536462Z",
     "iopub.status.busy": "2021-05-26T05:49:15.53612Z",
     "iopub.status.idle": "2021-05-26T05:49:15.550322Z",
     "shell.execute_reply": "2021-05-26T05:49:15.549314Z",
     "shell.execute_reply.started": "2021-05-26T05:49:15.536431Z"
    },
    "id": "AuuxZK222fII"
   },
   "outputs": [],
   "source": [
    "sample_test = df_copy[df_copy['Date'] > '20141231']"
   ]
  },
  {
   "cell_type": "code",
   "execution_count": 56,
   "metadata": {
    "execution": {
     "iopub.execute_input": "2021-05-26T05:49:15.552025Z",
     "iopub.status.busy": "2021-05-26T05:49:15.551676Z",
     "iopub.status.idle": "2021-05-26T05:49:15.562262Z",
     "shell.execute_reply": "2021-05-26T05:49:15.561206Z",
     "shell.execute_reply.started": "2021-05-26T05:49:15.551994Z"
    },
    "id": "m0jRGmhG2lgm"
   },
   "outputs": [],
   "source": [
    "sample_test.reset_index(inplace=True)\n",
    "sample_test = sample_test['Top1']"
   ]
  },
  {
   "cell_type": "code",
   "execution_count": 57,
   "metadata": {
    "execution": {
     "iopub.execute_input": "2021-05-26T05:49:15.563504Z",
     "iopub.status.busy": "2021-05-26T05:49:15.563235Z",
     "iopub.status.idle": "2021-05-26T05:49:15.577961Z",
     "shell.execute_reply": "2021-05-26T05:49:15.576656Z",
     "shell.execute_reply.started": "2021-05-26T05:49:15.563477Z"
    },
    "id": "ni5XoK241M5s",
    "outputId": "e3f91447-d2fe-4fdc-94f3-a56d2f445a90"
   },
   "outputs": [
    {
     "name": "stdout",
     "output_type": "stream",
     "text": [
      "News: El Chapo' Being Taken to Same Prison He Escaped from Six Months Ago\n",
      "Prediction: The stock price will remain the same or will go down.\n"
     ]
    }
   ],
   "source": [
    "# Predicting values\n",
    "row = randint(0,sample_test.shape[0]-1)\n",
    "sample_news = sample_test[row]\n",
    "\n",
    "print('News: {}'.format(sample_news))\n",
    "if stock_prediction(sample_news):\n",
    "  print('Prediction: The stock price will remain the same or will go down.')\n",
    "else:\n",
    "  print('Prediction: The stock price will go up!')"
   ]
  },
  {
   "cell_type": "code",
   "execution_count": 58,
   "metadata": {
    "execution": {
     "iopub.execute_input": "2021-05-26T05:49:15.580974Z",
     "iopub.status.busy": "2021-05-26T05:49:15.579849Z",
     "iopub.status.idle": "2021-05-26T05:49:15.596011Z",
     "shell.execute_reply": "2021-05-26T05:49:15.595001Z",
     "shell.execute_reply.started": "2021-05-26T05:49:15.580778Z"
    },
    "id": "WMJFAtG52K7P",
    "outputId": "16d3d8e7-86f3-43d4-c6c8-f391881f523a"
   },
   "outputs": [
    {
     "name": "stdout",
     "output_type": "stream",
     "text": [
      "News: Efficiency up, turnover down: Sweden experiments with six-hour working day | World news | The Guardian\n",
      "Prediction: The stock price will remain the same or will go down.\n"
     ]
    }
   ],
   "source": [
    "# Predicting values\n",
    "row = randint(0,sample_test.shape[0]-1)\n",
    "sample_news = sample_test[row]\n",
    "\n",
    "print('News: {}'.format(sample_news))\n",
    "if stock_prediction(sample_news):\n",
    "  print('Prediction: The stock price will remain the same or will go down.')\n",
    "else:\n",
    "  print('Prediction: The stock price will go up!')"
   ]
  },
  {
   "cell_type": "code",
   "execution_count": 59,
   "metadata": {
    "execution": {
     "iopub.execute_input": "2021-05-26T05:49:15.598323Z",
     "iopub.status.busy": "2021-05-26T05:49:15.597559Z",
     "iopub.status.idle": "2021-05-26T05:49:15.609877Z",
     "shell.execute_reply": "2021-05-26T05:49:15.609142Z",
     "shell.execute_reply.started": "2021-05-26T05:49:15.598277Z"
    },
    "id": "pNPZ_VXB3PIk",
    "outputId": "0b2d4906-2d6a-4312-e539-47cf70fc3bcb"
   },
   "outputs": [
    {
     "name": "stdout",
     "output_type": "stream",
     "text": [
      "News: US State Dept declares ISIS is committing genocide in Iraq, Syria\n",
      "Prediction: The stock price will remain the same or will go down.\n"
     ]
    }
   ],
   "source": [
    "# Predicting values\n",
    "row = randint(0,sample_test.shape[0]-1)\n",
    "sample_news = sample_test[row]\n",
    "\n",
    "print('News: {}'.format(sample_news))\n",
    "if stock_prediction(sample_news):\n",
    "  print('Prediction: The stock price will remain the same or will go down.')\n",
    "else:\n",
    "  print('Prediction: The stock price will go up!')"
   ]
  },
  {
   "cell_type": "code",
   "execution_count": 60,
   "metadata": {
    "execution": {
     "iopub.execute_input": "2021-05-26T05:49:15.61132Z",
     "iopub.status.busy": "2021-05-26T05:49:15.610929Z",
     "iopub.status.idle": "2021-05-26T05:49:15.634313Z",
     "shell.execute_reply": "2021-05-26T05:49:15.633065Z",
     "shell.execute_reply.started": "2021-05-26T05:49:15.611291Z"
    },
    "id": "r2dzoNTp3h63",
    "outputId": "dc92822a-933e-4330-bdd8-ab9a842f91ce"
   },
   "outputs": [
    {
     "name": "stdout",
     "output_type": "stream",
     "text": [
      "News: \n",
      "Prediction: The stock price will remain the same or will go down.\n"
     ]
    }
   ],
   "source": [
    "# Predicting values\n",
    "row = randint(0,sample_test.shape[0]-1)\n",
    "sample_news = \"\"\n",
    "print('News: {}'.format(sample_news))\n",
    "if stock_prediction(sample_news):\n",
    "  print('Prediction: The stock price will remain the same or will go down.')\n",
    "else:\n",
    "  print('Prediction: The stock price will go up!')"
   ]
  },
  {
   "cell_type": "code",
   "execution_count": 61,
   "metadata": {
    "_cell_guid": "b1076dfc-b9ad-4769-8c92-a6c4dae69d19",
    "_uuid": "8f2839f25d086af736a60e9eeb907d3b93b6e0e5",
    "colab": {},
    "colab_type": "code",
    "id": "qrZh_8Hr1Rbb"
   },
   "outputs": [],
   "source": [
    "import pandas as pd\n",
    "import numpy as np\n",
    "import matplotlib.pyplot as plt"
   ]
  },
  {
   "cell_type": "code",
   "execution_count": 62,
   "metadata": {
    "_cell_guid": "79c7e3d0-c299-4dcb-8224-4455121ee9b0",
    "_uuid": "d629ff2d2480ee46fbb7e2d37f6b5fab8052498a",
    "colab": {
     "base_uri": "https://localhost:8080/",
     "height": 753
    },
    "colab_type": "code",
    "id": "ewqFNYLW1Rbk",
    "outputId": "6ef2598a-c65e-4e42-c5e7-9ca840fdfcc0"
   },
   "outputs": [
    {
     "data": {
      "text/html": [
       "<div>\n",
       "<style scoped>\n",
       "    .dataframe tbody tr th:only-of-type {\n",
       "        vertical-align: middle;\n",
       "    }\n",
       "\n",
       "    .dataframe tbody tr th {\n",
       "        vertical-align: top;\n",
       "    }\n",
       "\n",
       "    .dataframe thead th {\n",
       "        text-align: right;\n",
       "    }\n",
       "</style>\n",
       "<table border=\"1\" class=\"dataframe\">\n",
       "  <thead>\n",
       "    <tr style=\"text-align: right;\">\n",
       "      <th></th>\n",
       "      <th>Date</th>\n",
       "      <th>Label</th>\n",
       "      <th>Top1</th>\n",
       "      <th>Top2</th>\n",
       "      <th>Top3</th>\n",
       "      <th>Top4</th>\n",
       "      <th>Top5</th>\n",
       "      <th>Top6</th>\n",
       "      <th>Top7</th>\n",
       "      <th>Top8</th>\n",
       "      <th>...</th>\n",
       "      <th>Top16</th>\n",
       "      <th>Top17</th>\n",
       "      <th>Top18</th>\n",
       "      <th>Top19</th>\n",
       "      <th>Top20</th>\n",
       "      <th>Top21</th>\n",
       "      <th>Top22</th>\n",
       "      <th>Top23</th>\n",
       "      <th>Top24</th>\n",
       "      <th>Top25</th>\n",
       "    </tr>\n",
       "  </thead>\n",
       "  <tbody>\n",
       "    <tr>\n",
       "      <th>0</th>\n",
       "      <td>2000-01-03</td>\n",
       "      <td>0</td>\n",
       "      <td>A 'hindrance to operations': extracts from the...</td>\n",
       "      <td>Scorecard</td>\n",
       "      <td>Hughes' instant hit buoys Blues</td>\n",
       "      <td>Jack gets his skates on at ice-cold Alex</td>\n",
       "      <td>Chaos as Maracana builds up for United</td>\n",
       "      <td>Depleted Leicester prevail as Elliott spoils E...</td>\n",
       "      <td>Hungry Spurs sense rich pickings</td>\n",
       "      <td>Gunners so wide of an easy target</td>\n",
       "      <td>...</td>\n",
       "      <td>Flintoff injury piles on woe for England</td>\n",
       "      <td>Hunters threaten Jospin with new battle of the...</td>\n",
       "      <td>Kohl's successor drawn into scandal</td>\n",
       "      <td>The difference between men and women</td>\n",
       "      <td>Sara Denver, nurse turned solicitor</td>\n",
       "      <td>Diana's landmine crusade put Tories in a panic</td>\n",
       "      <td>Yeltsin's resignation caught opposition flat-f...</td>\n",
       "      <td>Russian roulette</td>\n",
       "      <td>Sold out</td>\n",
       "      <td>Recovering a title</td>\n",
       "    </tr>\n",
       "    <tr>\n",
       "      <th>1</th>\n",
       "      <td>2000-01-04</td>\n",
       "      <td>0</td>\n",
       "      <td>Scorecard</td>\n",
       "      <td>The best lake scene</td>\n",
       "      <td>Leader: German sleaze inquiry</td>\n",
       "      <td>Cheerio, boyo</td>\n",
       "      <td>The main recommendations</td>\n",
       "      <td>Has Cubie killed fees?</td>\n",
       "      <td>Has Cubie killed fees?</td>\n",
       "      <td>Has Cubie killed fees?</td>\n",
       "      <td>...</td>\n",
       "      <td>On the critical list</td>\n",
       "      <td>The timing of their lives</td>\n",
       "      <td>Dear doctor</td>\n",
       "      <td>Irish court halts IRA man's extradition to Nor...</td>\n",
       "      <td>Burundi peace initiative fades after rebels re...</td>\n",
       "      <td>PE points the way forward to the ECB</td>\n",
       "      <td>Campaigners keep up pressure on Nazi war crime...</td>\n",
       "      <td>Jane Ratcliffe</td>\n",
       "      <td>Yet more things you wouldn't know without the ...</td>\n",
       "      <td>Millennium bug fails to bite</td>\n",
       "    </tr>\n",
       "    <tr>\n",
       "      <th>2</th>\n",
       "      <td>2000-01-05</td>\n",
       "      <td>0</td>\n",
       "      <td>Coventry caught on counter by Flo</td>\n",
       "      <td>United's rivals on the road to Rio</td>\n",
       "      <td>Thatcher issues defence before trial by video</td>\n",
       "      <td>Police help Smith lay down the law at Everton</td>\n",
       "      <td>Tale of Trautmann bears two more retellings</td>\n",
       "      <td>England on the rack</td>\n",
       "      <td>Pakistan retaliate with call for video of Walsh</td>\n",
       "      <td>Cullinan continues his Cape monopoly</td>\n",
       "      <td>...</td>\n",
       "      <td>South Melbourne (Australia)</td>\n",
       "      <td>Necaxa (Mexico)</td>\n",
       "      <td>Real Madrid (Spain)</td>\n",
       "      <td>Raja Casablanca (Morocco)</td>\n",
       "      <td>Corinthians (Brazil)</td>\n",
       "      <td>Tony's pet project</td>\n",
       "      <td>Al Nassr (Saudi Arabia)</td>\n",
       "      <td>Ideal Holmes show</td>\n",
       "      <td>Pinochet leaves hospital after tests</td>\n",
       "      <td>Useful links</td>\n",
       "    </tr>\n",
       "    <tr>\n",
       "      <th>3</th>\n",
       "      <td>2000-01-06</td>\n",
       "      <td>1</td>\n",
       "      <td>Pilgrim knows how to progress</td>\n",
       "      <td>Thatcher facing ban</td>\n",
       "      <td>McIlroy calls for Irish fighting spirit</td>\n",
       "      <td>Leicester bin stadium blueprint</td>\n",
       "      <td>United braced for Mexican wave</td>\n",
       "      <td>Auntie back in fashion, even if the dress look...</td>\n",
       "      <td>Shoaib appeal goes to the top</td>\n",
       "      <td>Hussain hurt by 'shambles' but lays blame on e...</td>\n",
       "      <td>...</td>\n",
       "      <td>Putin admits Yeltsin quit to give him a head s...</td>\n",
       "      <td>BBC worst hit as digital TV begins to bite</td>\n",
       "      <td>How much can you pay for...</td>\n",
       "      <td>Christmas glitches</td>\n",
       "      <td>Upending a table, Chopping a line and Scoring ...</td>\n",
       "      <td>Scientific evidence 'unreliable', defence claims</td>\n",
       "      <td>Fusco wins judicial review in extradition case</td>\n",
       "      <td>Rebels thwart Russian advance</td>\n",
       "      <td>Blair orders shake-up of failing NHS</td>\n",
       "      <td>Lessons of law's hard heart</td>\n",
       "    </tr>\n",
       "    <tr>\n",
       "      <th>4</th>\n",
       "      <td>2000-01-07</td>\n",
       "      <td>1</td>\n",
       "      <td>Hitches and Horlocks</td>\n",
       "      <td>Beckham off but United survive</td>\n",
       "      <td>Breast cancer screening</td>\n",
       "      <td>Alan Parker</td>\n",
       "      <td>Guardian readers: are you all whingers?</td>\n",
       "      <td>Hollywood Beyond</td>\n",
       "      <td>Ashes and diamonds</td>\n",
       "      <td>Whingers - a formidable minority</td>\n",
       "      <td>...</td>\n",
       "      <td>Most everywhere:  UDIs</td>\n",
       "      <td>Most wanted:  Chloe lunettes</td>\n",
       "      <td>Return of the cane 'completely off the agenda'</td>\n",
       "      <td>From Sleepy Hollow to Greeneland</td>\n",
       "      <td>Blunkett outlines vision for over 11s</td>\n",
       "      <td>Embattled Dobson attacks 'play now, pay later'...</td>\n",
       "      <td>Doom and the Dome</td>\n",
       "      <td>What is the north-south divide?</td>\n",
       "      <td>Aitken released from jail</td>\n",
       "      <td>Gone aloft</td>\n",
       "    </tr>\n",
       "  </tbody>\n",
       "</table>\n",
       "<p>5 rows × 27 columns</p>\n",
       "</div>"
      ],
      "text/plain": [
       "         Date  Label                                               Top1  \\\n",
       "0  2000-01-03      0  A 'hindrance to operations': extracts from the...   \n",
       "1  2000-01-04      0                                          Scorecard   \n",
       "2  2000-01-05      0                  Coventry caught on counter by Flo   \n",
       "3  2000-01-06      1                      Pilgrim knows how to progress   \n",
       "4  2000-01-07      1                               Hitches and Horlocks   \n",
       "\n",
       "                                 Top2  \\\n",
       "0                           Scorecard   \n",
       "1                 The best lake scene   \n",
       "2  United's rivals on the road to Rio   \n",
       "3                 Thatcher facing ban   \n",
       "4      Beckham off but United survive   \n",
       "\n",
       "                                            Top3  \\\n",
       "0                Hughes' instant hit buoys Blues   \n",
       "1                  Leader: German sleaze inquiry   \n",
       "2  Thatcher issues defence before trial by video   \n",
       "3        McIlroy calls for Irish fighting spirit   \n",
       "4                        Breast cancer screening   \n",
       "\n",
       "                                            Top4  \\\n",
       "0       Jack gets his skates on at ice-cold Alex   \n",
       "1                                  Cheerio, boyo   \n",
       "2  Police help Smith lay down the law at Everton   \n",
       "3                Leicester bin stadium blueprint   \n",
       "4                                    Alan Parker   \n",
       "\n",
       "                                          Top5  \\\n",
       "0       Chaos as Maracana builds up for United   \n",
       "1                     The main recommendations   \n",
       "2  Tale of Trautmann bears two more retellings   \n",
       "3               United braced for Mexican wave   \n",
       "4      Guardian readers: are you all whingers?   \n",
       "\n",
       "                                                Top6  \\\n",
       "0  Depleted Leicester prevail as Elliott spoils E...   \n",
       "1                             Has Cubie killed fees?   \n",
       "2                                England on the rack   \n",
       "3  Auntie back in fashion, even if the dress look...   \n",
       "4                                   Hollywood Beyond   \n",
       "\n",
       "                                              Top7  \\\n",
       "0                 Hungry Spurs sense rich pickings   \n",
       "1                           Has Cubie killed fees?   \n",
       "2  Pakistan retaliate with call for video of Walsh   \n",
       "3                    Shoaib appeal goes to the top   \n",
       "4                               Ashes and diamonds   \n",
       "\n",
       "                                                Top8  ...  \\\n",
       "0                  Gunners so wide of an easy target  ...   \n",
       "1                             Has Cubie killed fees?  ...   \n",
       "2               Cullinan continues his Cape monopoly  ...   \n",
       "3  Hussain hurt by 'shambles' but lays blame on e...  ...   \n",
       "4                   Whingers - a formidable minority  ...   \n",
       "\n",
       "                                               Top16  \\\n",
       "0           Flintoff injury piles on woe for England   \n",
       "1                               On the critical list   \n",
       "2                        South Melbourne (Australia)   \n",
       "3  Putin admits Yeltsin quit to give him a head s...   \n",
       "4                             Most everywhere:  UDIs   \n",
       "\n",
       "                                               Top17  \\\n",
       "0  Hunters threaten Jospin with new battle of the...   \n",
       "1                          The timing of their lives   \n",
       "2                                    Necaxa (Mexico)   \n",
       "3         BBC worst hit as digital TV begins to bite   \n",
       "4                       Most wanted:  Chloe lunettes   \n",
       "\n",
       "                                            Top18  \\\n",
       "0             Kohl's successor drawn into scandal   \n",
       "1                                     Dear doctor   \n",
       "2                             Real Madrid (Spain)   \n",
       "3                     How much can you pay for...   \n",
       "4  Return of the cane 'completely off the agenda'   \n",
       "\n",
       "                                               Top19  \\\n",
       "0               The difference between men and women   \n",
       "1  Irish court halts IRA man's extradition to Nor...   \n",
       "2                          Raja Casablanca (Morocco)   \n",
       "3                                 Christmas glitches   \n",
       "4                   From Sleepy Hollow to Greeneland   \n",
       "\n",
       "                                               Top20  \\\n",
       "0                Sara Denver, nurse turned solicitor   \n",
       "1  Burundi peace initiative fades after rebels re...   \n",
       "2                               Corinthians (Brazil)   \n",
       "3  Upending a table, Chopping a line and Scoring ...   \n",
       "4              Blunkett outlines vision for over 11s   \n",
       "\n",
       "                                               Top21  \\\n",
       "0     Diana's landmine crusade put Tories in a panic   \n",
       "1               PE points the way forward to the ECB   \n",
       "2                                 Tony's pet project   \n",
       "3   Scientific evidence 'unreliable', defence claims   \n",
       "4  Embattled Dobson attacks 'play now, pay later'...   \n",
       "\n",
       "                                               Top22  \\\n",
       "0  Yeltsin's resignation caught opposition flat-f...   \n",
       "1  Campaigners keep up pressure on Nazi war crime...   \n",
       "2                            Al Nassr (Saudi Arabia)   \n",
       "3     Fusco wins judicial review in extradition case   \n",
       "4                                  Doom and the Dome   \n",
       "\n",
       "                             Top23  \\\n",
       "0                 Russian roulette   \n",
       "1                   Jane Ratcliffe   \n",
       "2                Ideal Holmes show   \n",
       "3    Rebels thwart Russian advance   \n",
       "4  What is the north-south divide?   \n",
       "\n",
       "                                               Top24  \\\n",
       "0                                           Sold out   \n",
       "1  Yet more things you wouldn't know without the ...   \n",
       "2               Pinochet leaves hospital after tests   \n",
       "3               Blair orders shake-up of failing NHS   \n",
       "4                          Aitken released from jail   \n",
       "\n",
       "                          Top25  \n",
       "0            Recovering a title  \n",
       "1  Millennium bug fails to bite  \n",
       "2                  Useful links  \n",
       "3   Lessons of law's hard heart  \n",
       "4                    Gone aloft  \n",
       "\n",
       "[5 rows x 27 columns]"
      ]
     },
     "execution_count": 62,
     "metadata": {},
     "output_type": "execute_result"
    }
   ],
   "source": [
    "df=pd.read_csv('stock headlines.csv', encoding=\"ISO-8859-1\")\n",
    "df.head()"
   ]
  },
  {
   "cell_type": "code",
   "execution_count": 63,
   "metadata": {
    "colab": {
     "base_uri": "https://localhost:8080/",
     "height": 34
    },
    "colab_type": "code",
    "id": "hnp18Qcg1Rbx",
    "outputId": "96ad0d96-9243-4f1d-d165-f5bd983b0e32"
   },
   "outputs": [
    {
     "data": {
      "text/plain": [
       "(3975, 27)"
      ]
     },
     "execution_count": 63,
     "metadata": {},
     "output_type": "execute_result"
    }
   ],
   "source": [
    "train=df[df['Date']<'20150101']\n",
    "test=df[df['Date']>'20141231']\n",
    "train.shape"
   ]
  },
  {
   "cell_type": "code",
   "execution_count": 64,
   "metadata": {
    "colab": {},
    "colab_type": "code",
    "id": "-XbZuJS51Rb2"
   },
   "outputs": [],
   "source": [
    "#Removing punctuations \n",
    "data=train.iloc[:,2:27]\n",
    "data.replace(\"[^a-zA-Z]\", \" \",regex=True, inplace=True)"
   ]
  },
  {
   "cell_type": "code",
   "execution_count": 65,
   "metadata": {
    "colab": {
     "base_uri": "https://localhost:8080/",
     "height": 104
    },
    "colab_type": "code",
    "id": "nYDP-0LM1RcB",
    "outputId": "800268ce-4bc2-4b89-9dbe-14dd8b9781b1"
   },
   "outputs": [
    {
     "data": {
      "text/plain": [
       "Index(['Top1', 'Top2', 'Top3', 'Top4', 'Top5', 'Top6', 'Top7', 'Top8', 'Top9',\n",
       "       'Top10', 'Top11', 'Top12', 'Top13', 'Top14', 'Top15', 'Top16', 'Top17',\n",
       "       'Top18', 'Top19', 'Top20', 'Top21', 'Top22', 'Top23', 'Top24', 'Top25'],\n",
       "      dtype='object')"
      ]
     },
     "execution_count": 65,
     "metadata": {},
     "output_type": "execute_result"
    }
   ],
   "source": [
    "data.columns"
   ]
  },
  {
   "cell_type": "code",
   "execution_count": 66,
   "metadata": {
    "colab": {
     "base_uri": "https://localhost:8080/",
     "height": 214
    },
    "colab_type": "code",
    "id": "mBN-6D_W1RcH",
    "outputId": "bc29a18b-4d4b-4e4d-b6b1-db20dc7d5a4d"
   },
   "outputs": [
    {
     "data": {
      "text/html": [
       "<div>\n",
       "<style scoped>\n",
       "    .dataframe tbody tr th:only-of-type {\n",
       "        vertical-align: middle;\n",
       "    }\n",
       "\n",
       "    .dataframe tbody tr th {\n",
       "        vertical-align: top;\n",
       "    }\n",
       "\n",
       "    .dataframe thead th {\n",
       "        text-align: right;\n",
       "    }\n",
       "</style>\n",
       "<table border=\"1\" class=\"dataframe\">\n",
       "  <thead>\n",
       "    <tr style=\"text-align: right;\">\n",
       "      <th></th>\n",
       "      <th>Top1</th>\n",
       "      <th>Top2</th>\n",
       "      <th>Top3</th>\n",
       "      <th>Top4</th>\n",
       "      <th>Top5</th>\n",
       "      <th>Top6</th>\n",
       "      <th>Top7</th>\n",
       "      <th>Top8</th>\n",
       "      <th>Top9</th>\n",
       "      <th>Top10</th>\n",
       "      <th>...</th>\n",
       "      <th>Top16</th>\n",
       "      <th>Top17</th>\n",
       "      <th>Top18</th>\n",
       "      <th>Top19</th>\n",
       "      <th>Top20</th>\n",
       "      <th>Top21</th>\n",
       "      <th>Top22</th>\n",
       "      <th>Top23</th>\n",
       "      <th>Top24</th>\n",
       "      <th>Top25</th>\n",
       "    </tr>\n",
       "  </thead>\n",
       "  <tbody>\n",
       "    <tr>\n",
       "      <th>0</th>\n",
       "      <td>a  hindrance to operations   extracts from the...</td>\n",
       "      <td>scorecard</td>\n",
       "      <td>hughes  instant hit buoys blues</td>\n",
       "      <td>jack gets his skates on at ice cold alex</td>\n",
       "      <td>chaos as maracana builds up for united</td>\n",
       "      <td>depleted leicester prevail as elliott spoils e...</td>\n",
       "      <td>hungry spurs sense rich pickings</td>\n",
       "      <td>gunners so wide of an easy target</td>\n",
       "      <td>derby raise a glass to strupar s debut double</td>\n",
       "      <td>southgate strikes  leeds pay the penalty</td>\n",
       "      <td>...</td>\n",
       "      <td>flintoff injury piles on woe for england</td>\n",
       "      <td>hunters threaten jospin with new battle of the...</td>\n",
       "      <td>kohl s successor drawn into scandal</td>\n",
       "      <td>the difference between men and women</td>\n",
       "      <td>sara denver  nurse turned solicitor</td>\n",
       "      <td>diana s landmine crusade put tories in a panic</td>\n",
       "      <td>yeltsin s resignation caught opposition flat f...</td>\n",
       "      <td>russian roulette</td>\n",
       "      <td>sold out</td>\n",
       "      <td>recovering a title</td>\n",
       "    </tr>\n",
       "  </tbody>\n",
       "</table>\n",
       "<p>1 rows × 25 columns</p>\n",
       "</div>"
      ],
      "text/plain": [
       "                                                Top1       Top2  \\\n",
       "0  a  hindrance to operations   extracts from the...  scorecard   \n",
       "\n",
       "                              Top3                                      Top4  \\\n",
       "0  hughes  instant hit buoys blues  jack gets his skates on at ice cold alex   \n",
       "\n",
       "                                     Top5  \\\n",
       "0  chaos as maracana builds up for united   \n",
       "\n",
       "                                                Top6  \\\n",
       "0  depleted leicester prevail as elliott spoils e...   \n",
       "\n",
       "                               Top7                               Top8  \\\n",
       "0  hungry spurs sense rich pickings  gunners so wide of an easy target   \n",
       "\n",
       "                                            Top9  \\\n",
       "0  derby raise a glass to strupar s debut double   \n",
       "\n",
       "                                      Top10  ...  \\\n",
       "0  southgate strikes  leeds pay the penalty  ...   \n",
       "\n",
       "                                      Top16  \\\n",
       "0  flintoff injury piles on woe for england   \n",
       "\n",
       "                                               Top17  \\\n",
       "0  hunters threaten jospin with new battle of the...   \n",
       "\n",
       "                                 Top18                                 Top19  \\\n",
       "0  kohl s successor drawn into scandal  the difference between men and women   \n",
       "\n",
       "                                 Top20  \\\n",
       "0  sara denver  nurse turned solicitor   \n",
       "\n",
       "                                            Top21  \\\n",
       "0  diana s landmine crusade put tories in a panic   \n",
       "\n",
       "                                               Top22             Top23  \\\n",
       "0  yeltsin s resignation caught opposition flat f...  russian roulette   \n",
       "\n",
       "      Top24               Top25  \n",
       "0  sold out  recovering a title  \n",
       "\n",
       "[1 rows x 25 columns]"
      ]
     },
     "execution_count": 66,
     "metadata": {},
     "output_type": "execute_result"
    }
   ],
   "source": [
    "for col in data.columns:\n",
    "    data[col]=data[col].str.lower()\n",
    "data.head(1)"
   ]
  },
  {
   "cell_type": "code",
   "execution_count": 67,
   "metadata": {
    "colab": {},
    "colab_type": "code",
    "id": "jkJVMnYN1RcP"
   },
   "outputs": [],
   "source": [
    "headlines = []\n",
    "for row in range(0,len(data.index)):\n",
    "    headlines.append(' '.join(str(x) for x in data.iloc[row,0:25]))"
   ]
  },
  {
   "cell_type": "markdown",
   "metadata": {
    "colab_type": "text",
    "id": "g7fWRtoO1Rcf"
   },
   "source": [
    "# Using TF-IDF"
   ]
  },
  {
   "cell_type": "code",
   "execution_count": 68,
   "metadata": {
    "colab": {},
    "colab_type": "code",
    "id": "6kpoopqZ1Rch"
   },
   "outputs": [],
   "source": [
    "from sklearn.feature_extraction.text import TfidfVectorizer\n",
    "from sklearn.ensemble import RandomForestClassifier"
   ]
  },
  {
   "cell_type": "code",
   "execution_count": 69,
   "metadata": {
    "colab": {},
    "colab_type": "code",
    "id": "Qyr3YBJY1Rcq"
   },
   "outputs": [],
   "source": [
    "#implement TF-IDF\n",
    "tfvector=TfidfVectorizer(ngram_range=(2,3))\n",
    "train_df=tfvector.fit_transform(headlines)"
   ]
  },
  {
   "cell_type": "code",
   "execution_count": 70,
   "metadata": {
    "colab": {},
    "colab_type": "code",
    "id": "JQZU7U1Oer_c"
   },
   "outputs": [],
   "source": [
    "import pickle\n",
    "pickle.dump(tfvector, open('tfvector.pkl', 'wb'))"
   ]
  },
  {
   "cell_type": "markdown",
   "metadata": {
    "colab_type": "text",
    "id": "2kdF4I731Rcy"
   },
   "source": [
    "# RandomForestClassifier"
   ]
  },
  {
   "cell_type": "code",
   "execution_count": 71,
   "metadata": {
    "colab": {
     "base_uri": "https://localhost:8080/",
     "height": 171
    },
    "colab_type": "code",
    "id": "ozVxttc01Rcz",
    "outputId": "e02b395d-6eef-4dbd-c92d-73c6a5cffdb5"
   },
   "outputs": [
    {
     "data": {
      "text/plain": [
       "RandomForestClassifier(criterion='entropy', n_estimators=200)"
      ]
     },
     "execution_count": 71,
     "metadata": {},
     "output_type": "execute_result"
    }
   ],
   "source": [
    "# implement RandomForest Classifier\n",
    "randomclassifier=RandomForestClassifier(n_estimators=200,criterion='entropy')\n",
    "randomclassifier.fit(train_df,train['Label'])"
   ]
  },
  {
   "cell_type": "markdown",
   "metadata": {
    "colab_type": "text",
    "id": "NdrJKO3T1Rc5"
   },
   "source": [
    "# plot_confusion_matrix"
   ]
  },
  {
   "cell_type": "code",
   "execution_count": 72,
   "metadata": {
    "colab": {},
    "colab_type": "code",
    "id": "rTVQUVGG1Rc6"
   },
   "outputs": [],
   "source": [
    "from sklearn import metrics\n",
    "import itertools\n",
    "def plot_confusion_matrix(cm, classes,\n",
    "                          normalize=False,\n",
    "                          title='Confusion matrix',\n",
    "                          cmap=plt.cm.Blues):\n",
    "    \"\"\"\n",
    "    See full source and example: \n",
    "    http://scikit-learn.org/stable/auto_examples/model_selection/plot_confusion_matrix.html\n",
    "    \n",
    "    This function prints and plots the confusion matrix.\n",
    "    Normalization can be applied by setting `normalize=True`.\n",
    "    \"\"\"\n",
    "    plt.imshow(cm, interpolation='nearest', cmap=cmap)\n",
    "    plt.title(title)\n",
    "    plt.colorbar()\n",
    "    tick_marks = np.arange(len(classes))\n",
    "    plt.xticks(tick_marks, classes, rotation=45)\n",
    "    plt.yticks(tick_marks, classes)\n",
    "\n",
    "    if normalize:\n",
    "        cm = cm.astype('float') / cm.sum(axis=1)[:, np.newaxis]\n",
    "        print(\"Normalized confusion matrix\")\n",
    "    else:\n",
    "        print('Confusion matrix, without normalization')\n",
    "\n",
    "    thresh = cm.max() / 2.\n",
    "    for i, j in itertools.product(range(cm.shape[0]), range(cm.shape[1])):\n",
    "        plt.text(j, i, cm[i, j],\n",
    "                 horizontalalignment=\"center\",\n",
    "                 color=\"white\" if cm[i, j] > thresh else \"black\")\n",
    "\n",
    "    plt.tight_layout()\n",
    "    plt.ylabel('True label')\n",
    "    plt.xlabel('Predicted label')"
   ]
  },
  {
   "cell_type": "code",
   "execution_count": 73,
   "metadata": {
    "colab": {
     "base_uri": "https://localhost:8080/",
     "height": 404
    },
    "colab_type": "code",
    "id": "KOJ_1Cc01RdH",
    "outputId": "344d723b-1306-403f-a776-5936c5691709"
   },
   "outputs": [],
   "source": [
    "# Predict for the Test Dataset\n",
    "test_transform= []\n",
    "for row in range(0,len(test.index)):\n",
    "    test_transform.append(' '.join(str(x) for x in test.iloc[row,2:27]))\n",
    "test_dataset = tfvector.transform(test_transform)\n",
    "predictions = randomclassifier.predict(test_dataset)"
   ]
  },
  {
   "cell_type": "code",
   "execution_count": 74,
   "metadata": {
    "colab": {
     "base_uri": "https://localhost:8080/",
     "height": 530
    },
    "colab_type": "code",
    "id": "vR9_AyEp1RdL",
    "outputId": "d214e36b-48bd-4472-94e3-1e1553fe9c51"
   },
   "outputs": [
    {
     "name": "stdout",
     "output_type": "stream",
     "text": [
      "[[149  37]\n",
      " [ 16 176]]\n",
      "0.8597883597883598\n",
      "              precision    recall  f1-score   support\n",
      "\n",
      "           0       0.90      0.80      0.85       186\n",
      "           1       0.83      0.92      0.87       192\n",
      "\n",
      "    accuracy                           0.86       378\n",
      "   macro avg       0.86      0.86      0.86       378\n",
      "weighted avg       0.86      0.86      0.86       378\n",
      "\n",
      "Confusion matrix, without normalization\n"
     ]
    },
    {
     "data": {
      "image/png": "[encoded data removed]",
      "text/plain": [
       "<Figure size 432x288 with 2 Axes>"
      ]
     },
     "metadata": {
      "needs_background": "light"
     },
     "output_type": "display_data"
    }
   ],
   "source": [
    "from sklearn.metrics import classification_report,confusion_matrix,accuracy_score\n",
    "matrix=confusion_matrix(test['Label'],predictions)\n",
    "print(matrix)\n",
    "score=accuracy_score(test['Label'],predictions)\n",
    "print(score)\n",
    "report=classification_report(test['Label'],predictions)\n",
    "print(report)\n",
    "plot_confusion_matrix(matrix, classes=['Down', 'Up'])"
   ]
  },
  {
   "cell_type": "markdown",
   "metadata": {
    "colab_type": "text",
    "id": "XgukNH-Y1RdV"
   },
   "source": [
    "# MultinomialNB"
   ]
  },
  {
   "cell_type": "code",
   "execution_count": 75,
   "metadata": {
    "colab": {
     "base_uri": "https://localhost:8080/",
     "height": 34
    },
    "colab_type": "code",
    "id": "VE1rFIe61RdW",
    "outputId": "88a2d03e-f0d8-4854-8518-f7c22a21c9c9"
   },
   "outputs": [
    {
     "data": {
      "text/plain": [
       "MultinomialNB()"
      ]
     },
     "execution_count": 75,
     "metadata": {},
     "output_type": "execute_result"
    }
   ],
   "source": [
    "from sklearn.naive_bayes import MultinomialNB\n",
    "nb=MultinomialNB()\n",
    "nb.fit(train_df,train['Label'])"
   ]
  },
  {
   "cell_type": "code",
   "execution_count": 76,
   "metadata": {
    "colab": {
     "base_uri": "https://localhost:8080/",
     "height": 530
    },
    "colab_type": "code",
    "id": "gCEcB3Xv1Rda",
    "outputId": "9bef139d-f541-46f6-8e80-98adfbf6757a"
   },
   "outputs": [
    {
     "name": "stdout",
     "output_type": "stream",
     "text": [
      "[[130  56]\n",
      " [  0 192]]\n",
      "0.8518518518518519\n",
      "              precision    recall  f1-score   support\n",
      "\n",
      "           0       1.00      0.70      0.82       186\n",
      "           1       0.77      1.00      0.87       192\n",
      "\n",
      "    accuracy                           0.85       378\n",
      "   macro avg       0.89      0.85      0.85       378\n",
      "weighted avg       0.89      0.85      0.85       378\n",
      "\n",
      "Confusion matrix, without normalization\n"
     ]
    },
    {
     "data": {
      "image/png": "[encoded data removed]",
      "text/plain": [
       "<Figure size 432x288 with 2 Axes>"
      ]
     },
     "metadata": {
      "needs_background": "light"
     },
     "output_type": "display_data"
    }
   ],
   "source": [
    "predictions = nb.predict(test_dataset)\n",
    "matrix=confusion_matrix(test['Label'],predictions)\n",
    "print(matrix)\n",
    "score=accuracy_score(test['Label'],predictions)\n",
    "print(score)\n",
    "report=classification_report(test['Label'],predictions)\n",
    "print(report)\n",
    "plot_confusion_matrix(matrix, classes=['Down', 'Up'])"
   ]
  },
  {
   "cell_type": "markdown",
   "metadata": {
    "colab_type": "text",
    "id": "yOkCT0xL1Rdh"
   },
   "source": [
    "# PassiveAggressiveClassifier"
   ]
  },
  {
   "cell_type": "code",
   "execution_count": 77,
   "metadata": {
    "colab": {
     "base_uri": "https://localhost:8080/",
     "height": 138
    },
    "colab_type": "code",
    "id": "AtY4MaGs1Rdj",
    "outputId": "87991545-1725-43ec-bc78-3326139f941a"
   },
   "outputs": [
    {
     "data": {
      "text/plain": [
       "PassiveAggressiveClassifier()"
      ]
     },
     "execution_count": 77,
     "metadata": {},
     "output_type": "execute_result"
    }
   ],
   "source": [
    "from sklearn.linear_model import PassiveAggressiveClassifier\n",
    "pa = PassiveAggressiveClassifier()\n",
    "\n",
    "pa.fit(train_df,train['Label'])"
   ]
  },
  {
   "cell_type": "code",
   "execution_count": 78,
   "metadata": {
    "colab": {},
    "colab_type": "code",
    "id": "snpFABsa55Fz"
   },
   "outputs": [],
   "source": [
    "import pickle\n",
    "filename = 'stock_senti.pkl'\n",
    "pickle.dump(pa, open(filename, 'wb'))"
   ]
  },
  {
   "cell_type": "code",
   "execution_count": 79,
   "metadata": {
    "colab": {
     "base_uri": "https://localhost:8080/",
     "height": 530
    },
    "colab_type": "code",
    "id": "r9SXxdzR1Rdq",
    "outputId": "3b877e7c-dbf5-4de2-b2d1-77d3c61f45f9"
   },
   "outputs": [
    {
     "name": "stdout",
     "output_type": "stream",
     "text": [
      "[[145  41]\n",
      " [ 15 177]]\n",
      "0.8518518518518519\n",
      "              precision    recall  f1-score   support\n",
      "\n",
      "           0       0.91      0.78      0.84       186\n",
      "           1       0.81      0.92      0.86       192\n",
      "\n",
      "    accuracy                           0.85       378\n",
      "   macro avg       0.86      0.85      0.85       378\n",
      "weighted avg       0.86      0.85      0.85       378\n",
      "\n",
      "Confusion matrix, without normalization\n"
     ]
    },
    {
     "data": {
      "image/png": "[encoded data removed]",
      "text/plain": [
       "<Figure size 432x288 with 2 Axes>"
      ]
     },
     "metadata": {
      "needs_background": "light"
     },
     "output_type": "display_data"
    }
   ],
   "source": [
    "predictions = pa.predict(test_dataset)\n",
    "matrix=confusion_matrix(test['Label'],predictions)\n",
    "print(matrix)\n",
    "score=accuracy_score(test['Label'],predictions)\n",
    "print(score)\n",
    "report=classification_report(test['Label'],predictions)\n",
    "print(report)\n",
    "plot_confusion_matrix(matrix, classes=['Down', 'Up'])"
   ]
  },
  {
   "cell_type": "markdown",
   "metadata": {
    "colab_type": "text",
    "id": "3AXJdZPh1Rdw"
   },
   "source": [
    "# Using bag of words"
   ]
  },
  {
   "cell_type": "code",
   "execution_count": 80,
   "metadata": {
    "colab": {},
    "colab_type": "code",
    "id": "fPNB4gxM1Rdx"
   },
   "outputs": [],
   "source": [
    "from sklearn.feature_extraction.text import CountVectorizer\n",
    "#implement bag of words\n",
    "bow=CountVectorizer(ngram_range=(2,3))\n",
    "train_df=bow.fit_transform(headlines)"
   ]
  },
  {
   "cell_type": "markdown",
   "metadata": {
    "colab_type": "text",
    "id": "70he5tsd1Rd4"
   },
   "source": [
    "# RandomForestClassifier using Bag of words"
   ]
  },
  {
   "cell_type": "code",
   "execution_count": 81,
   "metadata": {
    "colab": {
     "base_uri": "https://localhost:8080/",
     "height": 171
    },
    "colab_type": "code",
    "id": "1TW-L4_V1Rd5",
    "outputId": "7cf889b9-e5e3-405e-fb01-000b0d0acfa5"
   },
   "outputs": [
    {
     "data": {
      "text/plain": [
       "RandomForestClassifier(criterion='entropy', n_estimators=200)"
      ]
     },
     "execution_count": 81,
     "metadata": {},
     "output_type": "execute_result"
    }
   ],
   "source": [
    "# implement RandomForest Classifier\n",
    "randomclassifier=RandomForestClassifier(n_estimators=200,criterion='entropy')\n",
    "randomclassifier.fit(train_df,train['Label'])"
   ]
  },
  {
   "cell_type": "code",
   "execution_count": 82,
   "metadata": {
    "colab": {
     "base_uri": "https://localhost:8080/",
     "height": 272
    },
    "colab_type": "code",
    "id": "G-nn4ahA1Rd8",
    "outputId": "29377223-14a9-4283-b680-c2ac89d54650"
   },
   "outputs": [
    {
     "name": "stdout",
     "output_type": "stream",
     "text": [
      "[[  0 186]\n",
      " [  0 192]]\n",
      "0.5079365079365079\n",
      "              precision    recall  f1-score   support\n",
      "\n",
      "           0       0.00      0.00      0.00       186\n",
      "           1       0.51      1.00      0.67       192\n",
      "\n",
      "    accuracy                           0.51       378\n",
      "   macro avg       0.25      0.50      0.34       378\n",
      "weighted avg       0.26      0.51      0.34       378\n",
      "\n"
     ]
    },
    {
     "name": "stderr",
     "output_type": "stream",
     "text": [
      "C:\\Users\\psai1\\anaconda3\\lib\\site-packages\\sklearn\\metrics\\_classification.py:1248: UndefinedMetricWarning: Precision and F-score are ill-defined and being set to 0.0 in labels with no predicted samples. Use `zero_division` parameter to control this behavior.\n",
      "  _warn_prf(average, modifier, msg_start, len(result))\n",
      "C:\\Users\\psai1\\anaconda3\\lib\\site-packages\\sklearn\\metrics\\_classification.py:1248: UndefinedMetricWarning: Precision and F-score are ill-defined and being set to 0.0 in labels with no predicted samples. Use `zero_division` parameter to control this behavior.\n",
      "  _warn_prf(average, modifier, msg_start, len(result))\n",
      "C:\\Users\\psai1\\anaconda3\\lib\\site-packages\\sklearn\\metrics\\_classification.py:1248: UndefinedMetricWarning: Precision and F-score are ill-defined and being set to 0.0 in labels with no predicted samples. Use `zero_division` parameter to control this behavior.\n",
      "  _warn_prf(average, modifier, msg_start, len(result))\n"
     ]
    }
   ],
   "source": [
    "predictions = randomclassifier.predict(test_dataset)\n",
    "matrix=confusion_matrix(test['Label'],predictions)\n",
    "print(matrix)\n",
    "score=accuracy_score(test['Label'],predictions)\n",
    "print(score)\n",
    "report=classification_report(test['Label'],predictions)\n",
    "print(report)"
   ]
  },
  {
   "cell_type": "markdown",
   "metadata": {
    "colab_type": "text",
    "id": "7_l3CmX61ReC"
   },
   "source": [
    "# MultinomialNB using Bag of words"
   ]
  },
  {
   "cell_type": "code",
   "execution_count": 83,
   "metadata": {
    "colab": {
     "base_uri": "https://localhost:8080/",
     "height": 530
    },
    "colab_type": "code",
    "id": "dqXfd_pk1ReE",
    "outputId": "6bf44b97-f39b-405d-e7c9-fa678331b1ed"
   },
   "outputs": [
    {
     "name": "stdout",
     "output_type": "stream",
     "text": [
      "[[141  45]\n",
      " [ 10 182]]\n",
      "0.8544973544973545\n",
      "              precision    recall  f1-score   support\n",
      "\n",
      "           0       0.93      0.76      0.84       186\n",
      "           1       0.80      0.95      0.87       192\n",
      "\n",
      "    accuracy                           0.85       378\n",
      "   macro avg       0.87      0.85      0.85       378\n",
      "weighted avg       0.87      0.85      0.85       378\n",
      "\n",
      "Confusion matrix, without normalization\n"
     ]
    },
    {
     "data": {
      "image/png": "[encoded data removed]",
      "text/plain": [
       "<Figure size 432x288 with 2 Axes>"
      ]
     },
     "metadata": {
      "needs_background": "light"
     },
     "output_type": "display_data"
    }
   ],
   "source": [
    "from sklearn.naive_bayes import MultinomialNB\n",
    "nb=MultinomialNB()\n",
    "nb.fit(train_df,train['Label'])\n",
    "\n",
    "predictions = nb.predict(test_dataset)\n",
    "matrix=confusion_matrix(test['Label'],predictions)\n",
    "print(matrix)\n",
    "score=accuracy_score(test['Label'],predictions)\n",
    "print(score)\n",
    "report=classification_report(test['Label'],predictions)\n",
    "print(report)\n",
    "plot_confusion_matrix(matrix, classes=['Down', 'Up'])"
   ]
  },
  {
   "cell_type": "markdown",
   "metadata": {
    "colab_type": "text",
    "id": "pxGf-HVs1ReK"
   },
   "source": [
    "# PassiveAggressiveClassifier using Bag of Words"
   ]
  },
  {
   "cell_type": "code",
   "execution_count": 84,
   "metadata": {
    "colab": {
     "base_uri": "https://localhost:8080/",
     "height": 530
    },
    "colab_type": "code",
    "id": "uikUIh-p1ReK",
    "outputId": "66cf0ac2-5d1f-4e16-aaa9-506a4fca0dfb",
    "scrolled": false
   },
   "outputs": [
    {
     "name": "stdout",
     "output_type": "stream",
     "text": [
      "[[154  32]\n",
      " [ 24 168]]\n",
      "0.8518518518518519\n",
      "              precision    recall  f1-score   support\n",
      "\n",
      "           0       0.87      0.83      0.85       186\n",
      "           1       0.84      0.88      0.86       192\n",
      "\n",
      "    accuracy                           0.85       378\n",
      "   macro avg       0.85      0.85      0.85       378\n",
      "weighted avg       0.85      0.85      0.85       378\n",
      "\n",
      "Confusion matrix, without normalization\n"
     ]
    },
    {
     "data": {
      "image/png": "[encoded data removed]",
      "text/plain": [
       "<Figure size 432x288 with 2 Axes>"
      ]
     },
     "metadata": {
      "needs_background": "light"
     },
     "output_type": "display_data"
    }
   ],
   "source": [
    "from sklearn.linear_model import PassiveAggressiveClassifier\n",
    "pa = PassiveAggressiveClassifier()\n",
    "pa.fit(train_df,train['Label'])\n",
    "\n",
    "predictions = pa.predict(test_dataset)\n",
    "matrix=confusion_matrix(test['Label'],predictions)\n",
    "print(matrix)\n",
    "score=accuracy_score(test['Label'],predictions)\n",
    "print(score)\n",
    "report=classification_report(test['Label'],predictions)\n",
    "print(report)\n",
    "plot_confusion_matrix(matrix, classes=['Down', 'Up'])"
   ]
  },
  {
   "cell_type": "markdown",
   "metadata": {},
   "source": [
    "# Spark"
   ]
  },
  {
   "cell_type": "code",
   "execution_count": 85,
   "metadata": {},
   "outputs": [],
   "source": [
    "import findspark\n",
    "findspark.init()\n",
    "import pyspark\n",
    "from pyspark.sql.session import SparkSession\n",
    "spark = SparkSession.builder.appName(\"Yahoo finance\").getOrCreate()"
   ]
  },
  {
   "cell_type": "code",
   "execution_count": 86,
   "metadata": {},
   "outputs": [
    {
     "name": "stdout",
     "output_type": "stream",
     "text": [
      "+--------------------+-----------------+-----------------+-----------------+-----------------+----------+---------+------------+-----+----------------+----------------+------------+---------+\n",
      "|                Date|             Open|             High|              Low|            Close|    Volume|Dividends|Stock Splits|Month|            diff|   high_low_diff|week_of_year| week_day|\n",
      "+--------------------+-----------------+-----------------+-----------------+-----------------+----------+---------+------------+-----+----------------+----------------+------------+---------+\n",
      "|2021-01-04 00:00:...|3764.610107421875|3769.989990234375|  3662.7099609375| 3700.64990234375|5015000000|      0.0|         0.0|    1| 63.960205078125|107.280029296875|           1|   Monday|\n",
      "|2021-01-05 00:00:...| 3698.02001953125|   3737.830078125|3695.070068359375|3726.860107421875|4591020000|      0.0|         0.0|    1|-28.840087890625| 42.760009765625|           1|  Tuesday|\n",
      "|2021-01-06 00:00:...|3712.199951171875|  3783.0400390625|3705.340087890625|3748.139892578125|6064110000|      0.0|         0.0|    1| -35.93994140625| 77.699951171875|           1|Wednesday|\n",
      "|2021-01-07 00:00:...|  3764.7099609375|3811.550048828125|  3764.7099609375|  3803.7900390625|5099160000|      0.0|         0.0|    1|   -39.080078125| 46.840087890625|           1| Thursday|\n",
      "|2021-01-08 00:00:...|3815.050048828125| 3826.68994140625| 3783.60009765625|3824.679931640625|4773040000|      0.0|         0.0|    1|   -9.6298828125|     43.08984375|           1|   Friday|\n",
      "+--------------------+-----------------+-----------------+-----------------+-----------------+----------+---------+------------+-----+----------------+----------------+------------+---------+\n",
      "only showing top 5 rows\n",
      "\n"
     ]
    }
   ],
   "source": [
    "import yfinance as yf\n",
    "import csv\n",
    "from pyspark.sql.functions import date_format\n",
    "\n",
    "from pyspark.sql.functions import dayofmonth, hour, dayofyear, month, year, weekofyear\n",
    "\n",
    "ticker = '^GSPC' # tsla\n",
    "start_dt = '2021-1-1'\n",
    "end_dt = '2022-12-31'\n",
    "frequency = '1d'\n",
    "\n",
    "#get data for SPX\n",
    "data = yf.Ticker(ticker)\n",
    "#ticker_name = data.info['longName']\n",
    "\n",
    "#get weekly historical prices for this ticker\n",
    "df = data.history(interval = frequency, start = start_dt, end = end_dt)\n",
    "\n",
    "# write data into a csv file\n",
    "df.to_csv('spx.csv')\n",
    "\n",
    "# Let Spark know about the header and infer the Schema types!\n",
    "df = spark.read.csv('spx.csv',inferSchema=True,header=True)\n",
    "\n",
    "# create new dataframe month_df adding new columns month, diff, high_low_diff and weekofyear\n",
    "daily_df = df.withColumn('Month', month(df['Date'])).withColumn('diff', df['Open']-df['Close']).withColumn('high_low_diff', df['High']-df['Low']) \\\n",
    ".withColumn('week_of_year', weekofyear(df.Date)).withColumn('week_day', date_format(df.Date, \"EEEE\"))\n",
    "daily_df.show(5)"
   ]
  },
  {
   "cell_type": "code",
   "execution_count": 87,
   "metadata": {},
   "outputs": [
    {
     "name": "stdout",
     "output_type": "stream",
     "text": [
      "+--------------------+----------------+----------------+----------------+----------------+----------+---------+------------+-----+----------------+---------------+------------+---------+\n",
      "|                Date|            Open|            High|             Low|           Close|    Volume|Dividends|Stock Splits|Month|            diff|  high_low_diff|week_of_year| week_day|\n",
      "+--------------------+----------------+----------------+----------------+----------------+----------+---------+------------+-----+----------------+---------------+------------+---------+\n",
      "|2022-01-05 00:00:...|  4787.990234375| 4797.7001953125|4699.43994140625|  4700.580078125|4887960000|      0.0|         0.0|    1|     87.41015625| 98.26025390625|           1|Wednesday|\n",
      "|2022-01-07 00:00:...|   4697.66015625| 4707.9501953125|  4662.740234375|4677.02978515625|4181510000|      0.0|         0.0|    1|  20.63037109375|  45.2099609375|           1|   Friday|\n",
      "|2022-01-11 00:00:...|4669.14013671875| 4714.1298828125|4638.27001953125|4713.06982421875|4101590000|      0.0|         0.0|    1|     -43.9296875| 75.85986328125|           2|  Tuesday|\n",
      "|2022-01-13 00:00:...|4733.56005859375| 4744.1298828125| 4650.2900390625|4659.02978515625|4251730000|      0.0|         0.0|    1|   74.5302734375|    93.83984375|           2| Thursday|\n",
      "|2022-01-14 00:00:...|  4637.990234375| 4665.1298828125|         4614.75|4662.85009765625|4338490000|      0.0|         0.0|    1| -24.85986328125|  50.3798828125|           2|   Friday|\n",
      "|2022-01-18 00:00:...|  4632.240234375|  4632.240234375| 4568.7001953125|4577.10986328125|4748700000|      0.0|         0.0|    1|  55.13037109375|  63.5400390625|           3|  Tuesday|\n",
      "|2022-01-19 00:00:...|4588.02978515625| 4611.5498046875| 4530.2001953125|  4532.759765625|4465740000|      0.0|         0.0|    1|  55.27001953125|   81.349609375|           3|Wednesday|\n",
      "|2022-01-20 00:00:...|4547.35009765625|4602.10986328125| 4477.9501953125|4482.72998046875|4640870000|      0.0|         0.0|    1|   64.6201171875|124.15966796875|           3| Thursday|\n",
      "|2022-01-21 00:00:...| 4471.3798828125|4494.52001953125|   4395.33984375|4397.93994140625|5589100000|      0.0|         0.0|    1|  73.43994140625| 99.18017578125|           3|   Friday|\n",
      "|2022-01-24 00:00:...|4356.31982421875|4417.35009765625| 4222.6201171875| 4410.1298828125|6928110000|      0.0|         0.0|    1| -53.81005859375|194.72998046875|           4|   Monday|\n",
      "|2022-01-26 00:00:...|4408.43017578125|4453.22998046875| 4304.7998046875|4349.93017578125|5570640000|      0.0|         0.0|    1|            58.5|148.43017578125|           4|Wednesday|\n",
      "|2022-01-27 00:00:...|  4380.580078125|  4428.740234375|          4309.5|  4326.509765625|5214200000|      0.0|         0.0|    1|      54.0703125|  119.240234375|           4| Thursday|\n",
      "|2022-01-28 00:00:...|4336.18994140625|4432.72021484375| 4292.4599609375|4431.85009765625|5031090000|      0.0|         0.0|    1|    -95.66015625|140.26025390625|           4|   Friday|\n",
      "|2022-01-31 00:00:...| 4431.7900390625|4516.89013671875|4414.02001953125| 4515.5498046875|5098610000|      0.0|         0.0|    1|   -83.759765625| 102.8701171875|           5|   Monday|\n",
      "|2022-02-01 00:00:...|4519.56982421875|  4550.490234375|4483.52978515625| 4546.5400390625|4816830000|      0.0|         0.0|    2| -26.97021484375| 66.96044921875|           5|  Tuesday|\n",
      "|2022-02-02 00:00:...|4566.39013671875|4595.31005859375|4544.31982421875| 4589.3798828125|4481580000|      0.0|         0.0|    2| -22.98974609375|   50.990234375|           5|Wednesday|\n",
      "|2022-02-03 00:00:...|   4535.41015625| 4542.8798828125|4470.39013671875|4477.43994140625|4401970000|      0.0|         0.0|    2|  57.97021484375| 72.48974609375|           5| Thursday|\n",
      "|2022-02-07 00:00:...|         4505.75|4521.85986328125|4471.47021484375| 4483.8701171875|4228480000|      0.0|         0.0|    2|   21.8798828125|  50.3896484375|           6|   Monday|\n",
      "|2022-02-08 00:00:...|4480.02001953125|4531.31982421875|4465.39990234375| 4521.5400390625|4459620000|      0.0|         0.0|    2| -41.52001953125|   65.919921875|           6|  Tuesday|\n",
      "|2022-02-09 00:00:...|          4547.0|4590.02978515625|          4547.0|4587.18017578125|4524350000|      0.0|         0.0|    2| -40.18017578125| 43.02978515625|           6|Wednesday|\n",
      "|2022-02-10 00:00:...|  4553.240234375|  4588.919921875|4484.31005859375|  4504.080078125|5314860000|      0.0|         0.0|    2|     49.16015625|104.60986328125|           6| Thursday|\n",
      "|2022-02-11 00:00:...|4506.27001953125|  4526.330078125|   4401.41015625|4418.64013671875|5251500000|      0.0|         0.0|    2|   87.6298828125|  124.919921875|           6|   Friday|\n",
      "|2022-02-15 00:00:...|4429.27978515625|4472.77001953125|4429.27978515625|4471.06982421875|4430830000|      0.0|         0.0|    2|  -41.7900390625|   43.490234375|           7|  Tuesday|\n",
      "|2022-02-17 00:00:...|4456.06005859375|4456.06005859375|4373.81005859375|  4380.259765625|4539420000|      0.0|         0.0|    2|  75.80029296875|          82.25|           7| Thursday|\n",
      "|2022-02-18 00:00:...|4384.56982421875|4394.60009765625|4327.22021484375| 4348.8701171875|4708060000|      0.0|         0.0|    2|  35.69970703125|  67.3798828125|           7|   Friday|\n",
      "|2022-02-22 00:00:...|  4332.740234375| 4362.1201171875|4267.10986328125|  4304.759765625|5121900000|      0.0|         0.0|    2|     27.98046875| 95.01025390625|           8|  Tuesday|\n",
      "|2022-02-23 00:00:...|4324.93017578125|  4341.509765625|  4221.509765625|          4225.5|4797430000|      0.0|         0.0|    2|  99.43017578125|          120.0|           8|Wednesday|\n",
      "|2022-02-24 00:00:...|4155.77001953125|4294.72998046875|4114.64990234375| 4288.7001953125|6752130000|      0.0|         0.0|    2|-132.93017578125|  180.080078125|           8| Thursday|\n",
      "|2022-02-25 00:00:...| 4298.3798828125|   4385.33984375|  4286.830078125|4384.64990234375|5177060000|      0.0|         0.0|    2| -86.27001953125|   98.509765625|           8|   Friday|\n",
      "|2022-03-01 00:00:...|4363.14013671875| 4378.4501953125| 4279.5400390625|  4306.259765625|5846230000|      0.0|         0.0|    3|  56.88037109375|    98.91015625|           9|  Tuesday|\n",
      "|2022-03-02 00:00:...|4322.56005859375|4401.47998046875|4322.56005859375| 4386.5400390625|5337870000|      0.0|         0.0|    3| -63.97998046875|   78.919921875|           9|Wednesday|\n",
      "|2022-03-03 00:00:...|4401.31005859375|4416.77978515625|4345.56005859375|  4363.490234375|5039890000|      0.0|         0.0|    3|  37.81982421875|  71.2197265625|           9| Thursday|\n",
      "|2022-03-07 00:00:...|  4327.009765625|  4327.009765625|4199.85009765625|   4201.08984375|6940470000|      0.0|         0.0|    3|   125.919921875|127.15966796875|          10|   Monday|\n",
      "|2022-03-08 00:00:...|   4202.66015625|4276.93994140625| 4157.8701171875| 4170.7001953125|7243120000|      0.0|         0.0|    3|   31.9599609375|119.06982421875|          10|  Tuesday|\n",
      "|2022-03-09 00:00:...|4223.10009765625|4299.39990234375|4223.10009765625| 4277.8798828125|5662670000|      0.0|         0.0|    3| -54.77978515625|  76.2998046875|          10|Wednesday|\n",
      "|2022-03-11 00:00:...|          4279.5|  4291.009765625|  4200.490234375|4204.31005859375|4938640000|      0.0|         0.0|    3|  75.18994140625|    90.51953125|          10|   Friday|\n",
      "|2022-03-14 00:00:...|         4202.75|4247.56982421875|4161.72021484375|4173.10986328125|5574920000|      0.0|         0.0|    3|  29.64013671875|   85.849609375|          11|   Monday|\n",
      "|2022-03-15 00:00:...|4188.81982421875| 4271.0498046875|4187.89990234375| 4262.4501953125|5392470000|      0.0|         0.0|    3| -73.63037109375| 83.14990234375|          11|  Tuesday|\n",
      "|2022-03-16 00:00:...|4288.14013671875|4358.89990234375|  4251.990234375|4357.85986328125|6309750000|      0.0|         0.0|    3|  -69.7197265625|106.90966796875|          11|Wednesday|\n",
      "|2022-03-17 00:00:...|4345.10986328125|  4412.669921875|4335.64990234375|  4411.669921875|4985090000|      0.0|         0.0|    3| -66.56005859375| 77.02001953125|          11| Thursday|\n",
      "|2022-03-18 00:00:...|   4407.33984375|4465.39990234375|4390.56982421875| 4463.1201171875|8278430000|      0.0|         0.0|    3|  -55.7802734375|   74.830078125|          11|   Friday|\n",
      "|2022-03-22 00:00:...|4469.10009765625|          4522.0|4469.10009765625|4511.60986328125|4754840000|      0.0|         0.0|    3|   -42.509765625| 52.89990234375|          12|  Tuesday|\n",
      "|2022-03-23 00:00:...|4493.10009765625|4501.06982421875|4455.81005859375|  4456.240234375|4550670000|      0.0|         0.0|    3|  36.85986328125|   45.259765625|          12|Wednesday|\n",
      "|2022-03-24 00:00:...|4469.97998046875|  4520.580078125|  4465.169921875|   4520.16015625|4131390000|      0.0|         0.0|    3| -50.18017578125|    55.41015625|          12| Thursday|\n",
      "|2022-03-25 00:00:...|   4522.91015625|4546.02978515625|4501.06982421875|4543.06005859375|4305020000|      0.0|         0.0|    3| -20.14990234375|  44.9599609375|          12|   Friday|\n",
      "|2022-03-28 00:00:...|   4541.08984375|4575.64990234375|4517.68994140625|4575.52001953125|4312260000|      0.0|         0.0|    3| -34.43017578125|  57.9599609375|          13|   Monday|\n",
      "|2022-03-29 00:00:...|4602.85986328125| 4637.2998046875|   4589.66015625|4631.60009765625|5085910000|      0.0|         0.0|    3|   -28.740234375|  47.6396484375|          13|  Tuesday|\n",
      "|2022-03-30 00:00:...| 4624.2001953125|4627.77001953125|4581.31982421875| 4602.4501953125|4385570000|      0.0|         0.0|    3|           21.75|  46.4501953125|          13|Wednesday|\n",
      "|2022-03-31 00:00:...|4599.02001953125|4603.06982421875|   4530.41015625|   4530.41015625|4823020000|      0.0|         0.0|    3|  68.60986328125| 72.65966796875|          13| Thursday|\n",
      "|2022-04-04 00:00:...|4547.97021484375|          4583.5| 4539.2099609375|4582.64013671875|4547350000|      0.0|         0.0|    4|   -34.669921875|  44.2900390625|          14|   Monday|\n",
      "+--------------------+----------------+----------------+----------------+----------------+----------+---------+------------+-----+----------------+---------------+------------+---------+\n",
      "only showing top 50 rows\n",
      "\n"
     ]
    }
   ],
   "source": [
    "daily_df.createOrReplaceTempView(\"SPXDaily\")\n",
    "spark.sql('select * from SPXDaily where ((diff > 20 or diff < -20) and (Date > \"2022-01-01 00:00:00\"))').show(50)"
   ]
  },
  {
   "cell_type": "code",
   "execution_count": 88,
   "metadata": {},
   "outputs": [
    {
     "data": {
      "text/plain": [
       "252"
      ]
     },
     "execution_count": 88,
     "metadata": {},
     "output_type": "execute_result"
    }
   ],
   "source": [
    "# total days when market was open in 2022\n",
    "daily_df.createOrReplaceTempView(\"SPXDaily\")\n",
    "spark.sql('select * from SPXDaily where ((Date > \"2021-01-01 00:00:00\") and (Date < \"2022-01-01 00:00:00\"))').count()"
   ]
  },
  {
   "cell_type": "code",
   "execution_count": 89,
   "metadata": {},
   "outputs": [
    {
     "data": {
      "text/plain": [
       "251"
      ]
     },
     "execution_count": 89,
     "metadata": {},
     "output_type": "execute_result"
    }
   ],
   "source": [
    "# total days when market was open in 2022\n",
    "daily_df.createOrReplaceTempView(\"SPXDaily\")\n",
    "spark.sql('select * from SPXDaily where Date > \"2022-01-01 00:00:00\"').count()"
   ]
  },
  {
   "cell_type": "code",
   "execution_count": 90,
   "metadata": {},
   "outputs": [
    {
     "data": {
      "text/plain": [
       "118"
      ]
     },
     "execution_count": 90,
     "metadata": {},
     "output_type": "execute_result"
    }
   ],
   "source": [
    "#number of days where spx moved by 20 (difference between open and close) in 2021\n",
    "daily_df.createOrReplaceTempView(\"SPXDaily\")\n",
    "spark.sql('select * from SPXDaily where ((diff > 20 or diff < -20) \\\n",
    "and ((Date > \"2021-01-01 00:00:00\") and ((Date < \"2022-01-01 00:00:00\"))))').count()"
   ]
  },
  {
   "cell_type": "code",
   "execution_count": 91,
   "metadata": {},
   "outputs": [
    {
     "data": {
      "text/plain": [
       "184"
      ]
     },
     "execution_count": 91,
     "metadata": {},
     "output_type": "execute_result"
    }
   ],
   "source": [
    "#number of days where spx moved by 20 (difference between open and close) in 2022\n",
    "daily_df.createOrReplaceTempView(\"SPXDaily\")\n",
    "spark.sql('select * from SPXDaily where ((diff > 20 or diff < -20)) \\\n",
    "and ((Date > \"2022-01-01 00:00:00\"))').count()"
   ]
  },
  {
   "cell_type": "code",
   "execution_count": 92,
   "metadata": {},
   "outputs": [
    {
     "data": {
      "text/plain": [
       "67"
      ]
     },
     "execution_count": 92,
     "metadata": {},
     "output_type": "execute_result"
    }
   ],
   "source": [
    "#number of days where spx moved by less 20 (difference between open and close)\n",
    "daily_df.createOrReplaceTempView(\"SPXDaily\")\n",
    "spark.sql('select * from SPXDaily where ((diff < 20 and diff > -20) and (Date > \"2022-01-01 00:00:00\"))').count()"
   ]
  },
  {
   "cell_type": "code",
   "execution_count": 93,
   "metadata": {},
   "outputs": [
    {
     "data": {
      "text/plain": [
       "250"
      ]
     },
     "execution_count": 93,
     "metadata": {},
     "output_type": "execute_result"
    }
   ],
   "source": [
    "#number of days where spx moved by 20 (difference between high and low of the day)\n",
    "daily_df.createOrReplaceTempView(\"SPXDaily\")\n",
    "spark.sql('select * from SPXDaily where ((high_low_diff > 20 or high_low_diff < -20) and (Date > \"2022-01-01 00:00:00\"))').count()"
   ]
  },
  {
   "cell_type": "code",
   "execution_count": 94,
   "metadata": {},
   "outputs": [
    {
     "data": {
      "text/plain": [
       "227"
      ]
     },
     "execution_count": 94,
     "metadata": {},
     "output_type": "execute_result"
    }
   ],
   "source": [
    "# number of days when spx moved by 40 (difference between high and low of the day)\n",
    "daily_df.createOrReplaceTempView(\"SPXDaily\")\n",
    "spark.sql('select * from SPXDaily where ((high_low_diff > 40 or high_low_diff < -40) and (Date > \"2022-01-01 00:00:00\"))').count()"
   ]
  },
  {
   "cell_type": "code",
   "execution_count": 95,
   "metadata": {},
   "outputs": [
    {
     "name": "stdout",
     "output_type": "stream",
     "text": [
      "+--------------------+----------------+----------------+----------------+----------------+----------+---------+------------+-----+---------------+---------------+------------+---------+\n",
      "|                Date|            Open|            High|             Low|           Close|    Volume|Dividends|Stock Splits|Month|           diff|  high_low_diff|week_of_year| week_day|\n",
      "+--------------------+----------------+----------------+----------------+----------------+----------+---------+------------+-----+---------------+---------------+------------+---------+\n",
      "|2022-01-04 00:00:...|  4804.509765625| 4818.6201171875|4774.27001953125| 4793.5400390625|4683170000|      0.0|         0.0|    1|  10.9697265625| 44.35009765625|           1|  Tuesday|\n",
      "|2022-01-05 00:00:...|  4787.990234375| 4797.7001953125|4699.43994140625|  4700.580078125|4887960000|      0.0|         0.0|    1|    87.41015625| 98.26025390625|           1|Wednesday|\n",
      "|2022-01-06 00:00:...|4693.39013671875|  4725.009765625|  4671.259765625| 4696.0498046875|4295280000|      0.0|         0.0|    1| -2.65966796875|          53.75|           1| Thursday|\n",
      "|2022-01-07 00:00:...|   4697.66015625| 4707.9501953125|  4662.740234375|4677.02978515625|4181510000|      0.0|         0.0|    1| 20.63037109375|  45.2099609375|           1|   Friday|\n",
      "|2022-01-10 00:00:...|   4655.33984375|4673.02001953125|  4582.240234375| 4670.2900390625|4511810000|      0.0|         0.0|    1| -14.9501953125| 90.77978515625|           2|   Monday|\n",
      "|2022-01-11 00:00:...|4669.14013671875| 4714.1298828125|4638.27001953125|4713.06982421875|4101590000|      0.0|         0.0|    1|    -43.9296875| 75.85986328125|           2|  Tuesday|\n",
      "|2022-01-12 00:00:...|   4728.58984375|  4748.830078125| 4706.7099609375|4726.35009765625|4048220000|      0.0|         0.0|    1|  2.23974609375|  42.1201171875|           2|Wednesday|\n",
      "|2022-01-13 00:00:...|4733.56005859375| 4744.1298828125| 4650.2900390625|4659.02978515625|4251730000|      0.0|         0.0|    1|  74.5302734375|    93.83984375|           2| Thursday|\n",
      "|2022-01-14 00:00:...|  4637.990234375| 4665.1298828125|         4614.75|4662.85009765625|4338490000|      0.0|         0.0|    1|-24.85986328125|  50.3798828125|           2|   Friday|\n",
      "|2022-01-18 00:00:...|  4632.240234375|  4632.240234375| 4568.7001953125|4577.10986328125|4748700000|      0.0|         0.0|    1| 55.13037109375|  63.5400390625|           3|  Tuesday|\n",
      "|2022-01-19 00:00:...|4588.02978515625| 4611.5498046875| 4530.2001953125|  4532.759765625|4465740000|      0.0|         0.0|    1| 55.27001953125|   81.349609375|           3|Wednesday|\n",
      "|2022-01-20 00:00:...|4547.35009765625|4602.10986328125| 4477.9501953125|4482.72998046875|4640870000|      0.0|         0.0|    1|  64.6201171875|124.15966796875|           3| Thursday|\n",
      "|2022-01-21 00:00:...| 4471.3798828125|4494.52001953125|   4395.33984375|4397.93994140625|5589100000|      0.0|         0.0|    1| 73.43994140625| 99.18017578125|           3|   Friday|\n",
      "|2022-01-24 00:00:...|4356.31982421875|4417.35009765625| 4222.6201171875| 4410.1298828125|6928110000|      0.0|         0.0|    1|-53.81005859375|194.72998046875|           4|   Monday|\n",
      "|2022-01-25 00:00:...|4366.64013671875|  4411.009765625|4287.10986328125| 4356.4501953125|5145050000|      0.0|         0.0|    1| 10.18994140625|123.89990234375|           4|  Tuesday|\n",
      "|2022-01-26 00:00:...|4408.43017578125|4453.22998046875| 4304.7998046875|4349.93017578125|5570640000|      0.0|         0.0|    1|           58.5|148.43017578125|           4|Wednesday|\n",
      "|2022-01-27 00:00:...|  4380.580078125|  4428.740234375|          4309.5|  4326.509765625|5214200000|      0.0|         0.0|    1|     54.0703125|  119.240234375|           4| Thursday|\n",
      "|2022-01-28 00:00:...|4336.18994140625|4432.72021484375| 4292.4599609375|4431.85009765625|5031090000|      0.0|         0.0|    1|   -95.66015625|140.26025390625|           4|   Friday|\n",
      "|2022-01-31 00:00:...| 4431.7900390625|4516.89013671875|4414.02001953125| 4515.5498046875|5098610000|      0.0|         0.0|    1|  -83.759765625| 102.8701171875|           5|   Monday|\n",
      "|2022-02-01 00:00:...|4519.56982421875|  4550.490234375|4483.52978515625| 4546.5400390625|4816830000|      0.0|         0.0|    2|-26.97021484375| 66.96044921875|           5|  Tuesday|\n",
      "+--------------------+----------------+----------------+----------------+----------------+----------+---------+------------+-----+---------------+---------------+------------+---------+\n",
      "only showing top 20 rows\n",
      "\n"
     ]
    }
   ],
   "source": [
    "daily_df.createOrReplaceTempView(\"SPXDaily\")\n",
    "spark.sql('select * from SPXDaily where ((high_low_diff > 40 or high_low_diff < -40) and (Date > \"2022-01-01 00:00:00\"))').show()"
   ]
  },
  {
   "cell_type": "code",
   "execution_count": 96,
   "metadata": {},
   "outputs": [
    {
     "name": "stdout",
     "output_type": "stream",
     "text": [
      "+------------+--------+\n",
      "|week_of_year|count(1)|\n",
      "+------------+--------+\n",
      "|           1|       1|\n",
      "|           2|       2|\n",
      "|           3|       4|\n",
      "|           4|       4|\n",
      "|           5|       2|\n",
      "|           6|       4|\n",
      "|           7|       2|\n",
      "|           8|       3|\n",
      "|           9|       2|\n",
      "|          10|       3|\n",
      "|          11|       4|\n",
      "|          12|       2|\n",
      "|          13|       1|\n",
      "|          14|       1|\n",
      "|          15|       4|\n",
      "|          16|       3|\n",
      "|          17|       4|\n",
      "|          18|       2|\n",
      "|          19|       3|\n",
      "|          20|       1|\n",
      "|          21|       4|\n",
      "|          22|       2|\n",
      "|          23|       3|\n",
      "|          24|       2|\n",
      "|          25|       2|\n",
      "|          26|       2|\n",
      "|          27|       1|\n",
      "|          28|       1|\n",
      "|          29|       3|\n",
      "|          30|       3|\n",
      "|          31|       1|\n",
      "|          32|       1|\n",
      "|          34|       3|\n",
      "|          35|       3|\n",
      "|          36|       3|\n",
      "|          37|       1|\n",
      "|          38|       2|\n",
      "|          39|       3|\n",
      "|          40|       3|\n",
      "|          41|       2|\n",
      "|          42|       1|\n",
      "|          43|       2|\n",
      "|          44|       2|\n",
      "|          45|       2|\n",
      "|          48|       2|\n",
      "|          49|       2|\n",
      "|          50|       3|\n",
      "|          52|       2|\n",
      "+------------+--------+\n",
      "\n"
     ]
    }
   ],
   "source": [
    "# number of days in each week where spx moved by 40 in either direction\n",
    "daily_df.createOrReplaceTempView(\"SPXDaily\")\n",
    "spark.sql('select week_of_year, count(*) from SPXDaily where ((diff > 40 or diff < -40) \\\n",
    "and (Date > \"2022-01-01 00:00:00\")) \\\n",
    "group by week_of_year \\\n",
    "order by week_of_year').show(50)"
   ]
  },
  {
   "cell_type": "code",
   "execution_count": 97,
   "metadata": {},
   "outputs": [
    {
     "name": "stdout",
     "output_type": "stream",
     "text": [
      "+-----------------+\n",
      "|max(week_of_year)|\n",
      "+-----------------+\n",
      "|               52|\n",
      "+-----------------+\n",
      "\n"
     ]
    }
   ],
   "source": [
    "# total weeks so far this year\n",
    "daily_df.createOrReplaceTempView(\"SPXDaily\")\n",
    "spark.sql('select max(week_of_year) from SPXDaily').show()"
   ]
  },
  {
   "cell_type": "code",
   "execution_count": 98,
   "metadata": {},
   "outputs": [
    {
     "name": "stdout",
     "output_type": "stream",
     "text": [
      "+------------+--------+\n",
      "|week_of_year|count(1)|\n",
      "+------------+--------+\n",
      "|           1|       4|\n",
      "|           2|       3|\n",
      "|           4|       1|\n",
      "|           5|       3|\n",
      "|           6|       1|\n",
      "|           7|       3|\n",
      "|           8|       1|\n",
      "|           9|       3|\n",
      "|          10|       2|\n",
      "|          11|       1|\n",
      "|          12|       3|\n",
      "|          13|       4|\n",
      "|          14|       4|\n",
      "|          16|       2|\n",
      "|          17|       1|\n",
      "|          18|       3|\n",
      "|          19|       2|\n",
      "|          20|       4|\n",
      "|          21|       1|\n",
      "|          22|       2|\n",
      "|          23|       2|\n",
      "|          24|       3|\n",
      "|          25|       2|\n",
      "|          26|       3|\n",
      "|          27|       3|\n",
      "|          28|       4|\n",
      "|          29|       2|\n",
      "|          30|       2|\n",
      "|          31|       4|\n",
      "|          32|       4|\n",
      "|          33|       5|\n",
      "|          34|       2|\n",
      "|          35|       2|\n",
      "|          36|       1|\n",
      "|          37|       4|\n",
      "|          38|       3|\n",
      "|          39|       2|\n",
      "|          40|       2|\n",
      "|          41|       3|\n",
      "|          42|       4|\n",
      "|          43|       3|\n",
      "|          44|       3|\n",
      "|          45|       3|\n",
      "|          46|       5|\n",
      "|          47|       4|\n",
      "|          48|       3|\n",
      "|          49|       3|\n",
      "|          50|       2|\n",
      "|          51|       5|\n",
      "|          52|       2|\n",
      "+------------+--------+\n",
      "\n"
     ]
    }
   ],
   "source": [
    "# number of days in each week where spx moved by less than 40 in either direction\n",
    "daily_df.createOrReplaceTempView(\"SPXDaily\")\n",
    "spark.sql('select week_of_year, count(*) from SPXDaily where ((diff < 40 and diff > -40) \\\n",
    "and (Date > \"2022-01-01 00:00:00\")) \\\n",
    "group by week_of_year \\\n",
    "order by week_of_year').show(50)"
   ]
  },
  {
   "cell_type": "code",
   "execution_count": 99,
   "metadata": {},
   "outputs": [
    {
     "name": "stdout",
     "output_type": "stream",
     "text": [
      "+--------------------+-----------------+-----------------+-----------------+-----------------+----------+---------+------------+-----+----------------+---------------+------------+---------+\n",
      "|                Date|             Open|             High|              Low|            Close|    Volume|Dividends|Stock Splits|Month|            diff|  high_low_diff|week_of_year| week_day|\n",
      "+--------------------+-----------------+-----------------+-----------------+-----------------+----------+---------+------------+-----+----------------+---------------+------------+---------+\n",
      "|2021-11-22 00:00:...|           4712.0|   4743.830078125|   4682.169921875| 4682.93994140625|4441100000|      0.0|         0.0|   11|  29.06005859375|    61.66015625|          47|   Monday|\n",
      "|2021-11-23 00:00:...| 4678.47998046875| 4699.39013671875|    4652.66015625|  4690.7001953125|4277590000|      0.0|         0.0|   11| -12.22021484375| 46.72998046875|          47|  Tuesday|\n",
      "|2021-11-24 00:00:...| 4675.77978515625|  4702.8701171875| 4659.89013671875|  4701.4599609375|3418430000|      0.0|         0.0|   11| -25.68017578125| 42.97998046875|          47|Wednesday|\n",
      "|2021-11-26 00:00:...|  4664.6298828125|  4664.6298828125| 4585.43017578125|  4594.6201171875|3517700000|      0.0|         0.0|   11|    70.009765625| 79.19970703125|          47|   Friday|\n",
      "|2022-11-21 00:00:...| 3956.22998046875|           3962.0|3933.340087890625| 3949.93994140625|3850690000|      0.0|         0.0|   11|    6.2900390625|28.659912109375|          47|   Monday|\n",
      "|2022-11-22 00:00:...|3965.510009765625|  4005.8798828125|  3956.8798828125|   4003.580078125|3887990000|      0.0|         0.0|   11|-38.070068359375|           49.0|          47|  Tuesday|\n",
      "|2022-11-23 00:00:...|4000.300048828125|4033.780029296875|3998.659912109375|4027.260009765625|3279720000|      0.0|         0.0|   11|  -26.9599609375|  35.1201171875|          47|Wednesday|\n",
      "|2022-11-25 00:00:...|4023.340087890625| 4034.02001953125|4020.760009765625|  4026.1201171875|1706460000|      0.0|         0.0|   11| -2.780029296875|13.260009765625|          47|   Friday|\n",
      "+--------------------+-----------------+-----------------+-----------------+-----------------+----------+---------+------------+-----+----------------+---------------+------------+---------+\n",
      "\n"
     ]
    }
   ],
   "source": [
    "# check why in week 47, there were only 2 days over 40/-40 and 2 days were between -40 and 40\n",
    "daily_df.createOrReplaceTempView(\"SPXDaily\")\n",
    "spark.sql('select * from SPXDaily where week_of_year = 47').show()"
   ]
  },
  {
   "cell_type": "code",
   "execution_count": 100,
   "metadata": {},
   "outputs": [
    {
     "name": "stdout",
     "output_type": "stream",
     "text": [
      "+-----+--------+\n",
      "|month|count(1)|\n",
      "+-----+--------+\n",
      "|    1|      12|\n",
      "|    2|      10|\n",
      "|    3|      12|\n",
      "|    4|      12|\n",
      "|    5|      10|\n",
      "|    6|      10|\n",
      "|    7|       9|\n",
      "|    8|       7|\n",
      "|    9|      10|\n",
      "|   10|       8|\n",
      "|   11|       6|\n",
      "|   12|       7|\n",
      "+-----+--------+\n",
      "\n"
     ]
    }
   ],
   "source": [
    "#number of days in each month where SPX moved by 40 in either direction\n",
    "daily_df.createOrReplaceTempView(\"SPXDaily\")\n",
    "spark.sql('select month, count(*) from SPXDaily where ((diff > 40 or diff < -40) \\\n",
    "and (Date > \"2022-01-01 00:00:00\")) \\\n",
    "group by month \\\n",
    "order by month').show()"
   ]
  },
  {
   "cell_type": "code",
   "execution_count": 101,
   "metadata": {},
   "outputs": [
    {
     "name": "stdout",
     "output_type": "stream",
     "text": [
      "+-----+--------+\n",
      "|month|count(1)|\n",
      "+-----+--------+\n",
      "|    1|       8|\n",
      "|    2|       9|\n",
      "|    3|      11|\n",
      "|    4|       8|\n",
      "|    5|      11|\n",
      "|    6|      11|\n",
      "|    7|      11|\n",
      "|    8|      16|\n",
      "|    9|      11|\n",
      "|   10|      13|\n",
      "|   11|      15|\n",
      "|   12|      14|\n",
      "+-----+--------+\n",
      "\n"
     ]
    }
   ],
   "source": [
    "#number of days in each month where SPX moved by less than 40 in either direction\n",
    "daily_df.createOrReplaceTempView(\"SPXDaily\")\n",
    "spark.sql('select month, count(*) from SPXDaily where ((diff < 40 and diff > -40) \\\n",
    "and (Date > \"2022-01-01 00:00:00\")) \\\n",
    "group by month \\\n",
    "order by month').show(50)"
   ]
  },
  {
   "cell_type": "code",
   "execution_count": 102,
   "metadata": {},
   "outputs": [
    {
     "name": "stdout",
     "output_type": "stream",
     "text": [
      "+---------+--------+\n",
      "| week_day|count(1)|\n",
      "+---------+--------+\n",
      "|   Friday|      24|\n",
      "|   Monday|      15|\n",
      "| Thursday|      28|\n",
      "|  Tuesday|      22|\n",
      "|Wednesday|      24|\n",
      "+---------+--------+\n",
      "\n"
     ]
    }
   ],
   "source": [
    "# number of days by week_day where spx moved by 40 in either direction\n",
    "daily_df.createOrReplaceTempView(\"SPXDaily\")\n",
    "spark.sql('select week_day, count(*) from SPXDaily where ((diff > 40 or  diff < -40) \\\n",
    "and (Date > \"2022-01-01 00:00:00\")) \\\n",
    "group by week_day \\\n",
    "order by week_day').show()"
   ]
  },
  {
   "cell_type": "code",
   "execution_count": 103,
   "metadata": {},
   "outputs": [
    {
     "name": "stdout",
     "output_type": "stream",
     "text": [
      "+---------+--------+\n",
      "| week_day|count(1)|\n",
      "+---------+--------+\n",
      "|   Friday|      27|\n",
      "|   Monday|      30|\n",
      "| Thursday|      23|\n",
      "|  Tuesday|      30|\n",
      "|Wednesday|      28|\n",
      "+---------+--------+\n",
      "\n"
     ]
    }
   ],
   "source": [
    "# number of days by week_day where spx moved less than 40 in either direction\n",
    "daily_df.createOrReplaceTempView(\"SPXDaily\")\n",
    "spark.sql('select week_day, count(*) from SPXDaily where ((diff < 40 and diff > -40) \\\n",
    "and (Date > \"2022-01-01 00:00:00\")) \\\n",
    "group by week_day \\\n",
    "order by week_day').show()"
   ]
  },
  {
   "cell_type": "code",
   "execution_count": 104,
   "metadata": {},
   "outputs": [
    {
     "name": "stdout",
     "output_type": "stream",
     "text": [
      "+--------------------+-----------------+-----------------+-----------------+-----------------+----------+---------+------------+-----+--------------+---------------+------------+--------+\n",
      "|                Date|             Open|             High|              Low|            Close|    Volume|Dividends|Stock Splits|Month|          diff|  high_low_diff|week_of_year|week_day|\n",
      "+--------------------+-----------------+-----------------+-----------------+-----------------+----------+---------+------------+-----+--------------+---------------+------------+--------+\n",
      "|2022-03-21 00:00:...| 4462.39990234375|          4481.75|  4424.2998046875| 4461.18017578125|4869820000|      0.0|         0.0|    3|  1.2197265625|  57.4501953125|          12|  Monday|\n",
      "|2022-04-18 00:00:...|  4385.6298828125| 4410.31005859375|  4370.2998046875| 4391.68994140625|3910490000|      0.0|         0.0|    4|-6.06005859375| 40.01025390625|          16|  Monday|\n",
      "|2022-05-16 00:00:...| 4013.02001953125|  4046.4599609375|3983.989990234375|4008.010009765625|4415030000|      0.0|         0.0|    5|5.010009765625|62.469970703125|          20|  Monday|\n",
      "|2022-07-25 00:00:...|3965.719970703125|3975.300048828125|  3943.4599609375|3966.840087890625|3568340000|      0.0|         0.0|    7| -1.1201171875|31.840087890625|          30|  Monday|\n",
      "|2022-08-01 00:00:...|  4112.3798828125|  4144.9501953125| 4096.02001953125|  4118.6298828125|4202810000|      0.0|         0.0|    8|         -6.25| 48.93017578125|          31|  Monday|\n",
      "|2022-08-29 00:00:...|   4034.580078125|4062.989990234375|   4017.419921875|4030.610107421875|3396510000|      0.0|         0.0|    8|3.969970703125|45.570068359375|          35|  Monday|\n",
      "|2022-10-31 00:00:...| 3881.85009765625| 3893.72998046875|3863.179931640625| 3871.97998046875|4820620000|      0.0|         0.0|   10|  9.8701171875|30.550048828125|          44|  Monday|\n",
      "|2022-11-21 00:00:...| 3956.22998046875|           3962.0|3933.340087890625| 3949.93994140625|3850690000|      0.0|         0.0|   11|  6.2900390625|28.659912109375|          47|  Monday|\n",
      "+--------------------+-----------------+-----------------+-----------------+-----------------+----------+---------+------------+-----+--------------+---------------+------------+--------+\n",
      "\n"
     ]
    }
   ],
   "source": [
    "from pyspark.sql.functions import dayofmonth, hour, dayofyear, month, year, weekofyear, dayofweek\n",
    "from pyspark.sql.functions import date_format\n",
    "from pyspark.sql.functions import col\n",
    "daily_df.createOrReplaceTempView(\"SPXDaily\")\n",
    "spark.sql('select * from SPXDaily \\\n",
    "           where ((diff between -10 and 10) \\\n",
    "                   and (date_format(Date, \"EEEE\") == \"Monday\") \\\n",
    "                   and year(Date) == 2022)').show()"
   ]
  },
  {
   "cell_type": "code",
   "execution_count": 105,
   "metadata": {},
   "outputs": [
    {
     "name": "stdout",
     "output_type": "stream",
     "text": [
      "+--------------------+-----------------+-----------------+-----------------+-----------------+----------+---------+------------+-----+----------------+----------------+------------+--------+\n",
      "|                Date|             Open|             High|              Low|            Close|    Volume|Dividends|Stock Splits|Month|            diff|   high_low_diff|week_of_year|week_day|\n",
      "+--------------------+-----------------+-----------------+-----------------+-----------------+----------+---------+------------+-----+----------------+----------------+------------+--------+\n",
      "|2022-01-03 00:00:...| 4778.14013671875| 4796.64013671875|   4758.169921875| 4796.56005859375|3831020000|      0.0|         0.0|    1|   -18.419921875|  38.47021484375|           1|  Monday|\n",
      "|2022-01-10 00:00:...|    4655.33984375| 4673.02001953125|   4582.240234375|  4670.2900390625|4511810000|      0.0|         0.0|    1|  -14.9501953125|  90.77978515625|           2|  Monday|\n",
      "|2022-01-24 00:00:...| 4356.31982421875| 4417.35009765625|  4222.6201171875|  4410.1298828125|6928110000|      0.0|         0.0|    1| -53.81005859375| 194.72998046875|           4|  Monday|\n",
      "|2022-01-31 00:00:...|  4431.7900390625| 4516.89013671875| 4414.02001953125|  4515.5498046875|5098610000|      0.0|         0.0|    1|   -83.759765625|  102.8701171875|           5|  Monday|\n",
      "|2022-02-07 00:00:...|          4505.75| 4521.85986328125| 4471.47021484375|  4483.8701171875|4228480000|      0.0|         0.0|    2|   21.8798828125|   50.3896484375|           6|  Monday|\n",
      "|2022-02-14 00:00:...| 4412.60986328125| 4426.22021484375|    4364.83984375|   4401.669921875|4600390000|      0.0|         0.0|    2|  10.93994140625|  61.38037109375|           7|  Monday|\n",
      "|2022-02-28 00:00:...|   4354.169921875|    4388.83984375|  4315.1201171875| 4373.93994140625|6071370000|      0.0|         0.0|    2| -19.77001953125|   73.7197265625|           9|  Monday|\n",
      "|2022-03-07 00:00:...|   4327.009765625|   4327.009765625| 4199.85009765625|    4201.08984375|6940470000|      0.0|         0.0|    3|   125.919921875| 127.15966796875|          10|  Monday|\n",
      "|2022-03-14 00:00:...|          4202.75| 4247.56982421875| 4161.72021484375| 4173.10986328125|5574920000|      0.0|         0.0|    3|  29.64013671875|    85.849609375|          11|  Monday|\n",
      "|2022-03-21 00:00:...| 4462.39990234375|          4481.75|  4424.2998046875| 4461.18017578125|4869820000|      0.0|         0.0|    3|    1.2197265625|   57.4501953125|          12|  Monday|\n",
      "|2022-03-28 00:00:...|    4541.08984375| 4575.64990234375| 4517.68994140625| 4575.52001953125|4312260000|      0.0|         0.0|    3| -34.43017578125|   57.9599609375|          13|  Monday|\n",
      "|2022-04-04 00:00:...| 4547.97021484375|           4583.5|  4539.2099609375| 4582.64013671875|4547350000|      0.0|         0.0|    4|   -34.669921875|   44.2900390625|          14|  Monday|\n",
      "|2022-04-11 00:00:...| 4462.64013671875| 4464.35009765625|  4408.3798828125| 4412.52978515625|4266290000|      0.0|         0.0|    4|   50.1103515625|  55.97021484375|          15|  Monday|\n",
      "|2022-04-18 00:00:...|  4385.6298828125| 4410.31005859375|  4370.2998046875| 4391.68994140625|3910490000|      0.0|         0.0|    4|  -6.06005859375|  40.01025390625|          16|  Monday|\n",
      "|2022-04-25 00:00:...|    4255.33984375| 4299.02001953125| 4200.81982421875|  4296.1201171875|5240040000|      0.0|         0.0|    4|  -40.7802734375|   98.2001953125|          17|  Monday|\n",
      "|2022-05-02 00:00:...| 4130.60986328125| 4169.81005859375|4062.510009765625|  4155.3798828125|5163790000|      0.0|         0.0|    5| -24.77001953125|107.300048828125|          18|  Monday|\n",
      "|2022-05-09 00:00:...| 4081.27001953125| 4081.27001953125| 3975.47998046875|3991.239990234375|5954520000|      0.0|         0.0|    5| 90.030029296875|  105.7900390625|          19|  Monday|\n",
      "|2022-05-16 00:00:...| 4013.02001953125|  4046.4599609375|3983.989990234375|4008.010009765625|4415030000|      0.0|         0.0|    5|  5.010009765625| 62.469970703125|          20|  Monday|\n",
      "|2022-05-23 00:00:...|   3919.419921875|  3981.8798828125|  3909.0400390625|          3973.75|4420030000|      0.0|         0.0|    5|   -54.330078125|     72.83984375|          21|  Monday|\n",
      "|2022-06-06 00:00:...| 4134.72021484375| 4168.77978515625| 4109.18017578125| 4121.43017578125|4332700000|      0.0|         0.0|    6|   13.2900390625|    59.599609375|          23|  Monday|\n",
      "|2022-06-13 00:00:...| 3838.14990234375| 3838.14990234375|3734.300048828125|  3749.6298828125|5636890000|      0.0|         0.0|    6|  88.52001953125|103.849853515625|          24|  Monday|\n",
      "|2022-06-27 00:00:...|3920.760009765625|3927.719970703125|3889.659912109375|3900.110107421875|4325310000|      0.0|         0.0|    6|  20.64990234375|  38.06005859375|          26|  Monday|\n",
      "|2022-07-11 00:00:...| 3880.93994140625| 3880.93994140625|3847.219970703125|3854.429931640625|3423480000|      0.0|         0.0|    7| 26.510009765625| 33.719970703125|          28|  Monday|\n",
      "|2022-07-18 00:00:...|  3883.7900390625| 3902.43994140625|  3818.6298828125| 3830.85009765625|4046870000|      0.0|         0.0|    7|  52.93994140625|  83.81005859375|          29|  Monday|\n",
      "|2022-07-25 00:00:...|3965.719970703125|3975.300048828125|  3943.4599609375|3966.840087890625|3568340000|      0.0|         0.0|    7|   -1.1201171875| 31.840087890625|          30|  Monday|\n",
      "|2022-08-01 00:00:...|  4112.3798828125|  4144.9501953125| 4096.02001953125|  4118.6298828125|4202810000|      0.0|         0.0|    8|           -6.25|  48.93017578125|          31|  Monday|\n",
      "|2022-08-08 00:00:...| 4155.93017578125|  4186.6201171875| 4128.97021484375| 4140.06005859375|4221090000|      0.0|         0.0|    8|   15.8701171875|  57.64990234375|          32|  Monday|\n",
      "|2022-08-15 00:00:...|  4269.3701171875|  4301.7900390625| 4256.89990234375| 4297.14013671875|3696830000|      0.0|         0.0|    8| -27.77001953125|  44.89013671875|          33|  Monday|\n",
      "|2022-08-22 00:00:...|   4195.080078125|   4195.080078125| 4129.85986328125|   4137.990234375|3907430000|      0.0|         0.0|    8|     57.08984375|  65.22021484375|          34|  Monday|\n",
      "|2022-08-29 00:00:...|   4034.580078125|4062.989990234375|   4017.419921875|4030.610107421875|3396510000|      0.0|         0.0|    8|  3.969970703125| 45.570068359375|          35|  Monday|\n",
      "|2022-09-12 00:00:...|   4083.669921875| 4119.27978515625|   4083.669921875|    4110.41015625|3814200000|      0.0|         0.0|    9|   -26.740234375|  35.60986328125|          37|  Monday|\n",
      "|2022-09-19 00:00:...|3849.909912109375|3900.449951171875|           3838.5|3899.889892578125|3766850000|      0.0|         0.0|    9| -49.97998046875| 61.949951171875|          38|  Monday|\n",
      "|2022-09-26 00:00:...|3682.719970703125|   3715.669921875|3644.760009765625|  3655.0400390625|4886140000|      0.0|         0.0|    9| 27.679931640625| 70.909912109375|          39|  Monday|\n",
      "|2022-10-03 00:00:...|3609.780029296875| 3698.35009765625|3604.929931640625|3678.429931640625|4806680000|      0.0|         0.0|   10| -68.64990234375| 93.420166015625|          40|  Monday|\n",
      "|2022-10-10 00:00:...|3647.510009765625|   3652.169921875| 3588.10009765625|3612.389892578125|3834320000|      0.0|         0.0|   10|   35.1201171875|  64.06982421875|          41|  Monday|\n",
      "|2022-10-17 00:00:...| 3638.64990234375| 3689.72998046875| 3638.64990234375|3677.949951171875|4352780000|      0.0|         0.0|   10|-39.300048828125|    51.080078125|          42|  Monday|\n",
      "|2022-10-24 00:00:...|3762.010009765625|3810.739990234375| 3741.64990234375|3797.340087890625|4747930000|      0.0|         0.0|   10|   -35.330078125| 69.090087890625|          43|  Monday|\n",
      "|2022-10-31 00:00:...| 3881.85009765625| 3893.72998046875|3863.179931640625| 3871.97998046875|4820620000|      0.0|         0.0|   10|    9.8701171875| 30.550048828125|          44|  Monday|\n",
      "|2022-11-07 00:00:...|  3780.7099609375|3813.949951171875|3764.699951171875|3806.800048828125|4341620000|      0.0|         0.0|   11|-26.090087890625|           49.25|          45|  Monday|\n",
      "|2022-11-14 00:00:...|3977.969970703125|4008.969970703125| 3956.39990234375|          3957.25|4561930000|      0.0|         0.0|   11| 20.719970703125| 52.570068359375|          46|  Monday|\n",
      "|2022-11-21 00:00:...| 3956.22998046875|           3962.0|3933.340087890625| 3949.93994140625|3850690000|      0.0|         0.0|   11|    6.2900390625| 28.659912109375|          47|  Monday|\n",
      "|2022-11-28 00:00:...|4005.360107421875| 4012.27001953125| 3955.77001953125| 3963.93994140625|3615430000|      0.0|         0.0|   11| 41.420166015625|            56.5|          48|  Monday|\n",
      "|2022-12-05 00:00:...| 4052.02001953125|4052.449951171875|3984.489990234375|3998.840087890625|4280820000|      0.0|         0.0|   12| 53.179931640625|   67.9599609375|          49|  Monday|\n",
      "|2022-12-12 00:00:...|  3939.2900390625|  3990.7099609375|3935.300048828125| 3990.56005859375|3904130000|      0.0|         0.0|   12| -51.27001953125| 55.409912109375|          50|  Monday|\n",
      "|2022-12-19 00:00:...|  3853.7900390625|3854.860107421875|  3800.0400390625|3817.659912109375|3969610000|      0.0|         0.0|   12| 36.130126953125| 54.820068359375|          51|  Monday|\n",
      "+--------------------+-----------------+-----------------+-----------------+-----------------+----------+---------+------------+-----+----------------+----------------+------------+--------+\n",
      "\n"
     ]
    }
   ],
   "source": [
    "from pyspark.sql.functions import dayofmonth, hour, dayofyear, month, year, weekofyear, dayofweek\n",
    "from pyspark.sql.functions import date_format\n",
    "from pyspark.sql.functions import col\n",
    "daily_df.createOrReplaceTempView(\"SPXDaily\")\n",
    "spark.sql('select * from SPXDaily \\\n",
    "           where ((date_format(Date, \"EEEE\") == \"Monday\") and \\\n",
    "                   year(Date) == 2022)').show(200)"
   ]
  },
  {
   "cell_type": "code",
   "execution_count": 106,
   "metadata": {},
   "outputs": [
    {
     "name": "stdout",
     "output_type": "stream",
     "text": [
      "+--------------------+-----------------+-----------------+-----------------+-----------------+----------+---------+------------+-----+----------------+----------------+------------+--------+------------------------------------------+\n",
      "|                Date|             Open|             High|              Low|            Close|    Volume|Dividends|Stock Splits|Month|            diff|   high_low_diff|week_of_year|week_day|date_format(CAST(Date AS TIMESTAMP), EEEE)|\n",
      "+--------------------+-----------------+-----------------+-----------------+-----------------+----------+---------+------------+-----+----------------+----------------+------------+--------+------------------------------------------+\n",
      "|2022-01-03 00:00:...| 4778.14013671875| 4796.64013671875|   4758.169921875| 4796.56005859375|3831020000|      0.0|         0.0|    1|   -18.419921875|  38.47021484375|           1|  Monday|                                    Monday|\n",
      "|2022-01-07 00:00:...|    4697.66015625|  4707.9501953125|   4662.740234375| 4677.02978515625|4181510000|      0.0|         0.0|    1|  20.63037109375|   45.2099609375|           1|  Friday|                                    Friday|\n",
      "|2022-01-10 00:00:...|    4655.33984375| 4673.02001953125|   4582.240234375|  4670.2900390625|4511810000|      0.0|         0.0|    1|  -14.9501953125|  90.77978515625|           2|  Monday|                                    Monday|\n",
      "|2022-01-14 00:00:...|   4637.990234375|  4665.1298828125|          4614.75| 4662.85009765625|4338490000|      0.0|         0.0|    1| -24.85986328125|   50.3798828125|           2|  Friday|                                    Friday|\n",
      "|2022-01-21 00:00:...|  4471.3798828125| 4494.52001953125|    4395.33984375| 4397.93994140625|5589100000|      0.0|         0.0|    1|  73.43994140625|  99.18017578125|           3|  Friday|                                    Friday|\n",
      "|2022-01-24 00:00:...| 4356.31982421875| 4417.35009765625|  4222.6201171875|  4410.1298828125|6928110000|      0.0|         0.0|    1| -53.81005859375| 194.72998046875|           4|  Monday|                                    Monday|\n",
      "|2022-01-28 00:00:...| 4336.18994140625| 4432.72021484375|  4292.4599609375| 4431.85009765625|5031090000|      0.0|         0.0|    1|    -95.66015625| 140.26025390625|           4|  Friday|                                    Friday|\n",
      "|2022-01-31 00:00:...|  4431.7900390625| 4516.89013671875| 4414.02001953125|  4515.5498046875|5098610000|      0.0|         0.0|    1|   -83.759765625|  102.8701171875|           5|  Monday|                                    Monday|\n",
      "|2022-02-04 00:00:...|  4482.7900390625|    4539.66015625|           4451.5| 4500.52978515625|4706290000|      0.0|         0.0|    2| -17.73974609375|     88.16015625|           5|  Friday|                                    Friday|\n",
      "|2022-02-07 00:00:...|          4505.75| 4521.85986328125| 4471.47021484375|  4483.8701171875|4228480000|      0.0|         0.0|    2|   21.8798828125|   50.3896484375|           6|  Monday|                                    Monday|\n",
      "|2022-02-11 00:00:...| 4506.27001953125|   4526.330078125|    4401.41015625| 4418.64013671875|5251500000|      0.0|         0.0|    2|   87.6298828125|   124.919921875|           6|  Friday|                                    Friday|\n",
      "|2022-02-14 00:00:...| 4412.60986328125| 4426.22021484375|    4364.83984375|   4401.669921875|4600390000|      0.0|         0.0|    2|  10.93994140625|  61.38037109375|           7|  Monday|                                    Monday|\n",
      "|2022-02-18 00:00:...| 4384.56982421875| 4394.60009765625| 4327.22021484375|  4348.8701171875|4708060000|      0.0|         0.0|    2|  35.69970703125|   67.3798828125|           7|  Friday|                                    Friday|\n",
      "|2022-02-25 00:00:...|  4298.3798828125|    4385.33984375|   4286.830078125| 4384.64990234375|5177060000|      0.0|         0.0|    2| -86.27001953125|    98.509765625|           8|  Friday|                                    Friday|\n",
      "|2022-02-28 00:00:...|   4354.169921875|    4388.83984375|  4315.1201171875| 4373.93994140625|6071370000|      0.0|         0.0|    2| -19.77001953125|   73.7197265625|           9|  Monday|                                    Monday|\n",
      "|2022-03-04 00:00:...|  4342.1201171875|  4342.1201171875| 4284.97998046875|  4328.8701171875|5797380000|      0.0|         0.0|    3|           13.25|  57.14013671875|           9|  Friday|                                    Friday|\n",
      "|2022-03-07 00:00:...|   4327.009765625|   4327.009765625| 4199.85009765625|    4201.08984375|6940470000|      0.0|         0.0|    3|   125.919921875| 127.15966796875|          10|  Monday|                                    Monday|\n",
      "|2022-03-11 00:00:...|           4279.5|   4291.009765625|   4200.490234375| 4204.31005859375|4938640000|      0.0|         0.0|    3|  75.18994140625|     90.51953125|          10|  Friday|                                    Friday|\n",
      "|2022-03-14 00:00:...|          4202.75| 4247.56982421875| 4161.72021484375| 4173.10986328125|5574920000|      0.0|         0.0|    3|  29.64013671875|    85.849609375|          11|  Monday|                                    Monday|\n",
      "|2022-03-18 00:00:...|    4407.33984375| 4465.39990234375| 4390.56982421875|  4463.1201171875|8278430000|      0.0|         0.0|    3|  -55.7802734375|    74.830078125|          11|  Friday|                                    Friday|\n",
      "|2022-03-21 00:00:...| 4462.39990234375|          4481.75|  4424.2998046875| 4461.18017578125|4869820000|      0.0|         0.0|    3|    1.2197265625|   57.4501953125|          12|  Monday|                                    Monday|\n",
      "|2022-03-25 00:00:...|    4522.91015625| 4546.02978515625| 4501.06982421875| 4543.06005859375|4305020000|      0.0|         0.0|    3| -20.14990234375|   44.9599609375|          12|  Friday|                                    Friday|\n",
      "|2022-03-28 00:00:...|    4541.08984375| 4575.64990234375| 4517.68994140625| 4575.52001953125|4312260000|      0.0|         0.0|    3| -34.43017578125|   57.9599609375|          13|  Monday|                                    Monday|\n",
      "|2022-04-01 00:00:...| 4540.31982421875|  4548.7001953125| 4507.56982421875| 4545.85986328125|4562940000|      0.0|         0.0|    4|   -5.5400390625|  41.13037109375|          13|  Friday|                                    Friday|\n",
      "|2022-04-04 00:00:...| 4547.97021484375|           4583.5|  4539.2099609375| 4582.64013671875|4547350000|      0.0|         0.0|    4|   -34.669921875|   44.2900390625|          14|  Monday|                                    Monday|\n",
      "|2022-04-08 00:00:...| 4494.14990234375|    4520.41015625| 4474.60009765625| 4488.27978515625|4083200000|      0.0|         0.0|    4|    5.8701171875|  45.81005859375|          14|  Friday|                                    Friday|\n",
      "|2022-04-11 00:00:...| 4462.64013671875| 4464.35009765625|  4408.3798828125| 4412.52978515625|4266290000|      0.0|         0.0|    4|   50.1103515625|  55.97021484375|          15|  Monday|                                    Monday|\n",
      "|2022-04-18 00:00:...|  4385.6298828125| 4410.31005859375|  4370.2998046875| 4391.68994140625|3910490000|      0.0|         0.0|    4|  -6.06005859375|  40.01025390625|          16|  Monday|                                    Monday|\n",
      "|2022-04-22 00:00:...|   4385.830078125|   4385.830078125|  4267.6201171875| 4271.77978515625|4651940000|      0.0|         0.0|    4| 114.05029296875|  118.2099609375|          16|  Friday|                                    Friday|\n",
      "|2022-04-25 00:00:...|    4255.33984375| 4299.02001953125| 4200.81982421875|  4296.1201171875|5240040000|      0.0|         0.0|    4|  -40.7802734375|   98.2001953125|          17|  Monday|                                    Monday|\n",
      "|2022-04-29 00:00:...|          4253.75| 4269.68017578125| 4124.27978515625| 4131.93017578125|5084030000|      0.0|         0.0|    4| 121.81982421875|   145.400390625|          17|  Friday|                                    Friday|\n",
      "|2022-05-02 00:00:...| 4130.60986328125| 4169.81005859375|4062.510009765625|  4155.3798828125|5163790000|      0.0|         0.0|    5| -24.77001953125|107.300048828125|          18|  Monday|                                    Monday|\n",
      "|2022-05-06 00:00:...|   4128.169921875| 4157.68994140625|4067.909912109375|    4123.33984375|5116940000|      0.0|         0.0|    5|     4.830078125| 89.780029296875|          18|  Friday|                                    Friday|\n",
      "|2022-05-09 00:00:...| 4081.27001953125| 4081.27001953125| 3975.47998046875|3991.239990234375|5954520000|      0.0|         0.0|    5| 90.030029296875|  105.7900390625|          19|  Monday|                                    Monday|\n",
      "|2022-05-13 00:00:...| 3963.89990234375|  4038.8798828125| 3963.89990234375|4023.889892578125|5183340000|      0.0|         0.0|    5|-59.989990234375|  74.97998046875|          19|  Friday|                                    Friday|\n",
      "|2022-05-16 00:00:...| 4013.02001953125|  4046.4599609375|3983.989990234375|4008.010009765625|4415030000|      0.0|         0.0|    5|  5.010009765625| 62.469970703125|          20|  Monday|                                    Monday|\n",
      "|2022-05-20 00:00:...|3927.760009765625|   3943.419921875|3810.320068359375|3901.360107421875|5130730000|      0.0|         0.0|    5|  26.39990234375|133.099853515625|          20|  Friday|                                    Friday|\n",
      "|2022-05-23 00:00:...|   3919.419921875|  3981.8798828125|  3909.0400390625|          3973.75|4420030000|      0.0|         0.0|    5|   -54.330078125|     72.83984375|          21|  Monday|                                    Monday|\n",
      "|2022-05-27 00:00:...|4077.429931640625|   4158.490234375|4077.429931640625|   4158.240234375|4375620000|      0.0|         0.0|    5|-80.810302734375| 81.060302734375|          21|  Friday|                                    Friday|\n",
      "|2022-06-03 00:00:...| 4137.56982421875|   4142.669921875|   4098.669921875|  4108.5400390625|3711110000|      0.0|         0.0|    6|  29.02978515625|            44.0|          22|  Friday|                                    Friday|\n",
      "|2022-06-06 00:00:...| 4134.72021484375| 4168.77978515625| 4109.18017578125| 4121.43017578125|4332700000|      0.0|         0.0|    6|   13.2900390625|    59.599609375|          23|  Monday|                                    Monday|\n",
      "|2022-06-10 00:00:...|3974.389892578125|3974.389892578125|3900.159912109375|3900.860107421875|4889640000|      0.0|         0.0|    6|  73.52978515625|  74.22998046875|          23|  Friday|                                    Friday|\n",
      "|2022-06-13 00:00:...| 3838.14990234375| 3838.14990234375|3734.300048828125|  3749.6298828125|5636890000|      0.0|         0.0|    6|  88.52001953125|103.849853515625|          24|  Monday|                                    Monday|\n",
      "|2022-06-17 00:00:...| 3665.89990234375|  3707.7099609375|  3636.8701171875|3674.840087890625|8520740000|      0.0|         0.0|    6| -8.940185546875|     70.83984375|          24|  Friday|                                    Friday|\n",
      "|2022-06-24 00:00:...|          3821.75| 3913.64990234375|          3821.75|3911.739990234375|8120260000|      0.0|         0.0|    6|-89.989990234375|  91.89990234375|          25|  Friday|                                    Friday|\n",
      "|2022-06-27 00:00:...|3920.760009765625|3927.719970703125|3889.659912109375|3900.110107421875|4325310000|      0.0|         0.0|    6|  20.64990234375|  38.06005859375|          26|  Monday|                                    Monday|\n",
      "|2022-07-01 00:00:...|           3781.0|3829.820068359375| 3752.10009765625|   3825.330078125|4046950000|      0.0|         0.0|    7|   -44.330078125| 77.719970703125|          26|  Friday|                                    Friday|\n",
      "|2022-07-08 00:00:...|3888.260009765625|           3918.5|3869.340087890625|  3899.3798828125|3521620000|      0.0|         0.0|    7|-11.119873046875| 49.159912109375|          27|  Friday|                                    Friday|\n",
      "|2022-07-11 00:00:...| 3880.93994140625| 3880.93994140625|3847.219970703125|3854.429931640625|3423480000|      0.0|         0.0|    7| 26.510009765625| 33.719970703125|          28|  Monday|                                    Monday|\n",
      "|2022-07-15 00:00:...|           3818.0|  3863.6201171875|3817.179931640625|3863.159912109375|4143800000|      0.0|         0.0|    7|-45.159912109375| 46.440185546875|          28|  Friday|                                    Friday|\n",
      "|2022-07-18 00:00:...|  3883.7900390625| 3902.43994140625|  3818.6298828125| 3830.85009765625|4046870000|      0.0|         0.0|    7|  52.93994140625|  83.81005859375|          29|  Monday|                                    Monday|\n",
      "|2022-07-22 00:00:...|3998.429931640625| 4012.43994140625|3938.860107421875|  3961.6298828125|3979240000|      0.0|         0.0|    7| 36.800048828125| 73.579833984375|          29|  Friday|                                    Friday|\n",
      "|2022-07-25 00:00:...|3965.719970703125|3975.300048828125|  3943.4599609375|3966.840087890625|3568340000|      0.0|         0.0|    7|   -1.1201171875| 31.840087890625|          30|  Monday|                                    Monday|\n",
      "|2022-07-29 00:00:...|   4087.330078125| 4140.14990234375|4079.219970703125|  4130.2900390625|4616360000|      0.0|         0.0|    7|  -42.9599609375| 60.929931640625|          30|  Friday|                                    Friday|\n",
      "|2022-08-01 00:00:...|  4112.3798828125|  4144.9501953125| 4096.02001953125|  4118.6298828125|4202810000|      0.0|         0.0|    8|           -6.25|  48.93017578125|          31|  Monday|                                    Monday|\n",
      "|2022-08-05 00:00:...|  4115.8701171875|   4151.580078125| 4107.31005859375| 4145.18994140625|4085940000|      0.0|         0.0|    8| -29.31982421875|  44.27001953125|          31|  Friday|                                    Friday|\n",
      "|2022-08-08 00:00:...| 4155.93017578125|  4186.6201171875| 4128.97021484375| 4140.06005859375|4221090000|      0.0|         0.0|    8|   15.8701171875|  57.64990234375|          32|  Monday|                                    Monday|\n",
      "|2022-08-12 00:00:...| 4225.02001953125| 4280.47021484375| 4219.77978515625| 4280.14990234375|3788010000|      0.0|         0.0|    8|  -55.1298828125|   60.6904296875|          32|  Friday|                                    Friday|\n",
      "|2022-08-15 00:00:...|  4269.3701171875|  4301.7900390625| 4256.89990234375| 4297.14013671875|3696830000|      0.0|         0.0|    8| -27.77001953125|  44.89013671875|          33|  Monday|                                    Monday|\n",
      "|2022-08-19 00:00:...| 4266.31005859375| 4266.31005859375|  4218.7001953125| 4228.47998046875|3761340000|      0.0|         0.0|    8|    37.830078125|  47.60986328125|          33|  Friday|                                    Friday|\n",
      "|2022-08-22 00:00:...|   4195.080078125|   4195.080078125| 4129.85986328125|   4137.990234375|3907430000|      0.0|         0.0|    8|     57.08984375|  65.22021484375|          34|  Monday|                                    Monday|\n",
      "|2022-08-26 00:00:...|   4198.740234375|  4203.0400390625|4057.659912109375|4057.659912109375|3832750000|      0.0|         0.0|    8|141.080322265625|145.380126953125|          34|  Friday|                                    Friday|\n",
      "|2022-08-29 00:00:...|   4034.580078125|4062.989990234375|   4017.419921875|4030.610107421875|3396510000|      0.0|         0.0|    8|  3.969970703125| 45.570068359375|          35|  Monday|                                    Monday|\n",
      "|2022-09-02 00:00:...|3994.659912109375|4018.429931640625|  3906.2099609375|3924.260009765625|3665850000|      0.0|         0.0|    9|  70.39990234375|112.219970703125|          35|  Friday|                                    Friday|\n",
      "|2022-09-09 00:00:...| 4022.93994140625| 4076.81005859375| 4022.93994140625|4067.360107421875|3901940000|      0.0|         0.0|    9|-44.420166015625|   53.8701171875|          36|  Friday|                                    Friday|\n",
      "|2022-09-12 00:00:...|   4083.669921875| 4119.27978515625|   4083.669921875|    4110.41015625|3814200000|      0.0|         0.0|    9|   -26.740234375|  35.60986328125|          37|  Monday|                                    Monday|\n",
      "|2022-09-16 00:00:...|3880.949951171875|3880.949951171875|   3837.080078125|   3873.330078125|7954650000|      0.0|         0.0|    9|  7.619873046875| 43.869873046875|          37|  Friday|                                    Friday|\n",
      "|2022-09-19 00:00:...|3849.909912109375|3900.449951171875|           3838.5|3899.889892578125|3766850000|      0.0|         0.0|    9| -49.97998046875| 61.949951171875|          38|  Monday|                                    Monday|\n",
      "|2022-09-23 00:00:...|3727.139892578125|3727.139892578125|3647.469970703125| 3693.22998046875|5144270000|      0.0|         0.0|    9| 33.909912109375|    79.669921875|          38|  Friday|                                    Friday|\n",
      "|2022-09-26 00:00:...|3682.719970703125|   3715.669921875|3644.760009765625|  3655.0400390625|4886140000|      0.0|         0.0|    9| 27.679931640625| 70.909912109375|          39|  Monday|                                    Monday|\n",
      "|2022-09-30 00:00:...| 3633.47998046875| 3671.43994140625|  3584.1298828125|  3585.6201171875|5645360000|      0.0|         0.0|    9|  47.85986328125|  87.31005859375|          39|  Friday|                                    Friday|\n",
      "|2022-10-03 00:00:...|3609.780029296875| 3698.35009765625|3604.929931640625|3678.429931640625|4806680000|      0.0|         0.0|   10| -68.64990234375| 93.420166015625|          40|  Monday|                                    Monday|\n",
      "|2022-10-07 00:00:...|3706.739990234375|3706.739990234375| 3620.72998046875|3639.659912109375|4449660000|      0.0|         0.0|   10|    67.080078125| 86.010009765625|          40|  Friday|                                    Friday|\n",
      "|2022-10-10 00:00:...|3647.510009765625|   3652.169921875| 3588.10009765625|3612.389892578125|3834320000|      0.0|         0.0|   10|   35.1201171875|  64.06982421875|          41|  Monday|                                    Monday|\n",
      "|2022-10-14 00:00:...|3690.409912109375|           3712.0|3579.679931640625|3583.070068359375|4243030000|      0.0|         0.0|   10|    107.33984375|132.320068359375|          41|  Friday|                                    Friday|\n",
      "|2022-10-17 00:00:...| 3638.64990234375| 3689.72998046875| 3638.64990234375|3677.949951171875|4352780000|      0.0|         0.0|   10|-39.300048828125|    51.080078125|          42|  Monday|                                    Monday|\n",
      "|2022-10-21 00:00:...| 3657.10009765625|3757.889892578125|   3647.419921875|          3752.75|5078020000|      0.0|         0.0|   10| -95.64990234375|110.469970703125|          42|  Friday|                                    Friday|\n",
      "|2022-10-24 00:00:...|3762.010009765625|3810.739990234375| 3741.64990234375|3797.340087890625|4747930000|      0.0|         0.0|   10|   -35.330078125| 69.090087890625|          43|  Monday|                                    Monday|\n",
      "|2022-10-28 00:00:...|3808.260009765625|   3905.419921875|3808.260009765625| 3901.06005859375|4459410000|      0.0|         0.0|   10|-92.800048828125| 97.159912109375|          43|  Friday|                                    Friday|\n",
      "|2022-10-31 00:00:...| 3881.85009765625| 3893.72998046875|3863.179931640625| 3871.97998046875|4820620000|      0.0|         0.0|   10|    9.8701171875| 30.550048828125|          44|  Monday|                                    Monday|\n",
      "|2022-11-04 00:00:...| 3766.97998046875|3796.340087890625|3708.840087890625|3770.550048828125|5400180000|      0.0|         0.0|   11| -3.570068359375|            87.5|          44|  Friday|                                    Friday|\n",
      "|2022-11-07 00:00:...|  3780.7099609375|3813.949951171875|3764.699951171875|3806.800048828125|4341620000|      0.0|         0.0|   11|-26.090087890625|           49.25|          45|  Monday|                                    Monday|\n",
      "|2022-11-11 00:00:...|3963.719970703125| 4001.47998046875|3944.820068359375|3992.929931640625|5593310000|      0.0|         0.0|   11|  -29.2099609375| 56.659912109375|          45|  Friday|                                    Friday|\n",
      "|2022-11-14 00:00:...|3977.969970703125|4008.969970703125| 3956.39990234375|          3957.25|4561930000|      0.0|         0.0|   11| 20.719970703125| 52.570068359375|          46|  Monday|                                    Monday|\n",
      "|2022-11-18 00:00:...|3966.389892578125|3979.889892578125| 3935.97998046875|3965.340087890625|4037360000|      0.0|         0.0|   11|    1.0498046875| 43.909912109375|          46|  Friday|                                    Friday|\n",
      "|2022-11-21 00:00:...| 3956.22998046875|           3962.0|3933.340087890625| 3949.93994140625|3850690000|      0.0|         0.0|   11|    6.2900390625| 28.659912109375|          47|  Monday|                                    Monday|\n",
      "|2022-11-25 00:00:...|4023.340087890625| 4034.02001953125|4020.760009765625|  4026.1201171875|1706460000|      0.0|         0.0|   11| -2.780029296875| 13.260009765625|          47|  Friday|                                    Friday|\n",
      "|2022-11-28 00:00:...|4005.360107421875| 4012.27001953125| 3955.77001953125| 3963.93994140625|3615430000|      0.0|         0.0|   11| 41.420166015625|            56.5|          48|  Monday|                                    Monday|\n",
      "|2022-12-02 00:00:...|   4040.169921875| 4080.47998046875|  4026.6298828125|4071.699951171875|4012620000|      0.0|         0.0|   12|-31.530029296875|  53.85009765625|          48|  Friday|                                    Friday|\n",
      "|2022-12-05 00:00:...| 4052.02001953125|4052.449951171875|3984.489990234375|3998.840087890625|4280820000|      0.0|         0.0|   12| 53.179931640625|   67.9599609375|          49|  Monday|                                    Monday|\n",
      "|2022-12-09 00:00:...|   3954.169921875| 3977.02001953125|  3933.0400390625|  3934.3798828125|3888260000|      0.0|         0.0|   12|   19.7900390625|  43.97998046875|          49|  Friday|                                    Friday|\n",
      "|2022-12-12 00:00:...|  3939.2900390625|  3990.7099609375|3935.300048828125| 3990.56005859375|3904130000|      0.0|         0.0|   12| -51.27001953125| 55.409912109375|          50|  Monday|                                    Monday|\n",
      "|2022-12-16 00:00:...|3890.909912109375|3890.909912109375|3827.909912109375|3852.360107421875|7493660000|      0.0|         0.0|   12|   38.5498046875|            63.0|          50|  Friday|                                    Friday|\n",
      "|2022-12-19 00:00:...|  3853.7900390625|3854.860107421875|  3800.0400390625|3817.659912109375|3969610000|      0.0|         0.0|   12| 36.130126953125| 54.820068359375|          51|  Monday|                                    Monday|\n",
      "|2022-12-23 00:00:...|3815.110107421875|3845.800048828125|3797.010009765625|3844.820068359375|2819280000|      0.0|         0.0|   12|  -29.7099609375|   48.7900390625|          51|  Friday|                                    Friday|\n",
      "|2022-12-30 00:00:...| 3829.06005859375| 3839.85009765625|3800.340087890625|           3839.5|2979870000|      0.0|         0.0|   12| -10.43994140625| 39.510009765625|          52|  Friday|                                    Friday|\n",
      "+--------------------+-----------------+-----------------+-----------------+-----------------+----------+---------+------------+-----+----------------+----------------+------------+--------+------------------------------------------+\n",
      "\n"
     ]
    }
   ],
   "source": [
    "from pyspark.sql.functions import dayofmonth, hour, dayofyear, month, year, weekofyear, dayofweek\n",
    "from pyspark.sql.functions import date_format\n",
    "from pyspark.sql.functions import col\n",
    "daily_df.createOrReplaceTempView(\"SPXDaily\")\n",
    "spark.sql('select *, date_format(Date, \"EEEE\") from SPXDaily \\\n",
    "           where ((date_format(Date, \"EEEE\") in (\"Monday\", \"Friday\")) and \\\n",
    "                   year(Date) == 2022)').show(200)"
   ]
  },
  {
   "cell_type": "code",
   "execution_count": 107,
   "metadata": {},
   "outputs": [
    {
     "name": "stdout",
     "output_type": "stream",
     "text": [
      "+-------------------------+------------------------------------------+-------------------+\n",
      "|month(CAST(Date AS DATE))|date_format(CAST(Date AS TIMESTAMP), EEEE)|          avg(diff)|\n",
      "+-------------------------+------------------------------------------+-------------------+\n",
      "|                        1|                                    Friday|   -6.6124267578125|\n",
      "|                        1|                                    Monday|  -42.7349853515625|\n",
      "|                        1|                                  Thursday|   47.6402587890625|\n",
      "|                        1|                                   Tuesday|     8.090087890625|\n",
      "|                        1|                                 Wednesday|     50.85498046875|\n",
      "|                        2|                                    Friday|    4.8299560546875|\n",
      "|                        2|                                    Monday|  4.349934895833333|\n",
      "|                        2|                                  Thursday|   12.5001220703125|\n",
      "|                        2|                                   Tuesday|   -20.574951171875|\n",
      "|                        2|                                 Wednesday|    4.2501220703125|\n",
      "|                        3|                                    Friday|      3.12744140625|\n",
      "|                        3|                                    Monday|     30.58740234375|\n",
      "|                        3|                                  Thursday|     -3.45615234375|\n",
      "|                        3|                                   Tuesday|     -11.2080078125|\n",
      "|                        3|                                 Wednesday|    -25.97392578125|\n",
      "|                        4|                                    Friday|    59.050048828125|\n",
      "|                        4|                                    Monday|   -7.8499755859375|\n",
      "|                        4|                                  Thursday|   15.3900146484375|\n",
      "|                        4|                                   Tuesday|   29.7073974609375|\n",
      "|                        4|                                 Wednesday|     -5.97509765625|\n",
      "|                        5|                                    Friday|      -27.392578125|\n",
      "|                        5|                                    Monday|    3.9849853515625|\n",
      "|                        5|                                  Thursday|    5.5999755859375|\n",
      "|                        5|                                   Tuesday|       0.3958984375|\n",
      "|                        5|                                 Wednesday|   3.76763916015625|\n",
      "|                        6|                                    Friday|    0.9073486328125|\n",
      "|                        6|                                    Monday| 40.819986979166664|\n",
      "|                        6|                                  Thursday|        8.683984375|\n",
      "|                        6|                                   Tuesday|   1.45001220703125|\n",
      "|                        6|                                 Wednesday|     6.843994140625|\n",
      "|                        7|                                    Friday|   -21.353955078125|\n",
      "|                        7|                                    Monday| 26.109944661458332|\n",
      "|                        7|                                  Thursday|  -39.9849853515625|\n",
      "|                        7|                                   Tuesday|    -12.35498046875|\n",
      "|                        7|                                 Wednesday|  -32.9925537109375|\n",
      "|                        8|                                    Friday|  23.61517333984375|\n",
      "|                        8|                                    Monday|     8.581982421875|\n",
      "|                        8|                                  Thursday|    -8.357666015625|\n",
      "|                        8|                                   Tuesday|    13.673876953125|\n",
      "|                        8|                                 Wednesday|     -7.72412109375|\n",
      "|                        9|                                    Friday|    23.073876953125|\n",
      "|                        9|                                    Monday|-16.346761067708332|\n",
      "|                        9|                                  Thursday|      5.12197265625|\n",
      "|                        9|                                   Tuesday|     46.39501953125|\n",
      "|                        9|                                 Wednesday| -15.33758544921875|\n",
      "|                       10|                                    Friday|  -3.50750732421875|\n",
      "|                       10|                                    Monday|   -19.657958984375|\n",
      "|                       10|                                  Thursday| -17.85748291015625|\n",
      "|                       10|                                   Tuesday| -22.71002197265625|\n",
      "|                       10|                                 Wednesday|  -3.22747802734375|\n",
      "|                       11|                                    Friday|   -8.6275634765625|\n",
      "|                       11|                                    Monday|  10.58502197265625|\n",
      "|                       11|                                  Thursday|-36.806722005208336|\n",
      "|                       11|                                   Tuesday|     3.553955078125|\n",
      "|                       11|                                 Wednesday|       4.7439453125|\n",
      "|                       12|                                    Friday|    -2.668017578125|\n",
      "|                       12|                                    Monday| 12.680013020833334|\n",
      "|                       12|                                  Thursday|     8.902001953125|\n",
      "|                       12|                                   Tuesday|  27.00994873046875|\n",
      "|                       12|                                 Wednesday|    6.7425537109375|\n",
      "+-------------------------+------------------------------------------+-------------------+\n",
      "\n"
     ]
    }
   ],
   "source": [
    "spark.sql('select month(Date), date_format(Date, \"EEEE\"), avg(diff) from SPXDaily \\\n",
    "           where year(Date) == 2022 \\\n",
    "           group by month(Date), date_format(Date, \"EEEE\") \\\n",
    "           order by month(Date), date_format(Date, \"EEEE\")').show(200)"
   ]
  },
  {
   "cell_type": "code",
   "execution_count": 108,
   "metadata": {},
   "outputs": [
    {
     "name": "stdout",
     "output_type": "stream",
     "text": [
      "+--------------------+-----------------+-----------------+-----------------+-----------------+----------+---------+------------+-----+----------------+---------------+------------+--------+------------------------------------------+\n",
      "|                Date|             Open|             High|              Low|            Close|    Volume|Dividends|Stock Splits|Month|            diff|  high_low_diff|week_of_year|week_day|date_format(CAST(Date AS TIMESTAMP), EEEE)|\n",
      "+--------------------+-----------------+-----------------+-----------------+-----------------+----------+---------+------------+-----+----------------+---------------+------------+--------+------------------------------------------+\n",
      "|2022-07-07 00:00:...| 3858.85009765625|  3910.6298828125| 3858.85009765625|  3902.6201171875|4057770000|      0.0|         0.0|    7| -43.77001953125| 51.77978515625|          27|Thursday|                                  Thursday|\n",
      "|2022-07-14 00:00:...|3763.989990234375|3796.409912109375| 3721.56005859375|  3790.3798828125|4199690000|      0.0|         0.0|    7|-26.389892578125|74.849853515625|          28|Thursday|                                  Thursday|\n",
      "|2022-07-21 00:00:...|3955.469970703125|  3999.2900390625|3927.639892578125|3998.949951171875|4132790000|      0.0|         0.0|    7| -43.47998046875|71.650146484375|          29|Thursday|                                  Thursday|\n",
      "|2022-07-28 00:00:...|  4026.1298828125|4078.949951171875|3992.969970703125|4072.429931640625|4413000000|      0.0|         0.0|    7|-46.300048828125| 85.97998046875|          30|Thursday|                                  Thursday|\n",
      "+--------------------+-----------------+-----------------+-----------------+-----------------+----------+---------+------------+-----+----------------+---------------+------------+--------+------------------------------------------+\n",
      "\n"
     ]
    }
   ],
   "source": [
    "from pyspark.sql.functions import dayofmonth, hour, dayofyear, month, year, weekofyear, dayofweek\n",
    "from pyspark.sql.functions import date_format\n",
    "from pyspark.sql.functions import col\n",
    "daily_df.createOrReplaceTempView(\"SPXDaily\")\n",
    "spark.sql('select *, date_format(Date, \"EEEE\") from SPXDaily \\\n",
    "           where ((date_format(Date, \"EEEE\") in (\"Thursday\")) and \\\n",
    "                   year(Date) == 2022) and \\\n",
    "                   month(Date) == 7').show(200)"
   ]
  },
  {
   "cell_type": "code",
   "execution_count": 109,
   "metadata": {},
   "outputs": [
    {
     "name": "stdout",
     "output_type": "stream",
     "text": [
      "+--------------------+--------------------+\n",
      "|           min(Date)|           max(Date)|\n",
      "+--------------------+--------------------+\n",
      "|2021-01-05 00:00:...|2022-12-30 00:00:...|\n",
      "+--------------------+--------------------+\n",
      "\n"
     ]
    }
   ],
   "source": [
    "daily_df.createOrReplaceTempView(\"SPXDaily\")\n",
    "spark.sql('select min(Date), max(Date) from SPXDaily where diff < 20 or diff < -20' ).show()"
   ]
  },
  {
   "cell_type": "code",
   "execution_count": 110,
   "metadata": {},
   "outputs": [
    {
     "data": {
      "text/plain": [
       "[Row(Date='2022-08-15 00:00:00-04:00', Open=301.78668212890625, High=313.1333312988281, Low=301.2300109863281, Close=309.32000732421875, Volume=89359200, Dividends=0.0, Stock Splits=0.0),\n",
       " Row(Date='2022-08-16 00:00:00-04:00', Open=311.6666564941406, High=314.6666564941406, Low=302.8833312988281, Close=306.5633239746094, Volume=88136400, Dividends=0.0, Stock Splits=0.0),\n",
       " Row(Date='2022-08-17 00:00:00-04:00', Open=303.39666748046875, High=309.65667724609375, Low=300.0333251953125, Close=303.9966735839844, Volume=68766000, Dividends=0.0, Stock Splits=0.0),\n",
       " Row(Date='2022-08-18 00:00:00-04:00', Open=306.0, High=306.5, Low=301.85333251953125, Close=302.8699951171875, Volume=47500500, Dividends=0.0, Stock Splits=0.0),\n",
       " Row(Date='2022-08-19 00:00:00-04:00', Open=299.0, High=300.3599853515625, Low=292.5, Close=296.6666564941406, Volume=61395300, Dividends=0.0, Stock Splits=0.0)]"
      ]
     },
     "execution_count": 110,
     "metadata": {},
     "output_type": "execute_result"
    }
   ],
   "source": [
    "import yfinance as yf\n",
    "import csv\n",
    "\n",
    "ticker = 'TSLA'\n",
    "#^GSPC #TSLA\n",
    "start_dt = '2022-8-15'\n",
    "end_dt = '2022-8-24'\n",
    "frequency = '1d'\n",
    "\n",
    "#get data for TSLA\n",
    "data = yf.Ticker(ticker)\n",
    "#ticker_name = data.info['longName']\n",
    "\n",
    "#get weekly historical prices for this ticker\n",
    "df = data.history(interval = frequency, start = start_dt, end = end_dt)\n",
    "# write data into a csv file\n",
    "df.to_csv('spx.csv')\n",
    "\n",
    "# Let Spark know about the header and infer the Schema types!\n",
    "df = spark.read.csv('spx.csv',inferSchema=True,header=True)\n",
    "df.head(5)\n"
   ]
  },
  {
   "cell_type": "code",
   "execution_count": 111,
   "metadata": {},
   "outputs": [
    {
     "data": {
      "text/plain": [
       "309.32000732421875"
      ]
     },
     "execution_count": 111,
     "metadata": {},
     "output_type": "execute_result"
    }
   ],
   "source": [
    "df.head()[4]"
   ]
  },
  {
   "cell_type": "code",
   "execution_count": 112,
   "metadata": {},
   "outputs": [
    {
     "name": "stdout",
     "output_type": "stream",
     "text": [
      "+---------------+----------------+---------------+-----------------------+\n",
      "|dayofyear(Date)|weekofyear(Date)|dayofweek(Date)|date_format(Date, EEEE)|\n",
      "+---------------+----------------+---------------+-----------------------+\n",
      "|            227|              33|              2|                 Monday|\n",
      "|            228|              33|              3|                Tuesday|\n",
      "|            229|              33|              4|              Wednesday|\n",
      "|            230|              33|              5|               Thursday|\n",
      "|            231|              33|              6|                 Friday|\n",
      "|            234|              34|              2|                 Monday|\n",
      "|            235|              34|              3|                Tuesday|\n",
      "+---------------+----------------+---------------+-----------------------+\n",
      "\n"
     ]
    }
   ],
   "source": [
    "from pyspark.sql.functions import dayofmonth, hour, dayofyear, month, year, weekofyear, dayofweek\n",
    "from pyspark.sql.functions import date_format, col\n",
    "df.select(dayofyear(df['Date']), weekofyear(df['Date']), dayofweek(df['Date']), date_format(col(\"Date\"), \"EEEE\")).show()"
   ]
  },
  {
   "cell_type": "code",
   "execution_count": 113,
   "metadata": {},
   "outputs": [
    {
     "name": "stdout",
     "output_type": "stream",
     "text": [
      "+--------------------+-----------------+-----------------+-----------------+-----------------+--------+---------+------------+\n",
      "|                Date|             Open|             High|              Low|            Close|  Volume|Dividends|Stock Splits|\n",
      "+--------------------+-----------------+-----------------+-----------------+-----------------+--------+---------+------------+\n",
      "|2022-08-22 00:00:...| 291.913330078125|292.3999938964844|286.2966613769531| 289.913330078125|55843200|      0.0|         0.0|\n",
      "|2022-08-23 00:00:...|291.4533386230469|  298.82666015625|  287.92333984375|296.4533386230469|63984900|      0.0|         0.0|\n",
      "+--------------------+-----------------+-----------------+-----------------+-----------------+--------+---------+------------+\n",
      "\n"
     ]
    }
   ],
   "source": [
    "df.filter((dayofmonth(df['Date']) > 20) & (month(df['Date']) > 3)).show()"
   ]
  },
  {
   "cell_type": "code",
   "execution_count": 114,
   "metadata": {},
   "outputs": [
    {
     "name": "stdout",
     "output_type": "stream",
     "text": [
      "+--------------------+----------------+-----------------+------------------+-----------------+--------+---------+------------+\n",
      "|                Date|            Open|             High|               Low|            Close|  Volume|Dividends|Stock Splits|\n",
      "+--------------------+----------------+-----------------+------------------+-----------------+--------+---------+------------+\n",
      "|2022-08-18 00:00:...|           306.0|            306.5|301.85333251953125|302.8699951171875|47500500|      0.0|         0.0|\n",
      "|2022-08-19 00:00:...|           299.0|300.3599853515625|             292.5|296.6666564941406|61395300|      0.0|         0.0|\n",
      "|2022-08-22 00:00:...|291.913330078125|292.3999938964844| 286.2966613769531| 289.913330078125|55843200|      0.0|         0.0|\n",
      "+--------------------+----------------+-----------------+------------------+-----------------+--------+---------+------------+\n",
      "\n"
     ]
    }
   ],
   "source": [
    "#df.filter((df['Volume'].between (40000000, 42780400))).show()\n",
    "#df.where((df['Volume'].between (40000000, 42780400))).show()\n",
    "df.filter((df['Volume'] >= 40000000) & (df['Volume'] < 63984900)).show()"
   ]
  },
  {
   "cell_type": "code",
   "execution_count": 115,
   "metadata": {},
   "outputs": [
    {
     "name": "stdout",
     "output_type": "stream",
     "text": [
      "+----------+-------------------+\n",
      "|avg(Month)|        avg(Volume)|\n",
      "+----------+-------------------+\n",
      "|       8.0|6.785507142857143E7|\n",
      "+----------+-------------------+\n",
      "\n"
     ]
    }
   ],
   "source": [
    "month_df = df.withColumn('Month', month(df['Date']))\n",
    "month_df.groupBy('Month').mean()[['avg(Month)', 'avg(Volume)']].orderBy('avg(Month)').show()\n",
    "\n",
    "# newdf = df.withColumn(\"Year\",year(df['Date']))\n",
    "# newdf.groupBy(\"Year\").mean()[['avg(Year)','avg(Close)']].show()"
   ]
  },
  {
   "cell_type": "code",
   "execution_count": 116,
   "metadata": {},
   "outputs": [
    {
     "name": "stdout",
     "output_type": "stream",
     "text": [
      "+----------+-------------------+\n",
      "|avg(Month)|        avg(Volume)|\n",
      "+----------+-------------------+\n",
      "|       8.0|6.785507142857143E7|\n",
      "+----------+-------------------+\n",
      "\n"
     ]
    }
   ],
   "source": [
    "month_df = df.withColumn('Month', month(df['Date']))\n",
    "month_df.groupBy('Month').mean()[['avg(Month)', 'avg(Volume)']].sort('avg(Month)').show()"
   ]
  },
  {
   "cell_type": "code",
   "execution_count": 117,
   "metadata": {
    "scrolled": true
   },
   "outputs": [
    {
     "name": "stdout",
     "output_type": "stream",
     "text": [
      "+----------+-------------------+\n",
      "|avg(Month)|        avg(Volume)|\n",
      "+----------+-------------------+\n",
      "|       8.0|6.785507142857143E7|\n",
      "+----------+-------------------+\n",
      "\n"
     ]
    }
   ],
   "source": [
    "month_df = df.withColumn('Month', month(df['Date']))\n",
    "month_df.groupBy('Month').mean()[['avg(Month)', 'avg(Volume)']].orderBy('avg(Month)').show()"
   ]
  }
 ],
 "metadata": {
  "kernelspec": {
   "display_name": "Python 3",
   "language": "python",
   "name": "python3"
  },
  "language_info": {
   "codemirror_mode": {
    "name": "ipython",
    "version": 3
   },
   "file_extension": ".py",
   "mimetype": "text/x-python",
   "name": "python",
   "nbconvert_exporter": "python",
   "pygments_lexer": "ipython3",
   "version": "3.8.3"
  }
 },
 "nbformat": 4,
 "nbformat_minor": 4
}
